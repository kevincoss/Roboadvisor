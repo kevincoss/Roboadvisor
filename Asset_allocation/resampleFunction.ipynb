{
 "cells": [
  {
   "cell_type": "code",
   "execution_count": 1,
   "metadata": {},
   "outputs": [
    {
     "data": {
      "text/plain": [
       "(            Data\n",
       " 2020-01-01     1\n",
       " 2020-01-02     2\n",
       " 2020-01-03     3\n",
       " 2020-01-04     4\n",
       " 2020-01-05     5,\n",
       "             Data\n",
       " 2023-12-27  1457\n",
       " 2023-12-28  1458\n",
       " 2023-12-29  1459\n",
       " 2023-12-30  1460\n",
       " 2023-12-31  1461,\n",
       " 1461)"
      ]
     },
     "execution_count": 1,
     "metadata": {},
     "output_type": "execute_result"
    }
   ],
   "source": [
    "import pandas as pd\n",
    "\n",
    "# 지정된 날짜 범위 생성\n",
    "start_date = '2020-01-01'\n",
    "end_date = '2023-12-31'\n",
    "dates = pd.date_range(start=start_date, end=end_date)\n",
    "\n",
    "# 데이터 생성 (1부터 데이터 개수까지)\n",
    "data = range(1, len(dates) + 1)\n",
    "\n",
    "# DataFrame 생성\n",
    "df = pd.DataFrame(data, index=dates, columns=['Data'])\n",
    "\n",
    "# 생성된 DataFrame 확인\n",
    "df.head(), df.tail(), len(df)"
   ]
  },
  {
   "cell_type": "code",
   "execution_count": 12,
   "metadata": {},
   "outputs": [
    {
     "name": "stdout",
     "output_type": "stream",
     "text": [
      ".last(): \n",
      "            Data\n",
      "2020-12-31   366\n",
      "2021-12-31   731\n",
      "2022-12-31  1096\n",
      "2023-12-31  1461\n",
      "==============================\n",
      ".sum(): \n",
      "              Data\n",
      "2020-12-31   67161\n",
      "2021-12-31  200385\n",
      "2022-12-31  333610\n",
      "2023-12-31  466835\n",
      "==============================\n",
      ".mean(): \n",
      "              Data\n",
      "2020-12-31   183.5\n",
      "2021-12-31   549.0\n",
      "2022-12-31   914.0\n",
      "2023-12-31  1279.0\n"
     ]
    }
   ],
   "source": [
    "print(f\".last(): \\n{df.resample('Y').last()}\")\n",
    "print(\"=\" * 30)\n",
    "print(f\".sum(): \\n{df.resample('Y').sum()}\")\n",
    "print(\"=\" * 30)\n",
    "print(f\".mean(): \\n{df.resample('Y').mean()}\")"
   ]
  },
  {
   "cell_type": "code",
   "execution_count": 20,
   "metadata": {},
   "outputs": [
    {
     "name": "stdout",
     "output_type": "stream",
     "text": [
      "last index\n",
      "Data    366\n",
      "Name: 2020-12-31 00:00:00, dtype: int64\n",
      "Data    731\n",
      "Name: 2021-12-31 00:00:00, dtype: int64\n",
      "Data    1096\n",
      "Name: 2022-12-31 00:00:00, dtype: int64\n",
      "Data    1461\n",
      "Name: 2023-12-31 00:00:00, dtype: int64\n",
      "\n",
      "\n",
      "sum index\n",
      "Data    67161\n",
      "dtype: int64\n",
      "Data    200385\n",
      "dtype: int64\n",
      "Data    333610\n",
      "dtype: int64\n",
      "Data    466835\n",
      "dtype: int64\n",
      "\n",
      "\n",
      "mean index\n",
      "Data    183.5\n",
      "dtype: float64\n",
      "Data    549.0\n",
      "dtype: float64\n",
      "Data    914.0\n",
      "dtype: float64\n",
      "Data    1279.0\n",
      "dtype: float64\n"
     ]
    }
   ],
   "source": [
    "print(\"last index\")\n",
    "print(df.loc['2020-12-31'])\n",
    "print(df.loc['2021-12-31'])\n",
    "print(df.loc['2022-12-31'])\n",
    "print(df.loc['2023-12-31'])\n",
    "print(\"\\n\")\n",
    "\n",
    "print(\"sum index\")\n",
    "print(df.loc['2020-01-01':'2020-12-31'].sum())\n",
    "print(df.loc['2021-01-01':'2021-12-31'].sum())\n",
    "print(df.loc['2022-01-01':'2022-12-31'].sum())\n",
    "print(df.loc['2023-01-01':'2024-12-31'].sum())\n",
    "print(\"\\n\")\n",
    "\n",
    "print(\"mean index\")\n",
    "print(df.loc['2020-01-01':'2020-12-31'].mean())\n",
    "print(df.loc['2021-01-01':'2021-12-31'].mean())\n",
    "print(df.loc['2022-01-01':'2022-12-31'].mean())\n",
    "print(df.loc['2023-01-01':'2024-12-31'].mean())\n"
   ]
  },
  {
   "cell_type": "markdown",
   "metadata": {},
   "source": [
    "### 결론:\n",
    "- resample 함수는 datetime 날짜형 데이터를 통해 특정 조건을 기준으로 데이터를 묶어주는 역할을 수행한다.\n",
    "    - groupby() 함수와 비슷함.\n",
    "- .last(): 해당 기준을 충족하는 데이터 중 마지막 데이터에 해당하는 값을 출력.\n",
    "- .sum(): 해당 기준을 충족하는 모든 데이터를 더함.\n",
    "- .mean(): 해당 기준을 충족하는 모든 데이터의 평균."
   ]
  }
 ],
 "metadata": {
  "kernelspec": {
   "display_name": "Python 3",
   "language": "python",
   "name": "python3"
  },
  "language_info": {
   "codemirror_mode": {
    "name": "ipython",
    "version": 3
   },
   "file_extension": ".py",
   "mimetype": "text/x-python",
   "name": "python",
   "nbconvert_exporter": "python",
   "pygments_lexer": "ipython3",
   "version": "3.8.18"
  }
 },
 "nbformat": 4,
 "nbformat_minor": 2
}
