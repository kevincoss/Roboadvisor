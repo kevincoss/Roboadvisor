{
 "cells": [
  {
   "cell_type": "markdown",
   "id": "9aef60ca-2344-43ef-99f8-a535ae0c3953",
   "metadata": {},
   "source": [
    "### 전처리\n",
    "\n",
    "> Data\n",
    "- Input: FMguide에서 다운받은 excel 파일\n",
    "- Output: csv file (아웃라이어 찾기, Stationary 적용 전 파일)\n",
    "\n",
    "> Process\n",
    "1. Excel 데이터 불러오고 기본 데이터프레임 형식으로 전처리\n",
    "2. rf(risk free rate) 데이터(yfinance) 불러오기 및 데이터 병합\n",
    "3. ROE 계산\n",
    "4. COE 계산\n",
    "5. GM 계산\n",
    "6. 일반수익률 계산(n일 후 종목 종가 - 종목 종가 / 종목 종가)\n",
    "7. 상대수익률 계산(종목 수익률 - 시장 수익률)\n",
    "8. 데이터 내보내기\n",
    "\n",
    "> 코드 구현 날짜\n",
    "- 2023-11-01\n",
    "\n",
    "> 개발환경\n",
    "- Python version: 3.9.7\n",
    "\n",
    "> 수정내용\n",
    "- 수정날짜: 2023-11-08  \n",
    "- 수정내용:\n",
    "1. 전처리 코드 함수화\n",
    "2. 새로 다운받은 20년치 데이터 중 최근 10년 데이터 전처리 및 각종 지표 계산\n"
   ]
  },
  {
   "cell_type": "code",
   "execution_count": 25,
   "id": "590b7ceb-3ced-4d32-8889-52a51a0cee9a",
   "metadata": {
    "tags": []
   },
   "outputs": [],
   "source": [
    "# import libraries\n",
    "import pandas as pd\n",
    "import matplotlib.pyplot as plt\n",
    "import numpy as np\n",
    "import seaborn as sns\n",
    "import yfinance as yf\n",
    "import os"
   ]
  },
  {
   "cell_type": "code",
   "execution_count": 55,
   "id": "a48bef03",
   "metadata": {},
   "outputs": [],
   "source": [
    "# 변수 정의\n",
    "\n",
    "# 회사 리스트\n",
    "company_list = ['SK텔레콤', 'KT', 'LG유플러스', '농심', 'CJ제일제당', '오뚜기', '현대차', '한국타이어', 'KB금융', '신한지주']\n",
    "company = company_list[2] # 회사 선택\n",
    "\n",
    "# 기간 설정 -> 10년치 데이터만 가져옴\n",
    "start_dt = '2013-07-01'\n",
    "end_dt = '2023-06-30'\n",
    "\n",
    "# 엑셀 파일 경로\n",
    "filename = '../FMguide_data/gm_model_20years.xlsx'  "
   ]
  },
  {
   "cell_type": "markdown",
   "id": "c4b51484-bb72-4dd1-b482-2123b4772e22",
   "metadata": {},
   "source": [
    "### FMguide 데이터 가져오기"
   ]
  },
  {
   "cell_type": "code",
   "execution_count": 56,
   "id": "a93238c7",
   "metadata": {},
   "outputs": [],
   "source": [
    "# 전처리 함수\n",
    "def load_data_guide(filename, sheet_name):\n",
    "    raw_df = pd.read_excel(filename, sheet_name=sheet_name)\n",
    "    col = raw_df[11:12] # 컬럼명 가져오기\n",
    "    data = raw_df[13:] # 데이터 가져오기\n",
    "    df = pd.concat([col, data]) # 컬럼명, 데이터 병합\n",
    "    df.columns = df.iloc[0] # 컬럼 지정\n",
    "    df.drop(df.index[0], inplace=True) # 필요없는 첫 행 삭제\n",
    "    df.rename(columns={df.columns[0]:'Date'}, inplace=True) # 첫번째 컬럼의 컬럼명 변경\n",
    "    df['Date'] = pd.to_datetime(df['Date']) # 시간형태로 변환\n",
    "    df = df[(df['Date'] >= start_dt) & (df['Date'] <= end_dt)] # 원하는 기간 설정\n",
    "    return df"
   ]
  },
  {
   "cell_type": "code",
   "execution_count": 57,
   "id": "34ade8e7",
   "metadata": {},
   "outputs": [
    {
     "name": "stdout",
     "output_type": "stream",
     "text": [
      "회사명:  LG유플러스\n"
     ]
    },
    {
     "data": {
      "text/html": [
       "<div>\n",
       "<style scoped>\n",
       "    .dataframe tbody tr th:only-of-type {\n",
       "        vertical-align: middle;\n",
       "    }\n",
       "\n",
       "    .dataframe tbody tr th {\n",
       "        vertical-align: top;\n",
       "    }\n",
       "\n",
       "    .dataframe thead th {\n",
       "        text-align: right;\n",
       "    }\n",
       "</style>\n",
       "<table border=\"1\" class=\"dataframe\">\n",
       "  <thead>\n",
       "    <tr style=\"text-align: right;\">\n",
       "      <th>11</th>\n",
       "      <th>Date</th>\n",
       "      <th>영업이익(천원)</th>\n",
       "      <th>금융손익(비영업)(천원)</th>\n",
       "      <th>관계기업투자등관련손익(비영업)(천원)</th>\n",
       "      <th>종가(원)</th>\n",
       "      <th>총자본(천원)</th>\n",
       "      <th>PBR(배)</th>\n",
       "    </tr>\n",
       "  </thead>\n",
       "  <tbody>\n",
       "    <tr>\n",
       "      <th>2751</th>\n",
       "      <td>2013-07-01</td>\n",
       "      <td>149210000</td>\n",
       "      <td>-48767000</td>\n",
       "      <td>216000</td>\n",
       "      <td>11800</td>\n",
       "      <td>3981683000</td>\n",
       "      <td>1.29443</td>\n",
       "    </tr>\n",
       "    <tr>\n",
       "      <th>2752</th>\n",
       "      <td>2013-07-02</td>\n",
       "      <td>149210000</td>\n",
       "      <td>-48767000</td>\n",
       "      <td>216000</td>\n",
       "      <td>11950</td>\n",
       "      <td>3981683000</td>\n",
       "      <td>1.31089</td>\n",
       "    </tr>\n",
       "    <tr>\n",
       "      <th>2753</th>\n",
       "      <td>2013-07-03</td>\n",
       "      <td>149210000</td>\n",
       "      <td>-48767000</td>\n",
       "      <td>216000</td>\n",
       "      <td>12250</td>\n",
       "      <td>3981683000</td>\n",
       "      <td>1.3438</td>\n",
       "    </tr>\n",
       "    <tr>\n",
       "      <th>2754</th>\n",
       "      <td>2013-07-04</td>\n",
       "      <td>149210000</td>\n",
       "      <td>-48767000</td>\n",
       "      <td>216000</td>\n",
       "      <td>12650</td>\n",
       "      <td>3981683000</td>\n",
       "      <td>1.38768</td>\n",
       "    </tr>\n",
       "    <tr>\n",
       "      <th>2755</th>\n",
       "      <td>2013-07-05</td>\n",
       "      <td>149210000</td>\n",
       "      <td>-48767000</td>\n",
       "      <td>216000</td>\n",
       "      <td>13250</td>\n",
       "      <td>3981683000</td>\n",
       "      <td>1.45349</td>\n",
       "    </tr>\n",
       "  </tbody>\n",
       "</table>\n",
       "</div>"
      ],
      "text/plain": [
       "11         Date   영업이익(천원) 금융손익(비영업)(천원) 관계기업투자등관련손익(비영업)(천원)  종가(원)  \\\n",
       "2751 2013-07-01  149210000     -48767000               216000  11800   \n",
       "2752 2013-07-02  149210000     -48767000               216000  11950   \n",
       "2753 2013-07-03  149210000     -48767000               216000  12250   \n",
       "2754 2013-07-04  149210000     -48767000               216000  12650   \n",
       "2755 2013-07-05  149210000     -48767000               216000  13250   \n",
       "\n",
       "11       총자본(천원)   PBR(배)  \n",
       "2751  3981683000  1.29443  \n",
       "2752  3981683000  1.31089  \n",
       "2753  3981683000   1.3438  \n",
       "2754  3981683000  1.38768  \n",
       "2755  3981683000  1.45349  "
      ]
     },
     "execution_count": 57,
     "metadata": {},
     "output_type": "execute_result"
    }
   ],
   "source": [
    "# 함수를 사용해서 파일 읽기\n",
    "df = load_data_guide(filename, company)\n",
    "print(\"회사명: \", company)\n",
    "df.head()"
   ]
  },
  {
   "cell_type": "markdown",
   "id": "1ab74b34-9b22-4a9e-abe0-3889b329dee2",
   "metadata": {},
   "source": [
    "### COE 계산을 위한 rf 데이터 불러오기\n",
    "\n",
    "- rf: risk free(미국채 10년물)"
   ]
  },
  {
   "cell_type": "code",
   "execution_count": 5,
   "id": "d033a646",
   "metadata": {},
   "outputs": [],
   "source": [
    "# 미국 국채 10년물 불러오는 함수\n",
    "def load_us_10_year_data(start_date, end_date):\n",
    "    us_10_year = yf.download(\"^TNX\", start=start_date, end=end_date)\n",
    "    us_10_year.rename(columns={'Close': 'us_10_treasury'}, inplace=True) # 컬럼명 변경\n",
    "    us_10_year = us_10_year.reset_index() # Date(인덱스) -> 컬럼으로\n",
    "    us_10_year = us_10_year[['Date', 'us_10_treasury']] # Date와 미국채 10년물만 가져오기\n",
    "    return us_10_year"
   ]
  },
  {
   "cell_type": "code",
   "execution_count": 6,
   "id": "83fcb24f",
   "metadata": {},
   "outputs": [
    {
     "name": "stdout",
     "output_type": "stream",
     "text": [
      "[*********************100%%**********************]  1 of 1 completed\n"
     ]
    }
   ],
   "source": [
    "# 데이터 병합\n",
    "us_10_year = load_us_10_year_data(start_dt, end_dt)\n",
    "df = pd.merge(df, us_10_year, on='Date', how='outer') # 기존 df와 us_10_year데이터를 Date컬럼 기준으로 merge\n",
    "df['us_10_treasury'] = df['us_10_treasury'].fillna(method='ffill') # us_10_treasury의 na 값을 ffill로(전날)데이터로 채워줌\n",
    "#df = df.dropna() # NA인 행 삭제. NA라는 것은 영업일이 아니라는 의미이기 때문(공휴일인듯?)"
   ]
  },
  {
   "cell_type": "markdown",
   "id": "c7816839-077c-4d21-9caa-cd824d8fdfbe",
   "metadata": {
    "tags": []
   },
   "source": [
    "### Equity(총자본(천원)) 계산"
   ]
  },
  {
   "cell_type": "code",
   "execution_count": 7,
   "id": "52ac72d8-cf9d-4830-b03b-5ba01810b13c",
   "metadata": {
    "tags": []
   },
   "outputs": [],
   "source": [
    "# 분기 나누는 함수\n",
    "def get_quarter(date):\n",
    "    year = date.year\n",
    "    month = date.month\n",
    "\n",
    "    if 2003 <= year <= 2023:\n",
    "        if 1 <= month <= 3:\n",
    "            return f'{year}Q1'\n",
    "        elif 4 <= month <= 6:\n",
    "            return f'{year}Q2'\n",
    "        elif 7 <= month <= 9:\n",
    "            return f'{year}Q3'\n",
    "        elif 10 <= month <= 12:\n",
    "            return f'{year}Q4'\n",
    "    else:\n",
    "        return None"
   ]
  },
  {
   "cell_type": "code",
   "execution_count": 8,
   "id": "4c5f1ba2",
   "metadata": {},
   "outputs": [],
   "source": [
    "df['Quarter'] = df['Date'].apply(get_quarter)"
   ]
  },
  {
   "cell_type": "markdown",
   "id": "bb87f527-7c6b-4435-aae7-7ee69d3996a8",
   "metadata": {
    "tags": []
   },
   "source": [
    "### COE 계산\n",
    "\n",
    "COE = rf + Beta(MRP)\n",
    "\n",
    "- Beta: 1\n",
    "- MRP: 4%\n",
    "- rf: 미국 국채 10년물"
   ]
  },
  {
   "cell_type": "code",
   "execution_count": 9,
   "id": "9512ed9c-2229-48cd-a3ea-e410541efa60",
   "metadata": {
    "tags": []
   },
   "outputs": [],
   "source": [
    "# beta랑 MRP 값\n",
    "beta = 1\n",
    "MRP = 4"
   ]
  },
  {
   "cell_type": "code",
   "execution_count": 10,
   "id": "2912f2a3-4bc6-4576-8a04-9de639e85e2f",
   "metadata": {
    "tags": []
   },
   "outputs": [],
   "source": [
    "df['COE'] = df['us_10_treasury'] + beta*MRP"
   ]
  },
  {
   "cell_type": "code",
   "execution_count": 12,
   "id": "c4abf8ee",
   "metadata": {},
   "outputs": [
    {
     "data": {
      "text/plain": [
       "Text(0.5, 1.0, 'COE')"
      ]
     },
     "execution_count": 12,
     "metadata": {},
     "output_type": "execute_result"
    },
    {
     "data": {
      "image/png": "[encoded data removed]",
      "text/plain": [
       "<Figure size 640x480 with 1 Axes>"
      ]
     },
     "metadata": {},
     "output_type": "display_data"
    }
   ],
   "source": [
    "plt.plot(df['COE'])\n",
    "plt.title(\"COE\")"
   ]
  },
  {
   "cell_type": "markdown",
   "id": "5e94e3c7-3deb-41d0-81bc-2cd1be661252",
   "metadata": {
    "tags": []
   },
   "source": [
    "### ROE, Growth Multiplier 계산\n",
    "\n",
    "- 순이익 = 영업이익 + 금융손익 + EMS *(1-20%)\n",
    "- ROE = 순이익 / 총자본\n",
    "- gm = PBR * COE / ROE\n",
    "\n",
    "(1-20%): 법인세"
   ]
  },
  {
   "cell_type": "code",
   "execution_count": 44,
   "id": "0e1808d1",
   "metadata": {},
   "outputs": [],
   "source": [
    "# 천원 단위 -> 원 단위\n",
    "df['영업이익(원)'] = df['영업이익(천원)'] * 1000\n",
    "df['금융손익(비영업)(원)'] = df['금융손익(비영업)(천원)'] * 1000\n",
    "df['관계기업투자등관련손익(비영업)(원)'] = df['관계기업투자등관련손익(비영업)(천원)'] * 1000\n",
    "df['총자본(원)'] = df['총자본(천원)'] * 1000\n",
    "\n",
    "# 천원 단위 컬럼 삭제\n",
    "df.drop(columns=['영업이익(천원)', '금융손익(비영업)(천원)', '관계기업투자등관련손익(비영업)(천원)', '총자본(천원)'], inplace=True)"
   ]
  },
  {
   "cell_type": "code",
   "execution_count": 45,
   "id": "9b835afa",
   "metadata": {},
   "outputs": [],
   "source": [
    "# # ROE, gm 계산 함수\n",
    "# def calculate_roe(df):\n",
    "#     df['세전이익'] = df['영업이익(원)'] + df['금융손익(비영업)(원)'] + df['관계기업투자등관련손익(비영업)(원)']\n",
    "#     df['순이익'] = df['세전이익'] * (1 - 0.2) # 0.2 = 20% 세율 가정\n",
    "#     df['ROE_tmp'] = df['순이익'] / df['총자본(원)']\n",
    "\n",
    "#     # 'Year'열을 생성하여 각 날짜의 연도를 추출\n",
    "#     df['Year'] = df['Date'].dt.year\n",
    "\n",
    "#     # 연도별로 ROE 값을 더하고, 해당 연도의 분기 수로 나누기\n",
    "#     # 연도와 분기별로 그룹화 하고 'ROE'의 합계 및 개수를 계산\n",
    "#     annual_roe = df.groupby('Year')['ROE_tmp'].agg(['sum', 'count']).reset_index()\n",
    "    \n",
    "#     # 개수로 합계를 나눠 연도별 평균 ROE 계산\n",
    "#     annual_roe['Average_ROE'] = annual_roe['sum']/annual_roe['count']\n",
    "    \n",
    "#     # 계산된 연도별 평균 ROE를 원래의 데이터프레임에 매핑하기 위한 딕셔너리 생성\n",
    "#     annual_roe_dict = annual_roe.set_index('Year')['Average_ROE'].to_dict()\n",
    "    \n",
    "#     # 원래 데이터프레임에 계산된 연도별 평균 ROE 적용\n",
    "#     df['ROE'] = (df['Year'].map(annual_roe_dict)) * 100 # %화\n",
    "\n",
    "#     # gm 계산\n",
    "#     df['gm'] = (df['PBR(배)'] * df['COE']) / df['ROE']\n",
    "\n",
    "#     # 필요없는 'Year', ROE_tmp 컬럼 삭제\n",
    "#     #df.drop(columns=['Year'], inplace=True)\n",
    "#     df.drop(columns=['ROE_tmp'], inplace=True)\n",
    "\n",
    "#     return df, annual_roe, annual_roe_dict"
   ]
  },
  {
   "cell_type": "code",
   "execution_count": 46,
   "id": "0183a2aa",
   "metadata": {},
   "outputs": [],
   "source": [
    "# ROE, gm 계산 함수 version.2\n",
    "def calculate_roe(df):\n",
    "    df['세전이익'] = df['영업이익(원)'] + df['금융손익(비영업)(원)'] + df['관계기업투자등관련손익(비영업)(원)']\n",
    "    df['순이익'] = df['세전이익'] * (1 - 0.2) # 0.2 = 20% 세율 가정\n",
    "    df['ROE_tmp'] = df['순이익'] / df['총자본(원)']\n",
    "\n",
    "    # 'Year'와 'Quarter' 열 추가\n",
    "    df['Year'] = df['Quarter'].str[:4]\n",
    "    df['Year'] = df['Year'].astype(int) # 연도를 정수형으로 변환\n",
    "\n",
    "    # 연도별 평균 ROE 계산\n",
    "    annual_roe = df.groupby('Year')['ROE_tmp'].agg(lambda x: x.unique().sum() / x.nunique()).reset_index().rename(columns={'ROE_tmp':'Average_ROE'})\n",
    "    \n",
    "    \n",
    "    # 연도별 평균 ROE를 원본 데이터프레임에 매핑\n",
    "    annual_roe_dict = annual_roe.set_index('Year')['Average_ROE'].to_dict()\n",
    "    df['ROE'] = df['Year'].map(annual_roe_dict) * 100 # %로 변환\n",
    "\n",
    "    # gm 계산\n",
    "    df['gm'] = (df['PBR(배)'] * df['COE']) / df['ROE']\n",
    "\n",
    "    # 불필요한 'Year', 'ROE_tmp' 컬럼 삭제\n",
    "    #df.drop(columns=['Year'], inplace=True)\n",
    "    df.drop(columns=['ROE_tmp'], inplace=True)\n",
    "\n",
    "    return df"
   ]
  },
  {
   "cell_type": "code",
   "execution_count": 47,
   "id": "86a4da72",
   "metadata": {},
   "outputs": [],
   "source": [
    "# ROE 계산\n",
    "df = calculate_roe(df)"
   ]
  },
  {
   "cell_type": "code",
   "execution_count": 49,
   "id": "00e3f821-b81f-48d7-87c4-3f0b1db462a9",
   "metadata": {
    "tags": []
   },
   "outputs": [],
   "source": [
    "# 모든 행 출력되도록\n",
    "#pd.set_option('display.max_rows', None)"
   ]
  },
  {
   "cell_type": "markdown",
   "id": "edae5aad-44e6-4480-aa70-f322fad61a61",
   "metadata": {},
   "source": [
    "### 시점&수익률 생성 "
   ]
  },
  {
   "cell_type": "code",
   "execution_count": 50,
   "id": "b4563b6c-ce06-483c-b14e-93194df5acc4",
   "metadata": {
    "tags": []
   },
   "outputs": [],
   "source": [
    "# 각 시점의 일주일, 이주일, 한달뒤 종가 값을 가진 컬럼 생성\n",
    "df['종가_1주후'] = df['종가(원)'].shift(-5) # 1주\n",
    "df['종가_2주후'] = df['종가(원)'].shift(-10) # 2주\n",
    "df['종가_1달후'] = df['종가(원)'].shift(-20) # 1달\n",
    "df['종가_3달후'] = df['종가(원)'].shift(-60) # 3달\n",
    "df['종가_6달후'] = df['종가(원)'].shift(-120) # 6달"
   ]
  },
  {
   "cell_type": "markdown",
   "id": "693b6bc3-8621-4ff2-abbe-3c9855c6e802",
   "metadata": {},
   "source": [
    "### 일반 수익률"
   ]
  },
  {
   "cell_type": "code",
   "execution_count": 51,
   "id": "869be729-d397-4f2f-a8d1-8c1462af247f",
   "metadata": {
    "tags": []
   },
   "outputs": [],
   "source": [
    "# 각 시점의 1주후, 2주후, 한달후 수익률 구하기 + 수익률 -> %로\n",
    "df['수익률_1주후'] = (df['종가_1주후'] - df['종가(원)']) / df['종가(원)'] * 100\n",
    "df['수익률_2주후'] = (df['종가_2주후'] - df['종가(원)']) / df['종가(원)'] * 100\n",
    "df['수익률_1달후'] = (df['종가_1달후'] - df['종가(원)']) / df['종가(원)'] * 100\n",
    "df['수익률_3달후'] = (df['종가_3달후'] - df['종가(원)']) / df['종가(원)'] * 100\n",
    "df['수익률_6달후'] = (df['종가_6달후'] - df['종가(원)']) / df['종가(원)'] * 100"
   ]
  },
  {
   "cell_type": "markdown",
   "id": "a4530df3-bd27-40db-b430-897378ae7ba8",
   "metadata": {},
   "source": [
    "### 코스피(시장) 수익률 계산"
   ]
  },
  {
   "cell_type": "code",
   "execution_count": 52,
   "id": "26f07d36",
   "metadata": {},
   "outputs": [
    {
     "name": "stdout",
     "output_type": "stream",
     "text": [
      "[*********************100%%**********************]  1 of 1 completed\n"
     ]
    }
   ],
   "source": [
    "# 코스피 지수 데이터 가져오기\n",
    "df_kospi = yf.download('^KS11', start_dt, end_dt)\n",
    "df_kospi = df_kospi.reset_index() # index -> column\n",
    "df = df.merge(df_kospi[['Date', 'Adj Close']]) # df에 df_kospi \"Adj Close\" 값 병합\n",
    "df.rename(columns={'Adj Close': 'kospi'}, inplace=True) # 컬럼명 변경"
   ]
  },
  {
   "cell_type": "code",
   "execution_count": 53,
   "id": "b58e5099-8f5f-402f-8fed-6ed4e2e88352",
   "metadata": {
    "tags": []
   },
   "outputs": [],
   "source": [
    "# 각 시점의 일주일, 이주일, 한달뒤 종가 값을 가진 컬럼 생성\n",
    "df['kospi_1주후'] = df['kospi'].shift(-5) # 1주\n",
    "df['kospi_2주후'] = df['kospi'].shift(-10) # 2주\n",
    "df['kospi_1달후'] = df['kospi'].shift(-20) # 1달\n",
    "df['kospi_3달후'] = df['kospi'].shift(-60) # 3달\n",
    "df['kospi_6달후'] = df['kospi'].shift(-120) # 6달"
   ]
  },
  {
   "cell_type": "code",
   "execution_count": 54,
   "id": "58082980-8ef2-4ca1-8ccb-195ac0eec15e",
   "metadata": {
    "tags": []
   },
   "outputs": [],
   "source": [
    "# 각 시점의 1주후, 2주후, 한달후 수익률 구하기 + 수익률 -> %로\n",
    "df['kospi_수익률_1주후'] = (df['kospi_1주후'] - df['kospi']) / df['kospi'] * 100\n",
    "df['kospi_수익률_2주후'] = (df['kospi_2주후'] - df['kospi']) / df['kospi'] * 100\n",
    "df['kospi_수익률_1달후'] = (df['kospi_1달후'] - df['kospi']) / df['kospi'] * 100\n",
    "df['kospi_수익률_3달후'] = (df['kospi_3달후'] - df['kospi']) / df['kospi'] * 100\n",
    "df['kospi_수익률_6달후'] = (df['kospi_6달후'] - df['kospi']) / df['kospi'] * 100"
   ]
  },
  {
   "cell_type": "code",
   "execution_count": 55,
   "id": "04ae3f39-40ff-4306-ab1f-524195f58885",
   "metadata": {
    "tags": []
   },
   "outputs": [],
   "source": [
    "# 지수를 얼마나 이겼는지 (상대)수익률\n",
    "df['상대수익률_1주후'] = df['수익률_1주후'] - df['kospi_수익률_1주후']\n",
    "df['상대수익률_2주후'] = df['수익률_2주후'] - df['kospi_수익률_2주후']\n",
    "df['상대수익률_1달후'] = df['수익률_1달후'] - df['kospi_수익률_1달후']\n",
    "df['상대수익률_3달후'] = df['수익률_3달후'] - df['kospi_수익률_3달후']\n",
    "df['상대수익률_6달후'] = df['수익률_6달후'] - df['kospi_수익률_6달후']"
   ]
  },
  {
   "cell_type": "markdown",
   "id": "a9fb3742",
   "metadata": {},
   "source": [
    "### 데이터 내보내기"
   ]
  },
  {
   "cell_type": "code",
   "execution_count": 56,
   "id": "1a5423d1",
   "metadata": {},
   "outputs": [],
   "source": [
    "# 저장할 폴더 경로 지정\n",
    "folder_path = '../gm_data'\n",
    "\n",
    "# 폴더가 없으면 생성\n",
    "if not os.path.exists(folder_path):\n",
    "    os.makedirs(folder_path)\n",
    "\n",
    "# CSV 파일 저장\n",
    "df.to_csv(f'{folder_path}/{company}_df.csv', index=False)\n"
   ]
  },
  {
   "cell_type": "code",
   "execution_count": null,
   "id": "5633a249",
   "metadata": {},
   "outputs": [],
   "source": []
  }
 ],
 "metadata": {
  "kernelspec": {
   "display_name": "Python 3 (ipykernel)",
   "language": "python",
   "name": "python3"
  },
  "language_info": {
   "codemirror_mode": {
    "name": "ipython",
    "version": 3
   },
   "file_extension": ".py",
   "mimetype": "text/x-python",
   "name": "python",
   "nbconvert_exporter": "python",
   "pygments_lexer": "ipython3",
   "version": "3.8.18"
  }
 },
 "nbformat": 4,
 "nbformat_minor": 5
}
