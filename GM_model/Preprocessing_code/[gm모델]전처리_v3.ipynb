{
  "cells": [
    {
      "cell_type": "markdown",
      "id": "9aef60ca-2344-43ef-99f8-a535ae0c3953",
      "metadata": {
        "id": "9aef60ca-2344-43ef-99f8-a535ae0c3953"
      },
      "source": [
        "### 전처리\n",
        "\n",
        "> Data\n",
        "- Input: FMguide에서 다운받은 excel 파일\n",
        "- Output: csv file (아웃라이어 찾기, Stationary 적용 전 파일)\n",
        "\n",
        "> Process\n",
        "1. Excel 데이터 불러오고 기본 데이터프레임 형식으로 전처리\n",
        "2. rf(risk free rate) 데이터(yfinance) 불러오기 및 데이터 병합\n",
        "3. ROE 계산\n",
        "4. COE 계산\n",
        "5. GM 계산\n",
        "6. 일반수익률 계산(n일 후 종목 종가 - 종목 종가 / 종목 종가)\n",
        "7. 상대수익률 계산(종목 수익률 - 시장 수익률)\n",
        "8. 데이터 내보내기\n",
        "\n",
        "> 코드 구현 날짜\n",
        "- 2023-11-01\n",
        "\n",
        "> 개발환경\n",
        "- Python version: 3.8.18\n",
        "\n",
        "> 수정내용\n",
        "- 수정날짜: 2023-11-08  \n",
        "- 수정내용:\n",
        "1. 전처리 코드 함수화\n",
        "2. 새로 다운받은 20년치 데이터 중 최근 10년 데이터 전처리 및 각종 지표 계산\n",
        "\n",
        "- 수정날짜: 2023-11-13\n",
        "- 수정내용:  \n",
        "1. ROE 계산법 변경\n",
        "- 기존: 연도별 평균 ROE 계산  \n",
        "예) 2020년 2분기 ROE = 2020년 1,2,3,4분기의 평균 계산  \n",
        "2023년 2분기 경우에는 2023년 1,2분기의 평균값을 계산하였음.\n",
        "\n",
        "- 변경후: 이동평균 ROE 계산(중첩하며 평균 ROE 계산)  \n",
        "예) 2020년 2분기 ROE = 2019년 3,4분기와 2020년 1,2분기의 평균 계산\n",
        "\n",
        "- 수정날짜: 2023-11-19\n",
        "- 수정내용:\n",
        "1. 변경된 ROE 계산법을 통해 ROE 계산에 필요한 모든 컬럼에 다 계단식 평균 구하기 적용\n",
        "\n",
        "- 수정날짜: 2023-11-22\n",
        "1. 우리 데이터  Dart 데이터와 비교 -> 동일\n",
        "- 영업이익, 금융손익, EMS를 계단평균 적용\n",
        "- COE 2년이동평균 계산(MA)\n",
        "- 결과: 구한gm이 sustainable하지만 교수님이 기대하신 (1~2) 값 보다는 크게 나옴.\n",
        "- 내일 모이는 분들 확인해보시고 아웃라이어로 판단되는 부분 제거, 시그마, 표준화 등 사용하여 gm 보고 가능하면 R^2 확인까지 해보면 좋을 것 같아요!"
      ]
    },
    {
      "cell_type": "code",
      "execution_count": 14,
      "id": "590b7ceb-3ced-4d32-8889-52a51a0cee9a",
      "metadata": {
        "id": "590b7ceb-3ced-4d32-8889-52a51a0cee9a",
        "tags": []
      },
      "outputs": [],
      "source": [
        "# import libraries\n",
        "import pandas as pd\n",
        "import matplotlib.pyplot as plt\n",
        "import numpy as np\n",
        "import seaborn as sns\n",
        "import yfinance as yf\n",
        "import os\n",
        "\n",
        "# 한글과 음수 부호가 제대로 표시되는 폰트로 변경\n",
        "plt.rcParams['font.family'] = 'Arial Unicode MS'\n",
        "plt.rcParams['axes.unicode_minus'] = False  # 음수 부호 표시 문제 해결"
      ]
    },
    {
      "cell_type": "markdown",
      "id": "c4b51484-bb72-4dd1-b482-2123b4772e22",
      "metadata": {
        "id": "c4b51484-bb72-4dd1-b482-2123b4772e22"
      },
      "source": [
        "### FMguide 데이터 가져오기"
      ]
    },
    {
      "cell_type": "code",
      "execution_count": 15,
      "id": "a93238c7",
      "metadata": {
        "id": "a93238c7"
      },
      "outputs": [],
      "source": [
        "# 전처리 함수\n",
        "def load_data_guide(filename, sheet_name):\n",
        "    raw_df = pd.read_excel(filename, sheet_name=sheet_name)\n",
        "    col = raw_df[11:12] # 컬럼명 가져오기\n",
        "    data = raw_df[13:] # 데이터 가져오기\n",
        "    df = pd.concat([col, data]) # 컬럼명, 데이터 병합\n",
        "    df.columns = df.iloc[0] # 컬럼 지정\n",
        "    df.drop(df.index[0], inplace=True) # 필요없는 첫 행 삭제\n",
        "    df.rename(columns={df.columns[0]:'Date'}, inplace=True) # 첫번째 컬럼의 컬럼명 변경\n",
        "    df['Date'] = pd.to_datetime(df['Date']) # 시간형태로 변환\n",
        "    df = df[(df['Date'] >= start_dt) & (df['Date'] <= end_dt)] # 원하는 기간 설정\n",
        "    return df"
      ]
    },
    {
      "cell_type": "code",
      "execution_count": 17,
      "metadata": {},
      "outputs": [],
      "source": [
        "# 변수 정의\n",
        "\n",
        "# 회사 리스트\n",
        "company_list = ['SK텔레콤', 'KT', 'LG유플러스', '농심', 'CJ제일제당', '오뚜기', '현대차', '한국타이어', 'KB금융', '신한지주']\n",
        "company = company_list[2] # 회사 선택\n",
        "\n",
        "# 기간 설정 -> 10년치 데이터만 가져옴\n",
        "start_dt = '2012-07-01'\n",
        "end_dt = '2023-06-30'\n",
        "\n",
        "# 엑셀 파일 경로\n",
        "filename = '../FMguide_data/gm_model_20years.xlsx'"
      ]
    },
    {
      "cell_type": "code",
      "execution_count": 19,
      "id": "34ade8e7",
      "metadata": {
        "colab": {
          "base_uri": "https://localhost:8080/",
          "height": 328
        },
        "id": "34ade8e7",
        "outputId": "8ef385da-d27f-456d-aa03-2d160a39bc6c"
      },
      "outputs": [
        {
          "name": "stdout",
          "output_type": "stream",
          "text": [
            "회사명:  LG유플러스\n"
          ]
        },
        {
          "data": {
            "text/html": [
              "<div>\n",
              "<style scoped>\n",
              "    .dataframe tbody tr th:only-of-type {\n",
              "        vertical-align: middle;\n",
              "    }\n",
              "\n",
              "    .dataframe tbody tr th {\n",
              "        vertical-align: top;\n",
              "    }\n",
              "\n",
              "    .dataframe thead th {\n",
              "        text-align: right;\n",
              "    }\n",
              "</style>\n",
              "<table border=\"1\" class=\"dataframe\">\n",
              "  <thead>\n",
              "    <tr style=\"text-align: right;\">\n",
              "      <th>11</th>\n",
              "      <th>Date</th>\n",
              "      <th>영업이익(천원)</th>\n",
              "      <th>금융손익(비영업)(천원)</th>\n",
              "      <th>관계기업투자등관련손익(비영업)(천원)</th>\n",
              "      <th>종가(원)</th>\n",
              "      <th>총자본(천원)</th>\n",
              "      <th>PBR(배)</th>\n",
              "    </tr>\n",
              "  </thead>\n",
              "  <tbody>\n",
              "    <tr>\n",
              "      <th>2491</th>\n",
              "      <td>2012-07-02</td>\n",
              "      <td>-10336000</td>\n",
              "      <td>-56562000</td>\n",
              "      <td>173000</td>\n",
              "      <td>5510</td>\n",
              "      <td>3730074000</td>\n",
              "      <td>0.5607</td>\n",
              "    </tr>\n",
              "    <tr>\n",
              "      <th>2492</th>\n",
              "      <td>2012-07-03</td>\n",
              "      <td>-10336000</td>\n",
              "      <td>-56562000</td>\n",
              "      <td>173000</td>\n",
              "      <td>5570</td>\n",
              "      <td>3730074000</td>\n",
              "      <td>0.56681</td>\n",
              "    </tr>\n",
              "    <tr>\n",
              "      <th>2493</th>\n",
              "      <td>2012-07-04</td>\n",
              "      <td>-10336000</td>\n",
              "      <td>-56562000</td>\n",
              "      <td>173000</td>\n",
              "      <td>5530</td>\n",
              "      <td>3730074000</td>\n",
              "      <td>0.56274</td>\n",
              "    </tr>\n",
              "    <tr>\n",
              "      <th>2494</th>\n",
              "      <td>2012-07-05</td>\n",
              "      <td>-10336000</td>\n",
              "      <td>-56562000</td>\n",
              "      <td>173000</td>\n",
              "      <td>5530</td>\n",
              "      <td>3730074000</td>\n",
              "      <td>0.56274</td>\n",
              "    </tr>\n",
              "    <tr>\n",
              "      <th>2495</th>\n",
              "      <td>2012-07-06</td>\n",
              "      <td>-10336000</td>\n",
              "      <td>-56562000</td>\n",
              "      <td>173000</td>\n",
              "      <td>5470</td>\n",
              "      <td>3730074000</td>\n",
              "      <td>0.55663</td>\n",
              "    </tr>\n",
              "  </tbody>\n",
              "</table>\n",
              "</div>"
            ],
            "text/plain": [
              "11         Date   영업이익(천원) 금융손익(비영업)(천원) 관계기업투자등관련손익(비영업)(천원) 종가(원)  \\\n",
              "2491 2012-07-02  -10336000     -56562000               173000  5510   \n",
              "2492 2012-07-03  -10336000     -56562000               173000  5570   \n",
              "2493 2012-07-04  -10336000     -56562000               173000  5530   \n",
              "2494 2012-07-05  -10336000     -56562000               173000  5530   \n",
              "2495 2012-07-06  -10336000     -56562000               173000  5470   \n",
              "\n",
              "11       총자본(천원)   PBR(배)  \n",
              "2491  3730074000   0.5607  \n",
              "2492  3730074000  0.56681  \n",
              "2493  3730074000  0.56274  \n",
              "2494  3730074000  0.56274  \n",
              "2495  3730074000  0.55663  "
            ]
          },
          "execution_count": 19,
          "metadata": {},
          "output_type": "execute_result"
        }
      ],
      "source": [
        "# 함수를 사용해서 파일 읽기\n",
        "df = load_data_guide(filename, company)\n",
        "print(\"회사명: \", company)\n",
        "df.head()"
      ]
    },
    {
      "cell_type": "code",
      "execution_count": 20,
      "id": "EOl0we0moocl",
      "metadata": {
        "colab": {
          "base_uri": "https://localhost:8080/",
          "height": 1000
        },
        "id": "EOl0we0moocl",
        "outputId": "cafae748-ee06-4fe0-9cfe-74add1b986e2"
      },
      "outputs": [
        {
          "data": {
            "text/plain": [
              "[<matplotlib.lines.Line2D at 0x17fb58310>]"
            ]
          },
          "execution_count": 20,
          "metadata": {},
          "output_type": "execute_result"
        },
        {
          "data": {
            "image/png": "[encoded data removed]",
            "text/plain": [
              "<Figure size 640x480 with 1 Axes>"
            ]
          },
          "metadata": {},
          "output_type": "display_data"
        }
      ],
      "source": [
        "plt.plot(df['영업이익(천원)'])"
      ]
    },
    {
      "cell_type": "code",
      "execution_count": 21,
      "id": "2d5105a6",
      "metadata": {
        "colab": {
          "base_uri": "https://localhost:8080/",
          "height": 1000
        },
        "id": "2d5105a6",
        "outputId": "3883e702-62fc-4cef-e062-ef023d3790e9"
      },
      "outputs": [
        {
          "data": {
            "text/plain": [
              "[<matplotlib.lines.Line2D at 0x17f933880>]"
            ]
          },
          "execution_count": 21,
          "metadata": {},
          "output_type": "execute_result"
        },
        {
          "data": {
            "image/png": "[encoded data removed]",
            "text/plain": [
              "<Figure size 640x480 with 1 Axes>"
            ]
          },
          "metadata": {},
          "output_type": "display_data"
        }
      ],
      "source": [
        "plt.plot(df['영업이익(천원)'].value_counts().index)"
      ]
    },
    {
      "cell_type": "markdown",
      "id": "1ab74b34-9b22-4a9e-abe0-3889b329dee2",
      "metadata": {
        "id": "1ab74b34-9b22-4a9e-abe0-3889b329dee2"
      },
      "source": [
        "### COE 계산을 위한 rf 데이터 불러오기\n",
        "\n",
        "- rf: risk free(미국채 10년물)"
      ]
    },
    {
      "cell_type": "code",
      "execution_count": 22,
      "id": "d033a646",
      "metadata": {
        "id": "d033a646"
      },
      "outputs": [],
      "source": [
        "# 미국 국채 10년물 불러오는 함수\n",
        "def load_us_10_year_data(start_date, end_date):\n",
        "    us_10_year = yf.download(\"^TNX\", start=start_date, end=end_date)\n",
        "    us_10_year.rename(columns={'Close': 'us_10_treasury'}, inplace=True) # 컬럼명 변경\n",
        "    us_10_year = us_10_year.reset_index() # Date(인덱스) -> 컬럼으로\n",
        "    us_10_year = us_10_year[['Date', 'us_10_treasury']] # Date와 미국채 10년물만 가져오기\n",
        "    return us_10_year"
      ]
    },
    {
      "cell_type": "code",
      "execution_count": 23,
      "id": "83fcb24f",
      "metadata": {
        "colab": {
          "base_uri": "https://localhost:8080/"
        },
        "id": "83fcb24f",
        "outputId": "d72d5d57-aab4-4000-9f36-ce146db9ee38"
      },
      "outputs": [
        {
          "name": "stdout",
          "output_type": "stream",
          "text": [
            "[*********************100%%**********************]  1 of 1 completed\n"
          ]
        }
      ],
      "source": [
        "# 데이터 병합\n",
        "us_10_year = load_us_10_year_data(start_dt, end_dt)\n",
        "df = pd.merge(df, us_10_year, on='Date', how='outer') # 기존 df와 us_10_year데이터를 Date컬럼 기준으로 merge\n",
        "df['us_10_treasury'] = df['us_10_treasury'].fillna(method='ffill') # us_10_treasury의 na 값을 ffill로(전날)데이터로 채워줌\n",
        "#df = df.dropna() # NA인 행 삭제. NA라는 것은 영업일이 아니라는 의미이기 때문(공휴일인듯?)"
      ]
    },
    {
      "cell_type": "code",
      "execution_count": 24,
      "id": "8TnNvDYopj9J",
      "metadata": {
        "id": "8TnNvDYopj9J"
      },
      "outputs": [],
      "source": [
        "df['us_10_treasury_MA1Y'] = df['us_10_treasury'].rolling(window=240).mean()\n",
        "df['us_10_treasury_MA2Y'] = df['us_10_treasury'].rolling(window=480).mean()"
      ]
    },
    {
      "cell_type": "code",
      "execution_count": 25,
      "id": "e82f64c3",
      "metadata": {
        "colab": {
          "base_uri": "https://localhost:8080/",
          "height": 1000
        },
        "id": "e82f64c3",
        "outputId": "2820d2fc-142a-4ad1-849e-15c85e50c03c"
      },
      "outputs": [
        {
          "data": {
            "text/plain": [
              "Text(0.5, 1.0, 'us_10_treasury')"
            ]
          },
          "execution_count": 25,
          "metadata": {},
          "output_type": "execute_result"
        },
        {
          "data": {
            "image/png": "[encoded data removed]",
            "text/plain": [
              "<Figure size 640x480 with 1 Axes>"
            ]
          },
          "metadata": {},
          "output_type": "display_data"
        }
      ],
      "source": [
        "plt.plot(df['us_10_treasury_MA2Y'] )\n",
        "plt.title('us_10_treasury')"
      ]
    },
    {
      "cell_type": "code",
      "execution_count": 26,
      "id": "9GjJdHIlrOdY",
      "metadata": {
        "colab": {
          "base_uri": "https://localhost:8080/",
          "height": 1000
        },
        "id": "9GjJdHIlrOdY",
        "outputId": "766d8824-9c53-4647-c7e6-9e150e550152"
      },
      "outputs": [
        {
          "data": {
            "text/plain": [
              "[<matplotlib.lines.Line2D at 0x17fcbcbe0>]"
            ]
          },
          "execution_count": 26,
          "metadata": {},
          "output_type": "execute_result"
        },
        {
          "data": {
            "image/png": "[encoded data removed]",
            "text/plain": [
              "<Figure size 640x480 with 1 Axes>"
            ]
          },
          "metadata": {},
          "output_type": "display_data"
        }
      ],
      "source": [
        "plt.plot(df['us_10_treasury_MA1Y'] )"
      ]
    },
    {
      "cell_type": "markdown",
      "id": "c7816839-077c-4d21-9caa-cd824d8fdfbe",
      "metadata": {
        "id": "c7816839-077c-4d21-9caa-cd824d8fdfbe",
        "tags": []
      },
      "source": [
        "### Equity(총자본(천원)) 계산"
      ]
    },
    {
      "cell_type": "code",
      "execution_count": 27,
      "id": "52ac72d8-cf9d-4830-b03b-5ba01810b13c",
      "metadata": {
        "id": "52ac72d8-cf9d-4830-b03b-5ba01810b13c",
        "tags": []
      },
      "outputs": [],
      "source": [
        "# 분기 나누는 함수\n",
        "def get_quarter(date):\n",
        "    year = date.year\n",
        "    month = date.month\n",
        "\n",
        "    if 2003 <= year <= 2023:\n",
        "        if 1 <= month <= 3:\n",
        "            return f'{year}Q1'\n",
        "        elif 4 <= month <= 6:\n",
        "            return f'{year}Q2'\n",
        "        elif 7 <= month <= 9:\n",
        "            return f'{year}Q3'\n",
        "        elif 10 <= month <= 12:\n",
        "            return f'{year}Q4'\n",
        "    else:\n",
        "        return None"
      ]
    },
    {
      "cell_type": "code",
      "execution_count": 28,
      "id": "4c5f1ba2",
      "metadata": {
        "id": "4c5f1ba2"
      },
      "outputs": [],
      "source": [
        "df['Quarter'] = df['Date'].apply(get_quarter)"
      ]
    },
    {
      "cell_type": "markdown",
      "id": "bb87f527-7c6b-4435-aae7-7ee69d3996a8",
      "metadata": {
        "id": "bb87f527-7c6b-4435-aae7-7ee69d3996a8",
        "tags": []
      },
      "source": [
        "### COE 계산\n",
        "\n",
        "COE = rf + Beta(MRP)\n",
        "\n",
        "- Beta: 1\n",
        "- MRP: 4%\n",
        "- rf: 미국 국채 10년물"
      ]
    },
    {
      "cell_type": "code",
      "execution_count": 29,
      "id": "9512ed9c-2229-48cd-a3ea-e410541efa60",
      "metadata": {
        "id": "9512ed9c-2229-48cd-a3ea-e410541efa60",
        "tags": []
      },
      "outputs": [],
      "source": [
        "# beta랑 MRP 값\n",
        "beta = 1\n",
        "MRP = 4"
      ]
    },
    {
      "cell_type": "code",
      "execution_count": 30,
      "id": "2912f2a3-4bc6-4576-8a04-9de639e85e2f",
      "metadata": {
        "id": "2912f2a3-4bc6-4576-8a04-9de639e85e2f",
        "tags": []
      },
      "outputs": [],
      "source": [
        "df['COE'] = df['us_10_treasury'] + beta*MRP"
      ]
    },
    {
      "cell_type": "code",
      "execution_count": 31,
      "id": "_undzjUnqTh5",
      "metadata": {
        "id": "_undzjUnqTh5"
      },
      "outputs": [],
      "source": [
        "df['COE_MA1Y'] = df['us_10_treasury_MA1Y'] + beta*MRP\n",
        "df['COE_MA2Y'] = df['us_10_treasury_MA2Y'] + beta*MRP"
      ]
    },
    {
      "cell_type": "code",
      "execution_count": 32,
      "id": "c4abf8ee",
      "metadata": {
        "colab": {
          "base_uri": "https://localhost:8080/",
          "height": 1000
        },
        "id": "c4abf8ee",
        "outputId": "9bdd929b-3f92-4644-cbad-359a60c1c32f"
      },
      "outputs": [
        {
          "data": {
            "text/plain": [
              "Text(0.5, 1.0, 'COE')"
            ]
          },
          "execution_count": 32,
          "metadata": {},
          "output_type": "execute_result"
        },
        {
          "data": {
            "image/png": "[encoded data removed]",
            "text/plain": [
              "<Figure size 640x480 with 1 Axes>"
            ]
          },
          "metadata": {},
          "output_type": "display_data"
        }
      ],
      "source": [
        "plt.plot(df['COE_MA2Y'])\n",
        "plt.title(\"COE\")"
      ]
    },
    {
      "cell_type": "code",
      "execution_count": 33,
      "id": "d4nVZ-h8qbbX",
      "metadata": {
        "colab": {
          "base_uri": "https://localhost:8080/",
          "height": 1000
        },
        "id": "d4nVZ-h8qbbX",
        "outputId": "4ea742fd-46e5-492c-aed1-41fcbba78855"
      },
      "outputs": [
        {
          "data": {
            "text/plain": [
              "Text(0.5, 1.0, 'COE_MA1Y')"
            ]
          },
          "execution_count": 33,
          "metadata": {},
          "output_type": "execute_result"
        },
        {
          "data": {
            "image/png": "[encoded data removed]",
            "text/plain": [
              "<Figure size 640x480 with 1 Axes>"
            ]
          },
          "metadata": {},
          "output_type": "display_data"
        }
      ],
      "source": [
        "plt.plot(df['COE_MA1Y'])\n",
        "plt.title(\"COE_MA1Y\")"
      ]
    },
    {
      "cell_type": "markdown",
      "id": "5e94e3c7-3deb-41d0-81bc-2cd1be661252",
      "metadata": {
        "id": "5e94e3c7-3deb-41d0-81bc-2cd1be661252",
        "tags": []
      },
      "source": [
        "### ROE, Growth Multiplier 계산\n",
        "\n",
        "- 순이익 = 영업이익 + 금융손익 + EMS *(1-20%)\n",
        "- ROE = 순이익 / 총자본\n",
        "- gm = PBR * COE / ROE\n",
        "\n",
        "(1-20%): 법인세"
      ]
    },
    {
      "cell_type": "code",
      "execution_count": 34,
      "id": "c61f3715",
      "metadata": {
        "id": "c61f3715"
      },
      "outputs": [],
      "source": [
        "# 년도와 분기를 포함한 컬럼 생성\n",
        "df['YearQuarter'] = df['Date'].dt.to_period('Q')"
      ]
    },
    {
      "cell_type": "code",
      "execution_count": 35,
      "id": "ddwLsWDUuQvV",
      "metadata": {
        "id": "ddwLsWDUuQvV"
      },
      "outputs": [],
      "source": [
        "#지수표현식 없애기\n",
        "pd.options.display.float_format = '{:.5f}'.format\n",
        "\n",
        "\n",
        "#되돌리기\n",
        "pd.reset_option('display.float_format')"
      ]
    },
    {
      "cell_type": "code",
      "execution_count": 36,
      "id": "0e1808d1",
      "metadata": {
        "id": "0e1808d1"
      },
      "outputs": [],
      "source": [
        "# 천원 단위 -> 원 단위\n",
        "df['영업이익(원)'] = df['영업이익(천원)'] * 1000\n",
        "df['금융손익(비영업)(원)'] = df['금융손익(비영업)(천원)'] * 1000\n",
        "df['관계기업투자등관련손익(비영업)(원)'] = df['관계기업투자등관련손익(비영업)(천원)'] * 1000\n",
        "df['총자본(원)'] = df['총자본(천원)'] * 1000\n",
        "\n",
        "# 천원 단위 컬럼 삭제\n",
        "df.drop(columns=['영업이익(천원)', '금융손익(비영업)(천원)', '관계기업투자등관련손익(비영업)(천원)', '총자본(천원)'], inplace=True)"
      ]
    },
    {
      "cell_type": "code",
      "execution_count": 37,
      "id": "Px-blfKltMvK",
      "metadata": {
        "colab": {
          "base_uri": "https://localhost:8080/",
          "height": 267
        },
        "id": "Px-blfKltMvK",
        "outputId": "32f644fc-47fa-4371-f128-284861594cb3"
      },
      "outputs": [
        {
          "data": {
            "text/html": [
              "<div>\n",
              "<style scoped>\n",
              "    .dataframe tbody tr th:only-of-type {\n",
              "        vertical-align: middle;\n",
              "    }\n",
              "\n",
              "    .dataframe tbody tr th {\n",
              "        vertical-align: top;\n",
              "    }\n",
              "\n",
              "    .dataframe thead th {\n",
              "        text-align: right;\n",
              "    }\n",
              "</style>\n",
              "<table border=\"1\" class=\"dataframe\">\n",
              "  <thead>\n",
              "    <tr style=\"text-align: right;\">\n",
              "      <th></th>\n",
              "      <th>Date</th>\n",
              "      <th>종가(원)</th>\n",
              "      <th>PBR(배)</th>\n",
              "      <th>us_10_treasury</th>\n",
              "      <th>us_10_treasury_MA1Y</th>\n",
              "      <th>us_10_treasury_MA2Y</th>\n",
              "      <th>Quarter</th>\n",
              "      <th>COE</th>\n",
              "      <th>COE_MA1Y</th>\n",
              "      <th>COE_MA2Y</th>\n",
              "      <th>YearQuarter</th>\n",
              "      <th>영업이익(원)</th>\n",
              "      <th>금융손익(비영업)(원)</th>\n",
              "      <th>관계기업투자등관련손익(비영업)(원)</th>\n",
              "      <th>총자본(원)</th>\n",
              "    </tr>\n",
              "  </thead>\n",
              "  <tbody>\n",
              "    <tr>\n",
              "      <th>0</th>\n",
              "      <td>2012-07-02</td>\n",
              "      <td>5510</td>\n",
              "      <td>0.5607</td>\n",
              "      <td>1.580</td>\n",
              "      <td>NaN</td>\n",
              "      <td>NaN</td>\n",
              "      <td>2012Q3</td>\n",
              "      <td>5.580</td>\n",
              "      <td>NaN</td>\n",
              "      <td>NaN</td>\n",
              "      <td>2012Q3</td>\n",
              "      <td>-10336000000</td>\n",
              "      <td>-56562000000</td>\n",
              "      <td>173000000</td>\n",
              "      <td>3730074000000</td>\n",
              "    </tr>\n",
              "    <tr>\n",
              "      <th>1</th>\n",
              "      <td>2012-07-03</td>\n",
              "      <td>5570</td>\n",
              "      <td>0.56681</td>\n",
              "      <td>1.631</td>\n",
              "      <td>NaN</td>\n",
              "      <td>NaN</td>\n",
              "      <td>2012Q3</td>\n",
              "      <td>5.631</td>\n",
              "      <td>NaN</td>\n",
              "      <td>NaN</td>\n",
              "      <td>2012Q3</td>\n",
              "      <td>-10336000000</td>\n",
              "      <td>-56562000000</td>\n",
              "      <td>173000000</td>\n",
              "      <td>3730074000000</td>\n",
              "    </tr>\n",
              "    <tr>\n",
              "      <th>2</th>\n",
              "      <td>2012-07-04</td>\n",
              "      <td>5530</td>\n",
              "      <td>0.56274</td>\n",
              "      <td>1.631</td>\n",
              "      <td>NaN</td>\n",
              "      <td>NaN</td>\n",
              "      <td>2012Q3</td>\n",
              "      <td>5.631</td>\n",
              "      <td>NaN</td>\n",
              "      <td>NaN</td>\n",
              "      <td>2012Q3</td>\n",
              "      <td>-10336000000</td>\n",
              "      <td>-56562000000</td>\n",
              "      <td>173000000</td>\n",
              "      <td>3730074000000</td>\n",
              "    </tr>\n",
              "  </tbody>\n",
              "</table>\n",
              "</div>"
            ],
            "text/plain": [
              "        Date 종가(원)   PBR(배)  us_10_treasury  us_10_treasury_MA1Y  \\\n",
              "0 2012-07-02  5510   0.5607           1.580                  NaN   \n",
              "1 2012-07-03  5570  0.56681           1.631                  NaN   \n",
              "2 2012-07-04  5530  0.56274           1.631                  NaN   \n",
              "\n",
              "   us_10_treasury_MA2Y Quarter    COE  COE_MA1Y  COE_MA2Y YearQuarter  \\\n",
              "0                  NaN  2012Q3  5.580       NaN       NaN      2012Q3   \n",
              "1                  NaN  2012Q3  5.631       NaN       NaN      2012Q3   \n",
              "2                  NaN  2012Q3  5.631       NaN       NaN      2012Q3   \n",
              "\n",
              "        영업이익(원)  금융손익(비영업)(원) 관계기업투자등관련손익(비영업)(원)         총자본(원)  \n",
              "0  -10336000000  -56562000000           173000000  3730074000000  \n",
              "1  -10336000000  -56562000000           173000000  3730074000000  \n",
              "2  -10336000000  -56562000000           173000000  3730074000000  "
            ]
          },
          "execution_count": 37,
          "metadata": {},
          "output_type": "execute_result"
        }
      ],
      "source": [
        "df.head(3)"
      ]
    },
    {
      "cell_type": "code",
      "execution_count": 38,
      "id": "-aEdws7jzB_H",
      "metadata": {
        "colab": {
          "base_uri": "https://localhost:8080/"
        },
        "id": "-aEdws7jzB_H",
        "outputId": "392acb4d-9886-4137-a713-e72e3e80f6f2"
      },
      "outputs": [
        {
          "data": {
            "text/plain": [
              "Index(['Date', '종가(원)', 'PBR(배)', 'us_10_treasury', 'us_10_treasury_MA1Y',\n",
              "       'us_10_treasury_MA2Y', 'Quarter', 'COE', 'COE_MA1Y', 'COE_MA2Y',\n",
              "       'YearQuarter', '영업이익(원)', '금융손익(비영업)(원)', '관계기업투자등관련손익(비영업)(원)',\n",
              "       '총자본(원)'],\n",
              "      dtype='object')"
            ]
          },
          "execution_count": 38,
          "metadata": {},
          "output_type": "execute_result"
        }
      ],
      "source": [
        "df.columns"
      ]
    },
    {
      "cell_type": "code",
      "execution_count": 39,
      "id": "sohm8OyMuT3t",
      "metadata": {
        "id": "sohm8OyMuT3t"
      },
      "outputs": [],
      "source": [
        "# YearQuarter 별로 가장 첫번째 값만 가져오는 코드\n",
        "gr_yq_df = df.groupby('YearQuarter').agg({\n",
        "    '영업이익(원)': 'first',\n",
        "    '금융손익(비영업)(원)': 'first',\n",
        "    '관계기업투자등관련손익(비영업)(원)': 'first',\n",
        "    '총자본(원)': 'first'\n",
        "})\n",
        "\n",
        "# 모든 컬럼을 정수형으로 변환\n",
        "for column in gr_yq_df.columns:\n",
        "    gr_yq_df[column] = gr_yq_df[column].astype(int)"
      ]
    },
    {
      "cell_type": "code",
      "execution_count": 40,
      "id": "W6GqsBDfoocx",
      "metadata": {
        "colab": {
          "base_uri": "https://localhost:8080/",
          "height": 1000
        },
        "id": "W6GqsBDfoocx",
        "outputId": "7f32fce2-bf7c-43fd-ba09-01f7ae6415f7"
      },
      "outputs": [
        {
          "data": {
            "text/html": [
              "<div>\n",
              "<style scoped>\n",
              "    .dataframe tbody tr th:only-of-type {\n",
              "        vertical-align: middle;\n",
              "    }\n",
              "\n",
              "    .dataframe tbody tr th {\n",
              "        vertical-align: top;\n",
              "    }\n",
              "\n",
              "    .dataframe thead th {\n",
              "        text-align: right;\n",
              "    }\n",
              "</style>\n",
              "<table border=\"1\" class=\"dataframe\">\n",
              "  <thead>\n",
              "    <tr style=\"text-align: right;\">\n",
              "      <th></th>\n",
              "      <th>영업이익(원)</th>\n",
              "      <th>금융손익(비영업)(원)</th>\n",
              "      <th>관계기업투자등관련손익(비영업)(원)</th>\n",
              "      <th>총자본(원)</th>\n",
              "    </tr>\n",
              "    <tr>\n",
              "      <th>YearQuarter</th>\n",
              "      <th></th>\n",
              "      <th></th>\n",
              "      <th></th>\n",
              "      <th></th>\n",
              "    </tr>\n",
              "  </thead>\n",
              "  <tbody>\n",
              "    <tr>\n",
              "      <th>2012Q3</th>\n",
              "      <td>-10336000000</td>\n",
              "      <td>-56562000000</td>\n",
              "      <td>173000000</td>\n",
              "      <td>3730074000000</td>\n",
              "    </tr>\n",
              "    <tr>\n",
              "      <th>2012Q4</th>\n",
              "      <td>72084000000</td>\n",
              "      <td>-60772000000</td>\n",
              "      <td>-79000000</td>\n",
              "      <td>3748500000000</td>\n",
              "    </tr>\n",
              "    <tr>\n",
              "      <th>2013Q1</th>\n",
              "      <td>123153000000</td>\n",
              "      <td>-36864000000</td>\n",
              "      <td>301000000</td>\n",
              "      <td>3820191000000</td>\n",
              "    </tr>\n",
              "    <tr>\n",
              "      <th>2013Q2</th>\n",
              "      <td>144818000000</td>\n",
              "      <td>-49885000000</td>\n",
              "      <td>213000000</td>\n",
              "      <td>3907798000000</td>\n",
              "    </tr>\n",
              "    <tr>\n",
              "      <th>2013Q3</th>\n",
              "      <td>149210000000</td>\n",
              "      <td>-48767000000</td>\n",
              "      <td>216000000</td>\n",
              "      <td>3981683000000</td>\n",
              "    </tr>\n",
              "    <tr>\n",
              "      <th>2013Q4</th>\n",
              "      <td>124948000000</td>\n",
              "      <td>-61094000000</td>\n",
              "      <td>249000000</td>\n",
              "      <td>4022616000000</td>\n",
              "    </tr>\n",
              "    <tr>\n",
              "      <th>2014Q1</th>\n",
              "      <td>113185000000</td>\n",
              "      <td>-44736000000</td>\n",
              "      <td>442000000</td>\n",
              "      <td>3983603000000</td>\n",
              "    </tr>\n",
              "    <tr>\n",
              "      <th>2014Q2</th>\n",
              "      <td>98026000000</td>\n",
              "      <td>-69360000000</td>\n",
              "      <td>507000000</td>\n",
              "      <td>4013886000000</td>\n",
              "    </tr>\n",
              "    <tr>\n",
              "      <th>2014Q3</th>\n",
              "      <td>174509000000</td>\n",
              "      <td>-52236000000</td>\n",
              "      <td>89000000</td>\n",
              "      <td>4103313000000</td>\n",
              "    </tr>\n",
              "    <tr>\n",
              "      <th>2014Q4</th>\n",
              "      <td>190618000000</td>\n",
              "      <td>-68783000000</td>\n",
              "      <td>-62000000</td>\n",
              "      <td>4177812000000</td>\n",
              "    </tr>\n",
              "    <tr>\n",
              "      <th>2015Q1</th>\n",
              "      <td>154715000000</td>\n",
              "      <td>-45701000000</td>\n",
              "      <td>193000000</td>\n",
              "      <td>4196089000000</td>\n",
              "    </tr>\n",
              "    <tr>\n",
              "      <th>2015Q2</th>\n",
              "      <td>192381000000</td>\n",
              "      <td>-47677000000</td>\n",
              "      <td>117000000</td>\n",
              "      <td>4310726000000</td>\n",
              "    </tr>\n",
              "    <tr>\n",
              "      <th>2015Q3</th>\n",
              "      <td>172120000000</td>\n",
              "      <td>-45462000000</td>\n",
              "      <td>67000000</td>\n",
              "      <td>4423370000000</td>\n",
              "    </tr>\n",
              "    <tr>\n",
              "      <th>2015Q4</th>\n",
              "      <td>113115000000</td>\n",
              "      <td>-44591000000</td>\n",
              "      <td>-1626000000</td>\n",
              "      <td>4448403000000</td>\n",
              "    </tr>\n",
              "    <tr>\n",
              "      <th>2016Q1</th>\n",
              "      <td>170597000000</td>\n",
              "      <td>-30875000000</td>\n",
              "      <td>124000000</td>\n",
              "      <td>4449160000000</td>\n",
              "    </tr>\n",
              "    <tr>\n",
              "      <th>2016Q2</th>\n",
              "      <td>180138000000</td>\n",
              "      <td>-30590000000</td>\n",
              "      <td>252000000</td>\n",
              "      <td>4579528000000</td>\n",
              "    </tr>\n",
              "    <tr>\n",
              "      <th>2016Q3</th>\n",
              "      <td>211354000000</td>\n",
              "      <td>-31918000000</td>\n",
              "      <td>159000000</td>\n",
              "      <td>4713406000000</td>\n",
              "    </tr>\n",
              "    <tr>\n",
              "      <th>2016Q4</th>\n",
              "      <td>184394000000</td>\n",
              "      <td>-26520000000</td>\n",
              "      <td>-3000000</td>\n",
              "      <td>4826328000000</td>\n",
              "    </tr>\n",
              "    <tr>\n",
              "      <th>2017Q1</th>\n",
              "      <td>202828000000</td>\n",
              "      <td>-29859000000</td>\n",
              "      <td>211000000</td>\n",
              "      <td>4805423000000</td>\n",
              "    </tr>\n",
              "    <tr>\n",
              "      <th>2017Q2</th>\n",
              "      <td>208000000000</td>\n",
              "      <td>-25802000000</td>\n",
              "      <td>-19000000</td>\n",
              "      <td>4941185000000</td>\n",
              "    </tr>\n",
              "    <tr>\n",
              "      <th>2017Q3</th>\n",
              "      <td>214134000000</td>\n",
              "      <td>-27162000000</td>\n",
              "      <td>-9000000</td>\n",
              "      <td>5083441000000</td>\n",
              "    </tr>\n",
              "    <tr>\n",
              "      <th>2017Q4</th>\n",
              "      <td>201333000000</td>\n",
              "      <td>-30130000000</td>\n",
              "      <td>-1068000000</td>\n",
              "      <td>5232986000000</td>\n",
              "    </tr>\n",
              "    <tr>\n",
              "      <th>2018Q1</th>\n",
              "      <td>187664000000</td>\n",
              "      <td>-32483000000</td>\n",
              "      <td>-93000000</td>\n",
              "      <td>6477282000000</td>\n",
              "    </tr>\n",
              "    <tr>\n",
              "      <th>2018Q2</th>\n",
              "      <td>211071000000</td>\n",
              "      <td>-21901000000</td>\n",
              "      <td>-134000000</td>\n",
              "      <td>6614753000000</td>\n",
              "    </tr>\n",
              "    <tr>\n",
              "      <th>2018Q3</th>\n",
              "      <td>228120000000</td>\n",
              "      <td>-19209000000</td>\n",
              "      <td>-113000000</td>\n",
              "      <td>6767943000000</td>\n",
              "    </tr>\n",
              "    <tr>\n",
              "      <th>2018Q4</th>\n",
              "      <td>113878000000</td>\n",
              "      <td>-18945000000</td>\n",
              "      <td>493000000</td>\n",
              "      <td>6853369000000</td>\n",
              "    </tr>\n",
              "    <tr>\n",
              "      <th>2019Q1</th>\n",
              "      <td>197112000000</td>\n",
              "      <td>-21877000000</td>\n",
              "      <td>355000000</td>\n",
              "      <td>6810800000000</td>\n",
              "    </tr>\n",
              "    <tr>\n",
              "      <th>2019Q2</th>\n",
              "      <td>150556000000</td>\n",
              "      <td>-20529000000</td>\n",
              "      <td>-11000000</td>\n",
              "      <td>6911674000000</td>\n",
              "    </tr>\n",
              "    <tr>\n",
              "      <th>2019Q3</th>\n",
              "      <td>156432000000</td>\n",
              "      <td>-24716000000</td>\n",
              "      <td>261000000</td>\n",
              "      <td>7016512000000</td>\n",
              "    </tr>\n",
              "    <tr>\n",
              "      <th>2019Q4</th>\n",
              "      <td>182144000000</td>\n",
              "      <td>-23551000000</td>\n",
              "      <td>596000000</td>\n",
              "      <td>7349616000000</td>\n",
              "    </tr>\n",
              "    <tr>\n",
              "      <th>2020Q1</th>\n",
              "      <td>219757000000</td>\n",
              "      <td>-20506000000</td>\n",
              "      <td>-767000000</td>\n",
              "      <td>7319587000000</td>\n",
              "    </tr>\n",
              "    <tr>\n",
              "      <th>2020Q2</th>\n",
              "      <td>239709000000</td>\n",
              "      <td>-23085000000</td>\n",
              "      <td>330000000</td>\n",
              "      <td>7468667000000</td>\n",
              "    </tr>\n",
              "    <tr>\n",
              "      <th>2020Q3</th>\n",
              "      <td>251206000000</td>\n",
              "      <td>-24364000000</td>\n",
              "      <td>842000000</td>\n",
              "      <td>7872234000000</td>\n",
              "    </tr>\n",
              "    <tr>\n",
              "      <th>2020Q4</th>\n",
              "      <td>175479000000</td>\n",
              "      <td>-26588000000</td>\n",
              "      <td>211000000</td>\n",
              "      <td>7651214000000</td>\n",
              "    </tr>\n",
              "    <tr>\n",
              "      <th>2021Q1</th>\n",
              "      <td>275617000000</td>\n",
              "      <td>-25232000000</td>\n",
              "      <td>422000000</td>\n",
              "      <td>7654154000000</td>\n",
              "    </tr>\n",
              "    <tr>\n",
              "      <th>2021Q2</th>\n",
              "      <td>268420000000</td>\n",
              "      <td>-21510000000</td>\n",
              "      <td>431000000</td>\n",
              "      <td>7850809000000</td>\n",
              "    </tr>\n",
              "    <tr>\n",
              "      <th>2021Q3</th>\n",
              "      <td>276739000000</td>\n",
              "      <td>-25298000000</td>\n",
              "      <td>545000000</td>\n",
              "      <td>7902636000000</td>\n",
              "    </tr>\n",
              "    <tr>\n",
              "      <th>2021Q4</th>\n",
              "      <td>158238000000</td>\n",
              "      <td>-24575000000</td>\n",
              "      <td>914000000</td>\n",
              "      <td>7958558000000</td>\n",
              "    </tr>\n",
              "    <tr>\n",
              "      <th>2022Q1</th>\n",
              "      <td>261246000000</td>\n",
              "      <td>-32221000000</td>\n",
              "      <td>910000000</td>\n",
              "      <td>7975956000000</td>\n",
              "    </tr>\n",
              "    <tr>\n",
              "      <th>2022Q2</th>\n",
              "      <td>248374000000</td>\n",
              "      <td>-32549000000</td>\n",
              "      <td>489000000</td>\n",
              "      <td>8212179000000</td>\n",
              "    </tr>\n",
              "    <tr>\n",
              "      <th>2022Q3</th>\n",
              "      <td>285067000000</td>\n",
              "      <td>-45993000000</td>\n",
              "      <td>1704000000</td>\n",
              "      <td>8313281000000</td>\n",
              "    </tr>\n",
              "    <tr>\n",
              "      <th>2022Q4</th>\n",
              "      <td>286573000000</td>\n",
              "      <td>-55101000000</td>\n",
              "      <td>231000000</td>\n",
              "      <td>8449667000000</td>\n",
              "    </tr>\n",
              "    <tr>\n",
              "      <th>2023Q1</th>\n",
              "      <td>260212000000</td>\n",
              "      <td>-57482000000</td>\n",
              "      <td>-396000000</td>\n",
              "      <td>8428711000000</td>\n",
              "    </tr>\n",
              "    <tr>\n",
              "      <th>2023Q2</th>\n",
              "      <td>288042000000</td>\n",
              "      <td>-52261000000</td>\n",
              "      <td>1045000000</td>\n",
              "      <td>8641735000000</td>\n",
              "    </tr>\n",
              "  </tbody>\n",
              "</table>\n",
              "</div>"
            ],
            "text/plain": [
              "                  영업이익(원)  금융손익(비영업)(원)  관계기업투자등관련손익(비영업)(원)         총자본(원)\n",
              "YearQuarter                                                                \n",
              "2012Q3       -10336000000  -56562000000            173000000  3730074000000\n",
              "2012Q4        72084000000  -60772000000            -79000000  3748500000000\n",
              "2013Q1       123153000000  -36864000000            301000000  3820191000000\n",
              "2013Q2       144818000000  -49885000000            213000000  3907798000000\n",
              "2013Q3       149210000000  -48767000000            216000000  3981683000000\n",
              "2013Q4       124948000000  -61094000000            249000000  4022616000000\n",
              "2014Q1       113185000000  -44736000000            442000000  3983603000000\n",
              "2014Q2        98026000000  -69360000000            507000000  4013886000000\n",
              "2014Q3       174509000000  -52236000000             89000000  4103313000000\n",
              "2014Q4       190618000000  -68783000000            -62000000  4177812000000\n",
              "2015Q1       154715000000  -45701000000            193000000  4196089000000\n",
              "2015Q2       192381000000  -47677000000            117000000  4310726000000\n",
              "2015Q3       172120000000  -45462000000             67000000  4423370000000\n",
              "2015Q4       113115000000  -44591000000          -1626000000  4448403000000\n",
              "2016Q1       170597000000  -30875000000            124000000  4449160000000\n",
              "2016Q2       180138000000  -30590000000            252000000  4579528000000\n",
              "2016Q3       211354000000  -31918000000            159000000  4713406000000\n",
              "2016Q4       184394000000  -26520000000             -3000000  4826328000000\n",
              "2017Q1       202828000000  -29859000000            211000000  4805423000000\n",
              "2017Q2       208000000000  -25802000000            -19000000  4941185000000\n",
              "2017Q3       214134000000  -27162000000             -9000000  5083441000000\n",
              "2017Q4       201333000000  -30130000000          -1068000000  5232986000000\n",
              "2018Q1       187664000000  -32483000000            -93000000  6477282000000\n",
              "2018Q2       211071000000  -21901000000           -134000000  6614753000000\n",
              "2018Q3       228120000000  -19209000000           -113000000  6767943000000\n",
              "2018Q4       113878000000  -18945000000            493000000  6853369000000\n",
              "2019Q1       197112000000  -21877000000            355000000  6810800000000\n",
              "2019Q2       150556000000  -20529000000            -11000000  6911674000000\n",
              "2019Q3       156432000000  -24716000000            261000000  7016512000000\n",
              "2019Q4       182144000000  -23551000000            596000000  7349616000000\n",
              "2020Q1       219757000000  -20506000000           -767000000  7319587000000\n",
              "2020Q2       239709000000  -23085000000            330000000  7468667000000\n",
              "2020Q3       251206000000  -24364000000            842000000  7872234000000\n",
              "2020Q4       175479000000  -26588000000            211000000  7651214000000\n",
              "2021Q1       275617000000  -25232000000            422000000  7654154000000\n",
              "2021Q2       268420000000  -21510000000            431000000  7850809000000\n",
              "2021Q3       276739000000  -25298000000            545000000  7902636000000\n",
              "2021Q4       158238000000  -24575000000            914000000  7958558000000\n",
              "2022Q1       261246000000  -32221000000            910000000  7975956000000\n",
              "2022Q2       248374000000  -32549000000            489000000  8212179000000\n",
              "2022Q3       285067000000  -45993000000           1704000000  8313281000000\n",
              "2022Q4       286573000000  -55101000000            231000000  8449667000000\n",
              "2023Q1       260212000000  -57482000000           -396000000  8428711000000\n",
              "2023Q2       288042000000  -52261000000           1045000000  8641735000000"
            ]
          },
          "execution_count": 40,
          "metadata": {},
          "output_type": "execute_result"
        }
      ],
      "source": [
        "gr_yq_df"
      ]
    },
    {
      "cell_type": "code",
      "execution_count": 41,
      "id": "e6xB1bY2oocx",
      "metadata": {
        "id": "e6xB1bY2oocx"
      },
      "outputs": [],
      "source": [
        "# 계단 평균의 이동평균을 계산하는 함수 정의\n",
        "def move_mean(data, window_size=4):\n",
        "    M = [None] * (window_size - 1)  # 첫 window_size - 1개는 NA로 채움\n",
        "    for n in range(len(data) - window_size + 1):\n",
        "        move_mean = sum(data[n:n+window_size]) / window_size\n",
        "        M.append(int(move_mean))  # 계산된 이동 평균을 정수형으로 변환\n",
        "    return M\n"
      ]
    },
    {
      "cell_type": "code",
      "execution_count": 42,
      "id": "eKbksO0aoocx",
      "metadata": {
        "colab": {
          "base_uri": "https://localhost:8080/",
          "height": 466
        },
        "id": "eKbksO0aoocx",
        "outputId": "08941856-48d0-40e2-b35d-df72eef9d72c"
      },
      "outputs": [
        {
          "data": {
            "text/html": [
              "<div>\n",
              "<style scoped>\n",
              "    .dataframe tbody tr th:only-of-type {\n",
              "        vertical-align: middle;\n",
              "    }\n",
              "\n",
              "    .dataframe tbody tr th {\n",
              "        vertical-align: top;\n",
              "    }\n",
              "\n",
              "    .dataframe thead th {\n",
              "        text-align: right;\n",
              "    }\n",
              "</style>\n",
              "<table border=\"1\" class=\"dataframe\">\n",
              "  <thead>\n",
              "    <tr style=\"text-align: right;\">\n",
              "      <th></th>\n",
              "      <th>영업이익(원)</th>\n",
              "      <th>금융손익(비영업)(원)</th>\n",
              "      <th>관계기업투자등관련손익(비영업)(원)</th>\n",
              "      <th>총자본(원)</th>\n",
              "      <th>영업이익(원)_mean</th>\n",
              "      <th>금융손익(비영업)(원)_mean</th>\n",
              "      <th>관계기업투자등관련손익(비영업)(원)_mean</th>\n",
              "      <th>총자본(원)_mean</th>\n",
              "    </tr>\n",
              "    <tr>\n",
              "      <th>YearQuarter</th>\n",
              "      <th></th>\n",
              "      <th></th>\n",
              "      <th></th>\n",
              "      <th></th>\n",
              "      <th></th>\n",
              "      <th></th>\n",
              "      <th></th>\n",
              "      <th></th>\n",
              "    </tr>\n",
              "  </thead>\n",
              "  <tbody>\n",
              "    <tr>\n",
              "      <th>2021Q1</th>\n",
              "      <td>275617000000</td>\n",
              "      <td>-25232000000</td>\n",
              "      <td>422000000</td>\n",
              "      <td>7654154000000</td>\n",
              "      <td>2.355028e+11</td>\n",
              "      <td>-2.481725e+10</td>\n",
              "      <td>4.512500e+08</td>\n",
              "      <td>7.661567e+12</td>\n",
              "    </tr>\n",
              "    <tr>\n",
              "      <th>2021Q2</th>\n",
              "      <td>268420000000</td>\n",
              "      <td>-21510000000</td>\n",
              "      <td>431000000</td>\n",
              "      <td>7850809000000</td>\n",
              "      <td>2.426805e+11</td>\n",
              "      <td>-2.442350e+10</td>\n",
              "      <td>4.765000e+08</td>\n",
              "      <td>7.757103e+12</td>\n",
              "    </tr>\n",
              "    <tr>\n",
              "      <th>2021Q3</th>\n",
              "      <td>276739000000</td>\n",
              "      <td>-25298000000</td>\n",
              "      <td>545000000</td>\n",
              "      <td>7902636000000</td>\n",
              "      <td>2.490638e+11</td>\n",
              "      <td>-2.465700e+10</td>\n",
              "      <td>4.022500e+08</td>\n",
              "      <td>7.764703e+12</td>\n",
              "    </tr>\n",
              "    <tr>\n",
              "      <th>2021Q4</th>\n",
              "      <td>158238000000</td>\n",
              "      <td>-24575000000</td>\n",
              "      <td>914000000</td>\n",
              "      <td>7958558000000</td>\n",
              "      <td>2.447535e+11</td>\n",
              "      <td>-2.415375e+10</td>\n",
              "      <td>5.780000e+08</td>\n",
              "      <td>7.841539e+12</td>\n",
              "    </tr>\n",
              "    <tr>\n",
              "      <th>2022Q1</th>\n",
              "      <td>261246000000</td>\n",
              "      <td>-32221000000</td>\n",
              "      <td>910000000</td>\n",
              "      <td>7975956000000</td>\n",
              "      <td>2.411608e+11</td>\n",
              "      <td>-2.590100e+10</td>\n",
              "      <td>7.000000e+08</td>\n",
              "      <td>7.921990e+12</td>\n",
              "    </tr>\n",
              "    <tr>\n",
              "      <th>2022Q2</th>\n",
              "      <td>248374000000</td>\n",
              "      <td>-32549000000</td>\n",
              "      <td>489000000</td>\n",
              "      <td>8212179000000</td>\n",
              "      <td>2.361492e+11</td>\n",
              "      <td>-2.866075e+10</td>\n",
              "      <td>7.145000e+08</td>\n",
              "      <td>8.012332e+12</td>\n",
              "    </tr>\n",
              "    <tr>\n",
              "      <th>2022Q3</th>\n",
              "      <td>285067000000</td>\n",
              "      <td>-45993000000</td>\n",
              "      <td>1704000000</td>\n",
              "      <td>8313281000000</td>\n",
              "      <td>2.382312e+11</td>\n",
              "      <td>-3.383450e+10</td>\n",
              "      <td>1.004250e+09</td>\n",
              "      <td>8.114994e+12</td>\n",
              "    </tr>\n",
              "    <tr>\n",
              "      <th>2022Q4</th>\n",
              "      <td>286573000000</td>\n",
              "      <td>-55101000000</td>\n",
              "      <td>231000000</td>\n",
              "      <td>8449667000000</td>\n",
              "      <td>2.703150e+11</td>\n",
              "      <td>-4.146600e+10</td>\n",
              "      <td>8.335000e+08</td>\n",
              "      <td>8.237771e+12</td>\n",
              "    </tr>\n",
              "    <tr>\n",
              "      <th>2023Q1</th>\n",
              "      <td>260212000000</td>\n",
              "      <td>-57482000000</td>\n",
              "      <td>-396000000</td>\n",
              "      <td>8428711000000</td>\n",
              "      <td>2.700565e+11</td>\n",
              "      <td>-4.778125e+10</td>\n",
              "      <td>5.070000e+08</td>\n",
              "      <td>8.350960e+12</td>\n",
              "    </tr>\n",
              "    <tr>\n",
              "      <th>2023Q2</th>\n",
              "      <td>288042000000</td>\n",
              "      <td>-52261000000</td>\n",
              "      <td>1045000000</td>\n",
              "      <td>8641735000000</td>\n",
              "      <td>2.799735e+11</td>\n",
              "      <td>-5.270925e+10</td>\n",
              "      <td>6.460000e+08</td>\n",
              "      <td>8.458348e+12</td>\n",
              "    </tr>\n",
              "  </tbody>\n",
              "</table>\n",
              "</div>"
            ],
            "text/plain": [
              "                  영업이익(원)  금융손익(비영업)(원)  관계기업투자등관련손익(비영업)(원)         총자본(원)  \\\n",
              "YearQuarter                                                                   \n",
              "2021Q1       275617000000  -25232000000            422000000  7654154000000   \n",
              "2021Q2       268420000000  -21510000000            431000000  7850809000000   \n",
              "2021Q3       276739000000  -25298000000            545000000  7902636000000   \n",
              "2021Q4       158238000000  -24575000000            914000000  7958558000000   \n",
              "2022Q1       261246000000  -32221000000            910000000  7975956000000   \n",
              "2022Q2       248374000000  -32549000000            489000000  8212179000000   \n",
              "2022Q3       285067000000  -45993000000           1704000000  8313281000000   \n",
              "2022Q4       286573000000  -55101000000            231000000  8449667000000   \n",
              "2023Q1       260212000000  -57482000000           -396000000  8428711000000   \n",
              "2023Q2       288042000000  -52261000000           1045000000  8641735000000   \n",
              "\n",
              "             영업이익(원)_mean  금융손익(비영업)(원)_mean  관계기업투자등관련손익(비영업)(원)_mean  \\\n",
              "YearQuarter                                                              \n",
              "2021Q1       2.355028e+11      -2.481725e+10              4.512500e+08   \n",
              "2021Q2       2.426805e+11      -2.442350e+10              4.765000e+08   \n",
              "2021Q3       2.490638e+11      -2.465700e+10              4.022500e+08   \n",
              "2021Q4       2.447535e+11      -2.415375e+10              5.780000e+08   \n",
              "2022Q1       2.411608e+11      -2.590100e+10              7.000000e+08   \n",
              "2022Q2       2.361492e+11      -2.866075e+10              7.145000e+08   \n",
              "2022Q3       2.382312e+11      -3.383450e+10              1.004250e+09   \n",
              "2022Q4       2.703150e+11      -4.146600e+10              8.335000e+08   \n",
              "2023Q1       2.700565e+11      -4.778125e+10              5.070000e+08   \n",
              "2023Q2       2.799735e+11      -5.270925e+10              6.460000e+08   \n",
              "\n",
              "              총자본(원)_mean  \n",
              "YearQuarter                \n",
              "2021Q1       7.661567e+12  \n",
              "2021Q2       7.757103e+12  \n",
              "2021Q3       7.764703e+12  \n",
              "2021Q4       7.841539e+12  \n",
              "2022Q1       7.921990e+12  \n",
              "2022Q2       8.012332e+12  \n",
              "2022Q3       8.114994e+12  \n",
              "2022Q4       8.237771e+12  \n",
              "2023Q1       8.350960e+12  \n",
              "2023Q2       8.458348e+12  "
            ]
          },
          "execution_count": 42,
          "metadata": {},
          "output_type": "execute_result"
        }
      ],
      "source": [
        "# 각 컬럼에 대해 이동 평균을 계산\n",
        "for column in ['영업이익(원)', '금융손익(비영업)(원)', '관계기업투자등관련손익(비영업)(원)', '총자본(원)']:\n",
        "    gr_yq_df[column + '_mean'] = move_mean(gr_yq_df[column])\n",
        "\n",
        "gr_yq_df.tail(10)"
      ]
    },
    {
      "cell_type": "code",
      "execution_count": 43,
      "id": "pI11KpERoocy",
      "metadata": {
        "id": "pI11KpERoocy"
      },
      "outputs": [],
      "source": [
        "# 모든 컬럼을 정수형으로 변환\n",
        "for column in gr_yq_df.columns:\n",
        "    gr_yq_df[column] = pd.to_numeric(gr_yq_df[column], errors='coerce').astype('Int64')"
      ]
    },
    {
      "cell_type": "code",
      "execution_count": 44,
      "id": "uOYymOWKwH_s",
      "metadata": {
        "colab": {
          "base_uri": "https://localhost:8080/"
        },
        "id": "uOYymOWKwH_s",
        "outputId": "9e9abf38-a258-464c-d1db-a6cf13727d52"
      },
      "outputs": [
        {
          "data": {
            "text/plain": [
              "Index(['영업이익(원)', '금융손익(비영업)(원)', '관계기업투자등관련손익(비영업)(원)', '총자본(원)',\n",
              "       '영업이익(원)_mean', '금융손익(비영업)(원)_mean', '관계기업투자등관련손익(비영업)(원)_mean',\n",
              "       '총자본(원)_mean'],\n",
              "      dtype='object')"
            ]
          },
          "execution_count": 44,
          "metadata": {},
          "output_type": "execute_result"
        }
      ],
      "source": [
        "gr_yq_df.columns"
      ]
    },
    {
      "cell_type": "code",
      "execution_count": 45,
      "id": "h10psS9Soocy",
      "metadata": {
        "id": "h10psS9Soocy"
      },
      "outputs": [],
      "source": [
        "df_cleaned = pd.merge(df, gr_yq_df[['영업이익(원)_mean', '금융손익(비영업)(원)_mean', '관계기업투자등관련손익(비영업)(원)_mean', '총자본(원)_mean']], on='YearQuarter')"
      ]
    },
    {
      "cell_type": "code",
      "execution_count": 46,
      "id": "1lQGoKzBoocz",
      "metadata": {
        "colab": {
          "base_uri": "https://localhost:8080/"
        },
        "id": "1lQGoKzBoocz",
        "outputId": "48ec5417-8aed-483e-cf4c-ee7a53771c5b"
      },
      "outputs": [
        {
          "data": {
            "text/plain": [
              "Index(['Date', '종가(원)', 'PBR(배)', 'us_10_treasury', 'us_10_treasury_MA1Y',\n",
              "       'us_10_treasury_MA2Y', 'Quarter', 'COE', 'COE_MA1Y', 'COE_MA2Y',\n",
              "       'YearQuarter', '영업이익(원)', '금융손익(비영업)(원)', '관계기업투자등관련손익(비영업)(원)',\n",
              "       '총자본(원)', '영업이익(원)_mean', '금융손익(비영업)(원)_mean',\n",
              "       '관계기업투자등관련손익(비영업)(원)_mean', '총자본(원)_mean'],\n",
              "      dtype='object')"
            ]
          },
          "execution_count": 46,
          "metadata": {},
          "output_type": "execute_result"
        }
      ],
      "source": [
        "df_cleaned.columns"
      ]
    },
    {
      "cell_type": "code",
      "execution_count": 47,
      "id": "rHGlO4kloocz",
      "metadata": {
        "id": "rHGlO4kloocz"
      },
      "outputs": [],
      "source": [
        "df_cleaned = df_cleaned.dropna()"
      ]
    },
    {
      "cell_type": "code",
      "execution_count": 48,
      "id": "xWGB0oAFwvcC",
      "metadata": {
        "id": "xWGB0oAFwvcC"
      },
      "outputs": [],
      "source": [
        "df_cleaned['순이익'] = (df_cleaned['영업이익(원)_mean'] + df_cleaned['금융손익(비영업)(원)_mean'] + df_cleaned['관계기업투자등관련손익(비영업)(원)_mean']) * 0.8"
      ]
    },
    {
      "cell_type": "code",
      "execution_count": 49,
      "id": "LRVG3jhSxLBj",
      "metadata": {
        "colab": {
          "base_uri": "https://localhost:8080/",
          "height": 382
        },
        "id": "LRVG3jhSxLBj",
        "outputId": "47a40973-d1d8-4083-d76d-c03860893c58"
      },
      "outputs": [
        {
          "data": {
            "text/html": [
              "<div>\n",
              "<style scoped>\n",
              "    .dataframe tbody tr th:only-of-type {\n",
              "        vertical-align: middle;\n",
              "    }\n",
              "\n",
              "    .dataframe tbody tr th {\n",
              "        vertical-align: top;\n",
              "    }\n",
              "\n",
              "    .dataframe thead th {\n",
              "        text-align: right;\n",
              "    }\n",
              "</style>\n",
              "<table border=\"1\" class=\"dataframe\">\n",
              "  <thead>\n",
              "    <tr style=\"text-align: right;\">\n",
              "      <th></th>\n",
              "      <th>Date</th>\n",
              "      <th>종가(원)</th>\n",
              "      <th>PBR(배)</th>\n",
              "      <th>us_10_treasury</th>\n",
              "      <th>us_10_treasury_MA1Y</th>\n",
              "      <th>us_10_treasury_MA2Y</th>\n",
              "      <th>Quarter</th>\n",
              "      <th>COE</th>\n",
              "      <th>COE_MA1Y</th>\n",
              "      <th>COE_MA2Y</th>\n",
              "      <th>YearQuarter</th>\n",
              "      <th>영업이익(원)</th>\n",
              "      <th>금융손익(비영업)(원)</th>\n",
              "      <th>관계기업투자등관련손익(비영업)(원)</th>\n",
              "      <th>총자본(원)</th>\n",
              "      <th>영업이익(원)_mean</th>\n",
              "      <th>금융손익(비영업)(원)_mean</th>\n",
              "      <th>관계기업투자등관련손익(비영업)(원)_mean</th>\n",
              "      <th>총자본(원)_mean</th>\n",
              "      <th>순이익</th>\n",
              "    </tr>\n",
              "  </thead>\n",
              "  <tbody>\n",
              "    <tr>\n",
              "      <th>479</th>\n",
              "      <td>2014-05-02</td>\n",
              "      <td>10050</td>\n",
              "      <td>1.09369</td>\n",
              "      <td>2.591</td>\n",
              "      <td>2.687496</td>\n",
              "      <td>2.225065</td>\n",
              "      <td>2014Q2</td>\n",
              "      <td>6.591</td>\n",
              "      <td>6.687496</td>\n",
              "      <td>6.225065</td>\n",
              "      <td>2014Q2</td>\n",
              "      <td>98026000000</td>\n",
              "      <td>-69360000000</td>\n",
              "      <td>507000000</td>\n",
              "      <td>4013886000000</td>\n",
              "      <td>121342250000</td>\n",
              "      <td>-55989250000</td>\n",
              "      <td>353500000</td>\n",
              "      <td>4000447000000</td>\n",
              "      <td>52565200000.0</td>\n",
              "    </tr>\n",
              "    <tr>\n",
              "      <th>482</th>\n",
              "      <td>2014-05-07</td>\n",
              "      <td>9870</td>\n",
              "      <td>1.0741</td>\n",
              "      <td>2.590</td>\n",
              "      <td>2.693433</td>\n",
              "      <td>2.231219</td>\n",
              "      <td>2014Q2</td>\n",
              "      <td>6.590</td>\n",
              "      <td>6.693433</td>\n",
              "      <td>6.231219</td>\n",
              "      <td>2014Q2</td>\n",
              "      <td>98026000000</td>\n",
              "      <td>-69360000000</td>\n",
              "      <td>507000000</td>\n",
              "      <td>4013886000000</td>\n",
              "      <td>121342250000</td>\n",
              "      <td>-55989250000</td>\n",
              "      <td>353500000</td>\n",
              "      <td>4000447000000</td>\n",
              "      <td>52565200000.0</td>\n",
              "    </tr>\n",
              "    <tr>\n",
              "      <th>483</th>\n",
              "      <td>2014-05-08</td>\n",
              "      <td>10000</td>\n",
              "      <td>1.08825</td>\n",
              "      <td>2.602</td>\n",
              "      <td>2.695629</td>\n",
              "      <td>2.233312</td>\n",
              "      <td>2014Q2</td>\n",
              "      <td>6.602</td>\n",
              "      <td>6.695629</td>\n",
              "      <td>6.233312</td>\n",
              "      <td>2014Q2</td>\n",
              "      <td>98026000000</td>\n",
              "      <td>-69360000000</td>\n",
              "      <td>507000000</td>\n",
              "      <td>4013886000000</td>\n",
              "      <td>121342250000</td>\n",
              "      <td>-55989250000</td>\n",
              "      <td>353500000</td>\n",
              "      <td>4000447000000</td>\n",
              "      <td>52565200000.0</td>\n",
              "    </tr>\n",
              "    <tr>\n",
              "      <th>484</th>\n",
              "      <td>2014-05-09</td>\n",
              "      <td>10100</td>\n",
              "      <td>1.09913</td>\n",
              "      <td>2.623</td>\n",
              "      <td>2.697554</td>\n",
              "      <td>2.235560</td>\n",
              "      <td>2014Q2</td>\n",
              "      <td>6.623</td>\n",
              "      <td>6.697554</td>\n",
              "      <td>6.235560</td>\n",
              "      <td>2014Q2</td>\n",
              "      <td>98026000000</td>\n",
              "      <td>-69360000000</td>\n",
              "      <td>507000000</td>\n",
              "      <td>4013886000000</td>\n",
              "      <td>121342250000</td>\n",
              "      <td>-55989250000</td>\n",
              "      <td>353500000</td>\n",
              "      <td>4000447000000</td>\n",
              "      <td>52565200000.0</td>\n",
              "    </tr>\n",
              "    <tr>\n",
              "      <th>485</th>\n",
              "      <td>2014-05-12</td>\n",
              "      <td>10050</td>\n",
              "      <td>1.09369</td>\n",
              "      <td>2.656</td>\n",
              "      <td>2.699392</td>\n",
              "      <td>2.237942</td>\n",
              "      <td>2014Q2</td>\n",
              "      <td>6.656</td>\n",
              "      <td>6.699392</td>\n",
              "      <td>6.237942</td>\n",
              "      <td>2014Q2</td>\n",
              "      <td>98026000000</td>\n",
              "      <td>-69360000000</td>\n",
              "      <td>507000000</td>\n",
              "      <td>4013886000000</td>\n",
              "      <td>121342250000</td>\n",
              "      <td>-55989250000</td>\n",
              "      <td>353500000</td>\n",
              "      <td>4000447000000</td>\n",
              "      <td>52565200000.0</td>\n",
              "    </tr>\n",
              "  </tbody>\n",
              "</table>\n",
              "</div>"
            ],
            "text/plain": [
              "          Date  종가(원)   PBR(배)  us_10_treasury  us_10_treasury_MA1Y  \\\n",
              "479 2014-05-02  10050  1.09369           2.591             2.687496   \n",
              "482 2014-05-07   9870   1.0741           2.590             2.693433   \n",
              "483 2014-05-08  10000  1.08825           2.602             2.695629   \n",
              "484 2014-05-09  10100  1.09913           2.623             2.697554   \n",
              "485 2014-05-12  10050  1.09369           2.656             2.699392   \n",
              "\n",
              "     us_10_treasury_MA2Y Quarter    COE  COE_MA1Y  COE_MA2Y YearQuarter  \\\n",
              "479             2.225065  2014Q2  6.591  6.687496  6.225065      2014Q2   \n",
              "482             2.231219  2014Q2  6.590  6.693433  6.231219      2014Q2   \n",
              "483             2.233312  2014Q2  6.602  6.695629  6.233312      2014Q2   \n",
              "484             2.235560  2014Q2  6.623  6.697554  6.235560      2014Q2   \n",
              "485             2.237942  2014Q2  6.656  6.699392  6.237942      2014Q2   \n",
              "\n",
              "         영업이익(원)  금융손익(비영업)(원) 관계기업투자등관련손익(비영업)(원)         총자본(원)  \\\n",
              "479  98026000000  -69360000000           507000000  4013886000000   \n",
              "482  98026000000  -69360000000           507000000  4013886000000   \n",
              "483  98026000000  -69360000000           507000000  4013886000000   \n",
              "484  98026000000  -69360000000           507000000  4013886000000   \n",
              "485  98026000000  -69360000000           507000000  4013886000000   \n",
              "\n",
              "     영업이익(원)_mean  금융손익(비영업)(원)_mean  관계기업투자등관련손익(비영업)(원)_mean    총자본(원)_mean  \\\n",
              "479  121342250000       -55989250000                 353500000  4000447000000   \n",
              "482  121342250000       -55989250000                 353500000  4000447000000   \n",
              "483  121342250000       -55989250000                 353500000  4000447000000   \n",
              "484  121342250000       -55989250000                 353500000  4000447000000   \n",
              "485  121342250000       -55989250000                 353500000  4000447000000   \n",
              "\n",
              "               순이익  \n",
              "479  52565200000.0  \n",
              "482  52565200000.0  \n",
              "483  52565200000.0  \n",
              "484  52565200000.0  \n",
              "485  52565200000.0  "
            ]
          },
          "execution_count": 49,
          "metadata": {},
          "output_type": "execute_result"
        }
      ],
      "source": [
        "df_cleaned.head(5)"
      ]
    },
    {
      "cell_type": "code",
      "execution_count": 50,
      "id": "zEFadEBZy2l7",
      "metadata": {
        "colab": {
          "base_uri": "https://localhost:8080/"
        },
        "id": "zEFadEBZy2l7",
        "outputId": "ae86bfd1-6c8e-4a59-a8ed-0f2dd7770481"
      },
      "outputs": [
        {
          "data": {
            "text/plain": [
              "Index(['Date', '종가(원)', 'PBR(배)', 'us_10_treasury', 'us_10_treasury_MA1Y',\n",
              "       'us_10_treasury_MA2Y', 'Quarter', 'COE', 'COE_MA1Y', 'COE_MA2Y',\n",
              "       'YearQuarter', '영업이익(원)', '금융손익(비영업)(원)', '관계기업투자등관련손익(비영업)(원)',\n",
              "       '총자본(원)', '영업이익(원)_mean', '금융손익(비영업)(원)_mean',\n",
              "       '관계기업투자등관련손익(비영업)(원)_mean', '총자본(원)_mean', '순이익'],\n",
              "      dtype='object')"
            ]
          },
          "execution_count": 50,
          "metadata": {},
          "output_type": "execute_result"
        }
      ],
      "source": [
        "df_cleaned.columns"
      ]
    },
    {
      "cell_type": "code",
      "execution_count": 51,
      "id": "U94qAU6G0h39",
      "metadata": {
        "colab": {
          "base_uri": "https://localhost:8080/",
          "height": 686
        },
        "id": "U94qAU6G0h39",
        "outputId": "caeadc34-2e5d-48d9-c62c-2259fbbff991"
      },
      "outputs": [
        {
          "data": {
            "text/html": [
              "<div>\n",
              "<style scoped>\n",
              "    .dataframe tbody tr th:only-of-type {\n",
              "        vertical-align: middle;\n",
              "    }\n",
              "\n",
              "    .dataframe tbody tr th {\n",
              "        vertical-align: top;\n",
              "    }\n",
              "\n",
              "    .dataframe thead th {\n",
              "        text-align: right;\n",
              "    }\n",
              "</style>\n",
              "<table border=\"1\" class=\"dataframe\">\n",
              "  <thead>\n",
              "    <tr style=\"text-align: right;\">\n",
              "      <th></th>\n",
              "      <th>Date</th>\n",
              "      <th>종가(원)</th>\n",
              "      <th>PBR(배)</th>\n",
              "      <th>us_10_treasury</th>\n",
              "      <th>us_10_treasury_MA1Y</th>\n",
              "      <th>us_10_treasury_MA2Y</th>\n",
              "      <th>Quarter</th>\n",
              "      <th>COE</th>\n",
              "      <th>COE_MA1Y</th>\n",
              "      <th>COE_MA2Y</th>\n",
              "      <th>YearQuarter</th>\n",
              "      <th>영업이익(원)</th>\n",
              "      <th>금융손익(비영업)(원)</th>\n",
              "      <th>관계기업투자등관련손익(비영업)(원)</th>\n",
              "      <th>총자본(원)</th>\n",
              "      <th>영업이익(원)_mean</th>\n",
              "      <th>금융손익(비영업)(원)_mean</th>\n",
              "      <th>관계기업투자등관련손익(비영업)(원)_mean</th>\n",
              "      <th>총자본(원)_mean</th>\n",
              "      <th>순이익</th>\n",
              "    </tr>\n",
              "  </thead>\n",
              "  <tbody>\n",
              "    <tr>\n",
              "      <th>1958</th>\n",
              "      <td>2020-01-02</td>\n",
              "      <td>13850</td>\n",
              "      <td>0.85774</td>\n",
              "      <td>1.882</td>\n",
              "      <td>2.083292</td>\n",
              "      <td>2.504896</td>\n",
              "      <td>2020Q1</td>\n",
              "      <td>5.882</td>\n",
              "      <td>6.083292</td>\n",
              "      <td>6.504896</td>\n",
              "      <td>2020Q1</td>\n",
              "      <td>219757000000</td>\n",
              "      <td>-20506000000</td>\n",
              "      <td>-767000000</td>\n",
              "      <td>7319587000000</td>\n",
              "      <td>177222250000</td>\n",
              "      <td>-22325500000</td>\n",
              "      <td>19750000</td>\n",
              "      <td>7149347250000</td>\n",
              "      <td>123933200000.0</td>\n",
              "    </tr>\n",
              "    <tr>\n",
              "      <th>1959</th>\n",
              "      <td>2020-01-03</td>\n",
              "      <td>13800</td>\n",
              "      <td>0.85465</td>\n",
              "      <td>1.788</td>\n",
              "      <td>2.079529</td>\n",
              "      <td>2.502669</td>\n",
              "      <td>2020Q1</td>\n",
              "      <td>5.788</td>\n",
              "      <td>6.079529</td>\n",
              "      <td>6.502669</td>\n",
              "      <td>2020Q1</td>\n",
              "      <td>219757000000</td>\n",
              "      <td>-20506000000</td>\n",
              "      <td>-767000000</td>\n",
              "      <td>7319587000000</td>\n",
              "      <td>177222250000</td>\n",
              "      <td>-22325500000</td>\n",
              "      <td>19750000</td>\n",
              "      <td>7149347250000</td>\n",
              "      <td>123933200000.0</td>\n",
              "    </tr>\n",
              "    <tr>\n",
              "      <th>1960</th>\n",
              "      <td>2020-01-06</td>\n",
              "      <td>13600</td>\n",
              "      <td>0.84226</td>\n",
              "      <td>1.811</td>\n",
              "      <td>2.075725</td>\n",
              "      <td>2.500440</td>\n",
              "      <td>2020Q1</td>\n",
              "      <td>5.811</td>\n",
              "      <td>6.075725</td>\n",
              "      <td>6.500440</td>\n",
              "      <td>2020Q1</td>\n",
              "      <td>219757000000</td>\n",
              "      <td>-20506000000</td>\n",
              "      <td>-767000000</td>\n",
              "      <td>7319587000000</td>\n",
              "      <td>177222250000</td>\n",
              "      <td>-22325500000</td>\n",
              "      <td>19750000</td>\n",
              "      <td>7149347250000</td>\n",
              "      <td>123933200000.0</td>\n",
              "    </tr>\n",
              "    <tr>\n",
              "      <th>1961</th>\n",
              "      <td>2020-01-07</td>\n",
              "      <td>13800</td>\n",
              "      <td>0.85465</td>\n",
              "      <td>1.827</td>\n",
              "      <td>2.072079</td>\n",
              "      <td>2.498252</td>\n",
              "      <td>2020Q1</td>\n",
              "      <td>5.827</td>\n",
              "      <td>6.072079</td>\n",
              "      <td>6.498252</td>\n",
              "      <td>2020Q1</td>\n",
              "      <td>219757000000</td>\n",
              "      <td>-20506000000</td>\n",
              "      <td>-767000000</td>\n",
              "      <td>7319587000000</td>\n",
              "      <td>177222250000</td>\n",
              "      <td>-22325500000</td>\n",
              "      <td>19750000</td>\n",
              "      <td>7149347250000</td>\n",
              "      <td>123933200000.0</td>\n",
              "    </tr>\n",
              "    <tr>\n",
              "      <th>1962</th>\n",
              "      <td>2020-01-08</td>\n",
              "      <td>13450</td>\n",
              "      <td>0.83297</td>\n",
              "      <td>1.874</td>\n",
              "      <td>2.068629</td>\n",
              "      <td>2.496150</td>\n",
              "      <td>2020Q1</td>\n",
              "      <td>5.874</td>\n",
              "      <td>6.068629</td>\n",
              "      <td>6.496150</td>\n",
              "      <td>2020Q1</td>\n",
              "      <td>219757000000</td>\n",
              "      <td>-20506000000</td>\n",
              "      <td>-767000000</td>\n",
              "      <td>7319587000000</td>\n",
              "      <td>177222250000</td>\n",
              "      <td>-22325500000</td>\n",
              "      <td>19750000</td>\n",
              "      <td>7149347250000</td>\n",
              "      <td>123933200000.0</td>\n",
              "    </tr>\n",
              "    <tr>\n",
              "      <th>...</th>\n",
              "      <td>...</td>\n",
              "      <td>...</td>\n",
              "      <td>...</td>\n",
              "      <td>...</td>\n",
              "      <td>...</td>\n",
              "      <td>...</td>\n",
              "      <td>...</td>\n",
              "      <td>...</td>\n",
              "      <td>...</td>\n",
              "      <td>...</td>\n",
              "      <td>...</td>\n",
              "      <td>...</td>\n",
              "      <td>...</td>\n",
              "      <td>...</td>\n",
              "      <td>...</td>\n",
              "      <td>...</td>\n",
              "      <td>...</td>\n",
              "      <td>...</td>\n",
              "      <td>...</td>\n",
              "      <td>...</td>\n",
              "    </tr>\n",
              "    <tr>\n",
              "      <th>2865</th>\n",
              "      <td>2023-06-26</td>\n",
              "      <td>11000</td>\n",
              "      <td>0.56781</td>\n",
              "      <td>3.719</td>\n",
              "      <td>3.580583</td>\n",
              "      <td>2.840927</td>\n",
              "      <td>2023Q2</td>\n",
              "      <td>7.719</td>\n",
              "      <td>7.580583</td>\n",
              "      <td>6.840927</td>\n",
              "      <td>2023Q2</td>\n",
              "      <td>288042000000</td>\n",
              "      <td>-52261000000</td>\n",
              "      <td>1045000000</td>\n",
              "      <td>8641735000000</td>\n",
              "      <td>279973500000</td>\n",
              "      <td>-52709250000</td>\n",
              "      <td>646000000</td>\n",
              "      <td>8458348500000</td>\n",
              "      <td>182328200000.0</td>\n",
              "    </tr>\n",
              "    <tr>\n",
              "      <th>2866</th>\n",
              "      <td>2023-06-27</td>\n",
              "      <td>11090</td>\n",
              "      <td>0.57246</td>\n",
              "      <td>3.768</td>\n",
              "      <td>3.584671</td>\n",
              "      <td>2.846090</td>\n",
              "      <td>2023Q2</td>\n",
              "      <td>7.768</td>\n",
              "      <td>7.584671</td>\n",
              "      <td>6.846090</td>\n",
              "      <td>2023Q2</td>\n",
              "      <td>288042000000</td>\n",
              "      <td>-52261000000</td>\n",
              "      <td>1045000000</td>\n",
              "      <td>8641735000000</td>\n",
              "      <td>279973500000</td>\n",
              "      <td>-52709250000</td>\n",
              "      <td>646000000</td>\n",
              "      <td>8458348500000</td>\n",
              "      <td>182328200000.0</td>\n",
              "    </tr>\n",
              "    <tr>\n",
              "      <th>2867</th>\n",
              "      <td>2023-06-28</td>\n",
              "      <td>11140</td>\n",
              "      <td>0.57504</td>\n",
              "      <td>3.710</td>\n",
              "      <td>3.588737</td>\n",
              "      <td>2.851023</td>\n",
              "      <td>2023Q2</td>\n",
              "      <td>7.710</td>\n",
              "      <td>7.588737</td>\n",
              "      <td>6.851023</td>\n",
              "      <td>2023Q2</td>\n",
              "      <td>288042000000</td>\n",
              "      <td>-52261000000</td>\n",
              "      <td>1045000000</td>\n",
              "      <td>8641735000000</td>\n",
              "      <td>279973500000</td>\n",
              "      <td>-52709250000</td>\n",
              "      <td>646000000</td>\n",
              "      <td>8458348500000</td>\n",
              "      <td>182328200000.0</td>\n",
              "    </tr>\n",
              "    <tr>\n",
              "      <th>2868</th>\n",
              "      <td>2023-06-29</td>\n",
              "      <td>10690</td>\n",
              "      <td>0.55181</td>\n",
              "      <td>3.854</td>\n",
              "      <td>3.593625</td>\n",
              "      <td>2.856256</td>\n",
              "      <td>2023Q2</td>\n",
              "      <td>7.854</td>\n",
              "      <td>7.593625</td>\n",
              "      <td>6.856256</td>\n",
              "      <td>2023Q2</td>\n",
              "      <td>288042000000</td>\n",
              "      <td>-52261000000</td>\n",
              "      <td>1045000000</td>\n",
              "      <td>8641735000000</td>\n",
              "      <td>279973500000</td>\n",
              "      <td>-52709250000</td>\n",
              "      <td>646000000</td>\n",
              "      <td>8458348500000</td>\n",
              "      <td>182328200000.0</td>\n",
              "    </tr>\n",
              "    <tr>\n",
              "      <th>2869</th>\n",
              "      <td>2023-06-30</td>\n",
              "      <td>10730</td>\n",
              "      <td>0.55387</td>\n",
              "      <td>3.854</td>\n",
              "      <td>3.598675</td>\n",
              "      <td>2.861552</td>\n",
              "      <td>2023Q2</td>\n",
              "      <td>7.854</td>\n",
              "      <td>7.598675</td>\n",
              "      <td>6.861552</td>\n",
              "      <td>2023Q2</td>\n",
              "      <td>288042000000</td>\n",
              "      <td>-52261000000</td>\n",
              "      <td>1045000000</td>\n",
              "      <td>8641735000000</td>\n",
              "      <td>279973500000</td>\n",
              "      <td>-52709250000</td>\n",
              "      <td>646000000</td>\n",
              "      <td>8458348500000</td>\n",
              "      <td>182328200000.0</td>\n",
              "    </tr>\n",
              "  </tbody>\n",
              "</table>\n",
              "<p>865 rows × 20 columns</p>\n",
              "</div>"
            ],
            "text/plain": [
              "           Date  종가(원)   PBR(배)  us_10_treasury  us_10_treasury_MA1Y  \\\n",
              "1958 2020-01-02  13850  0.85774           1.882             2.083292   \n",
              "1959 2020-01-03  13800  0.85465           1.788             2.079529   \n",
              "1960 2020-01-06  13600  0.84226           1.811             2.075725   \n",
              "1961 2020-01-07  13800  0.85465           1.827             2.072079   \n",
              "1962 2020-01-08  13450  0.83297           1.874             2.068629   \n",
              "...         ...    ...      ...             ...                  ...   \n",
              "2865 2023-06-26  11000  0.56781           3.719             3.580583   \n",
              "2866 2023-06-27  11090  0.57246           3.768             3.584671   \n",
              "2867 2023-06-28  11140  0.57504           3.710             3.588737   \n",
              "2868 2023-06-29  10690  0.55181           3.854             3.593625   \n",
              "2869 2023-06-30  10730  0.55387           3.854             3.598675   \n",
              "\n",
              "      us_10_treasury_MA2Y Quarter    COE  COE_MA1Y  COE_MA2Y YearQuarter  \\\n",
              "1958             2.504896  2020Q1  5.882  6.083292  6.504896      2020Q1   \n",
              "1959             2.502669  2020Q1  5.788  6.079529  6.502669      2020Q1   \n",
              "1960             2.500440  2020Q1  5.811  6.075725  6.500440      2020Q1   \n",
              "1961             2.498252  2020Q1  5.827  6.072079  6.498252      2020Q1   \n",
              "1962             2.496150  2020Q1  5.874  6.068629  6.496150      2020Q1   \n",
              "...                   ...     ...    ...       ...       ...         ...   \n",
              "2865             2.840927  2023Q2  7.719  7.580583  6.840927      2023Q2   \n",
              "2866             2.846090  2023Q2  7.768  7.584671  6.846090      2023Q2   \n",
              "2867             2.851023  2023Q2  7.710  7.588737  6.851023      2023Q2   \n",
              "2868             2.856256  2023Q2  7.854  7.593625  6.856256      2023Q2   \n",
              "2869             2.861552  2023Q2  7.854  7.598675  6.861552      2023Q2   \n",
              "\n",
              "           영업이익(원)  금융손익(비영업)(원) 관계기업투자등관련손익(비영업)(원)         총자본(원)  \\\n",
              "1958  219757000000  -20506000000          -767000000  7319587000000   \n",
              "1959  219757000000  -20506000000          -767000000  7319587000000   \n",
              "1960  219757000000  -20506000000          -767000000  7319587000000   \n",
              "1961  219757000000  -20506000000          -767000000  7319587000000   \n",
              "1962  219757000000  -20506000000          -767000000  7319587000000   \n",
              "...            ...           ...                 ...            ...   \n",
              "2865  288042000000  -52261000000          1045000000  8641735000000   \n",
              "2866  288042000000  -52261000000          1045000000  8641735000000   \n",
              "2867  288042000000  -52261000000          1045000000  8641735000000   \n",
              "2868  288042000000  -52261000000          1045000000  8641735000000   \n",
              "2869  288042000000  -52261000000          1045000000  8641735000000   \n",
              "\n",
              "      영업이익(원)_mean  금융손익(비영업)(원)_mean  관계기업투자등관련손익(비영업)(원)_mean  \\\n",
              "1958  177222250000       -22325500000                  19750000   \n",
              "1959  177222250000       -22325500000                  19750000   \n",
              "1960  177222250000       -22325500000                  19750000   \n",
              "1961  177222250000       -22325500000                  19750000   \n",
              "1962  177222250000       -22325500000                  19750000   \n",
              "...            ...                ...                       ...   \n",
              "2865  279973500000       -52709250000                 646000000   \n",
              "2866  279973500000       -52709250000                 646000000   \n",
              "2867  279973500000       -52709250000                 646000000   \n",
              "2868  279973500000       -52709250000                 646000000   \n",
              "2869  279973500000       -52709250000                 646000000   \n",
              "\n",
              "        총자본(원)_mean             순이익  \n",
              "1958  7149347250000  123933200000.0  \n",
              "1959  7149347250000  123933200000.0  \n",
              "1960  7149347250000  123933200000.0  \n",
              "1961  7149347250000  123933200000.0  \n",
              "1962  7149347250000  123933200000.0  \n",
              "...             ...             ...  \n",
              "2865  8458348500000  182328200000.0  \n",
              "2866  8458348500000  182328200000.0  \n",
              "2867  8458348500000  182328200000.0  \n",
              "2868  8458348500000  182328200000.0  \n",
              "2869  8458348500000  182328200000.0  \n",
              "\n",
              "[865 rows x 20 columns]"
            ]
          },
          "execution_count": 51,
          "metadata": {},
          "output_type": "execute_result"
        }
      ],
      "source": [
        "df_filtered = df_cleaned[df_cleaned['Date'] >= '2020-01-01']\n",
        "df_filtered"
      ]
    },
    {
      "cell_type": "code",
      "execution_count": 52,
      "id": "lxpoSLJavtsr",
      "metadata": {
        "id": "lxpoSLJavtsr"
      },
      "outputs": [],
      "source": [
        "df_cleaned['ROE'] = df_cleaned['순이익'] / df_cleaned['총자본(원)_mean']\n",
        "df_cleaned['ROE'] = df_cleaned['ROE']*100"
      ]
    },
    {
      "cell_type": "code",
      "execution_count": 53,
      "metadata": {},
      "outputs": [
        {
          "data": {
            "text/plain": [
              "Text(0.5, 1.0, 'ROE(Before)')"
            ]
          },
          "execution_count": 53,
          "metadata": {},
          "output_type": "execute_result"
        },
        {
          "data": {
            "image/png": "[encoded data removed]",
            "text/plain": [
              "<Figure size 640x480 with 1 Axes>"
            ]
          },
          "metadata": {},
          "output_type": "display_data"
        }
      ],
      "source": [
        "plt.hist(df_cleaned['ROE'])\n",
        "plt.title('ROE(Before)')"
      ]
    },
    {
      "cell_type": "code",
      "execution_count": 38,
      "id": "DUm8lywR2sdY",
      "metadata": {
        "colab": {
          "base_uri": "https://localhost:8080/",
          "height": 411
        },
        "id": "DUm8lywR2sdY",
        "outputId": "034e801d-03a8-484c-abd5-80b75d80a7d4"
      },
      "outputs": [
        {
          "data": {
            "text/html": [
              "<div>\n",
              "<style scoped>\n",
              "    .dataframe tbody tr th:only-of-type {\n",
              "        vertical-align: middle;\n",
              "    }\n",
              "\n",
              "    .dataframe tbody tr th {\n",
              "        vertical-align: top;\n",
              "    }\n",
              "\n",
              "    .dataframe thead th {\n",
              "        text-align: right;\n",
              "    }\n",
              "</style>\n",
              "<table border=\"1\" class=\"dataframe\">\n",
              "  <thead>\n",
              "    <tr style=\"text-align: right;\">\n",
              "      <th></th>\n",
              "      <th>Date</th>\n",
              "      <th>종가(원)</th>\n",
              "      <th>PBR(배)</th>\n",
              "      <th>us_10_treasury</th>\n",
              "      <th>us_10_treasury_MA1Y</th>\n",
              "      <th>us_10_treasury_MA2Y</th>\n",
              "      <th>Quarter</th>\n",
              "      <th>COE</th>\n",
              "      <th>COE_MA1Y</th>\n",
              "      <th>COE_MA2Y</th>\n",
              "      <th>...</th>\n",
              "      <th>영업이익(원)</th>\n",
              "      <th>금융손익(비영업)(원)</th>\n",
              "      <th>관계기업투자등관련손익(비영업)(원)</th>\n",
              "      <th>총자본(원)</th>\n",
              "      <th>영업이익(원)_mean</th>\n",
              "      <th>금융손익(비영업)(원)_mean</th>\n",
              "      <th>관계기업투자등관련손익(비영업)(원)_mean</th>\n",
              "      <th>총자본(원)_mean</th>\n",
              "      <th>순이익</th>\n",
              "      <th>ROE</th>\n",
              "    </tr>\n",
              "  </thead>\n",
              "  <tbody>\n",
              "    <tr>\n",
              "      <th>479</th>\n",
              "      <td>2014-05-02</td>\n",
              "      <td>10050</td>\n",
              "      <td>1.09369</td>\n",
              "      <td>2.591</td>\n",
              "      <td>2.687496</td>\n",
              "      <td>2.225065</td>\n",
              "      <td>2014Q2</td>\n",
              "      <td>6.591</td>\n",
              "      <td>6.687496</td>\n",
              "      <td>6.225065</td>\n",
              "      <td>...</td>\n",
              "      <td>98026000000</td>\n",
              "      <td>-69360000000</td>\n",
              "      <td>507000000</td>\n",
              "      <td>4013886000000</td>\n",
              "      <td>121342250000</td>\n",
              "      <td>-55989250000</td>\n",
              "      <td>353500000</td>\n",
              "      <td>4000447000000</td>\n",
              "      <td>52565200000.0</td>\n",
              "      <td>1.313983</td>\n",
              "    </tr>\n",
              "    <tr>\n",
              "      <th>482</th>\n",
              "      <td>2014-05-07</td>\n",
              "      <td>9870</td>\n",
              "      <td>1.0741</td>\n",
              "      <td>2.590</td>\n",
              "      <td>2.693433</td>\n",
              "      <td>2.231219</td>\n",
              "      <td>2014Q2</td>\n",
              "      <td>6.590</td>\n",
              "      <td>6.693433</td>\n",
              "      <td>6.231219</td>\n",
              "      <td>...</td>\n",
              "      <td>98026000000</td>\n",
              "      <td>-69360000000</td>\n",
              "      <td>507000000</td>\n",
              "      <td>4013886000000</td>\n",
              "      <td>121342250000</td>\n",
              "      <td>-55989250000</td>\n",
              "      <td>353500000</td>\n",
              "      <td>4000447000000</td>\n",
              "      <td>52565200000.0</td>\n",
              "      <td>1.313983</td>\n",
              "    </tr>\n",
              "    <tr>\n",
              "      <th>483</th>\n",
              "      <td>2014-05-08</td>\n",
              "      <td>10000</td>\n",
              "      <td>1.08825</td>\n",
              "      <td>2.602</td>\n",
              "      <td>2.695629</td>\n",
              "      <td>2.233312</td>\n",
              "      <td>2014Q2</td>\n",
              "      <td>6.602</td>\n",
              "      <td>6.695629</td>\n",
              "      <td>6.233312</td>\n",
              "      <td>...</td>\n",
              "      <td>98026000000</td>\n",
              "      <td>-69360000000</td>\n",
              "      <td>507000000</td>\n",
              "      <td>4013886000000</td>\n",
              "      <td>121342250000</td>\n",
              "      <td>-55989250000</td>\n",
              "      <td>353500000</td>\n",
              "      <td>4000447000000</td>\n",
              "      <td>52565200000.0</td>\n",
              "      <td>1.313983</td>\n",
              "    </tr>\n",
              "    <tr>\n",
              "      <th>484</th>\n",
              "      <td>2014-05-09</td>\n",
              "      <td>10100</td>\n",
              "      <td>1.09913</td>\n",
              "      <td>2.623</td>\n",
              "      <td>2.697554</td>\n",
              "      <td>2.235560</td>\n",
              "      <td>2014Q2</td>\n",
              "      <td>6.623</td>\n",
              "      <td>6.697554</td>\n",
              "      <td>6.235560</td>\n",
              "      <td>...</td>\n",
              "      <td>98026000000</td>\n",
              "      <td>-69360000000</td>\n",
              "      <td>507000000</td>\n",
              "      <td>4013886000000</td>\n",
              "      <td>121342250000</td>\n",
              "      <td>-55989250000</td>\n",
              "      <td>353500000</td>\n",
              "      <td>4000447000000</td>\n",
              "      <td>52565200000.0</td>\n",
              "      <td>1.313983</td>\n",
              "    </tr>\n",
              "    <tr>\n",
              "      <th>485</th>\n",
              "      <td>2014-05-12</td>\n",
              "      <td>10050</td>\n",
              "      <td>1.09369</td>\n",
              "      <td>2.656</td>\n",
              "      <td>2.699392</td>\n",
              "      <td>2.237942</td>\n",
              "      <td>2014Q2</td>\n",
              "      <td>6.656</td>\n",
              "      <td>6.699392</td>\n",
              "      <td>6.237942</td>\n",
              "      <td>...</td>\n",
              "      <td>98026000000</td>\n",
              "      <td>-69360000000</td>\n",
              "      <td>507000000</td>\n",
              "      <td>4013886000000</td>\n",
              "      <td>121342250000</td>\n",
              "      <td>-55989250000</td>\n",
              "      <td>353500000</td>\n",
              "      <td>4000447000000</td>\n",
              "      <td>52565200000.0</td>\n",
              "      <td>1.313983</td>\n",
              "    </tr>\n",
              "  </tbody>\n",
              "</table>\n",
              "<p>5 rows × 21 columns</p>\n",
              "</div>"
            ],
            "text/plain": [
              "          Date  종가(원)   PBR(배)  us_10_treasury  us_10_treasury_MA1Y  \\\n",
              "479 2014-05-02  10050  1.09369           2.591             2.687496   \n",
              "482 2014-05-07   9870   1.0741           2.590             2.693433   \n",
              "483 2014-05-08  10000  1.08825           2.602             2.695629   \n",
              "484 2014-05-09  10100  1.09913           2.623             2.697554   \n",
              "485 2014-05-12  10050  1.09369           2.656             2.699392   \n",
              "\n",
              "     us_10_treasury_MA2Y Quarter    COE  COE_MA1Y  COE_MA2Y  ...      영업이익(원)  \\\n",
              "479             2.225065  2014Q2  6.591  6.687496  6.225065  ...  98026000000   \n",
              "482             2.231219  2014Q2  6.590  6.693433  6.231219  ...  98026000000   \n",
              "483             2.233312  2014Q2  6.602  6.695629  6.233312  ...  98026000000   \n",
              "484             2.235560  2014Q2  6.623  6.697554  6.235560  ...  98026000000   \n",
              "485             2.237942  2014Q2  6.656  6.699392  6.237942  ...  98026000000   \n",
              "\n",
              "     금융손익(비영업)(원) 관계기업투자등관련손익(비영업)(원)         총자본(원)  영업이익(원)_mean  \\\n",
              "479  -69360000000           507000000  4013886000000  121342250000   \n",
              "482  -69360000000           507000000  4013886000000  121342250000   \n",
              "483  -69360000000           507000000  4013886000000  121342250000   \n",
              "484  -69360000000           507000000  4013886000000  121342250000   \n",
              "485  -69360000000           507000000  4013886000000  121342250000   \n",
              "\n",
              "     금융손익(비영업)(원)_mean  관계기업투자등관련손익(비영업)(원)_mean    총자본(원)_mean  \\\n",
              "479       -55989250000                 353500000  4000447000000   \n",
              "482       -55989250000                 353500000  4000447000000   \n",
              "483       -55989250000                 353500000  4000447000000   \n",
              "484       -55989250000                 353500000  4000447000000   \n",
              "485       -55989250000                 353500000  4000447000000   \n",
              "\n",
              "               순이익       ROE  \n",
              "479  52565200000.0  1.313983  \n",
              "482  52565200000.0  1.313983  \n",
              "483  52565200000.0  1.313983  \n",
              "484  52565200000.0  1.313983  \n",
              "485  52565200000.0  1.313983  \n",
              "\n",
              "[5 rows x 21 columns]"
            ]
          },
          "execution_count": 38,
          "metadata": {},
          "output_type": "execute_result"
        }
      ],
      "source": [
        "df_cleaned.head()"
      ]
    },
    {
      "cell_type": "code",
      "execution_count": 39,
      "id": "Br_78b0uzWSz",
      "metadata": {
        "colab": {
          "base_uri": "https://localhost:8080/",
          "height": 1000
        },
        "id": "Br_78b0uzWSz",
        "outputId": "dda3f45d-1e94-44d5-e2f7-0af90501dbab"
      },
      "outputs": [
        {
          "data": {
            "text/plain": [
              "[<matplotlib.lines.Line2D at 0x14977e940>]"
            ]
          },
          "execution_count": 39,
          "metadata": {},
          "output_type": "execute_result"
        },
        {
          "data": {
            "image/png": "[encoded data removed]",
            "text/plain": [
              "<Figure size 640x480 with 1 Axes>"
            ]
          },
          "metadata": {},
          "output_type": "display_data"
        }
      ],
      "source": [
        "plt.plot(df_cleaned['COE_MA2Y'] )"
      ]
    },
    {
      "cell_type": "code",
      "execution_count": 40,
      "id": "BTE3n68AyIrz",
      "metadata": {
        "id": "BTE3n68AyIrz"
      },
      "outputs": [],
      "source": [
        "df_cleaned['gm'] = df_cleaned['PBR(배)'] *  df_cleaned['COE_MA2Y'] /  df_cleaned['ROE']"
      ]
    },
    {
      "cell_type": "code",
      "execution_count": 41,
      "id": "iNQOT5FTooc1",
      "metadata": {
        "colab": {
          "base_uri": "https://localhost:8080/",
          "height": 1000
        },
        "id": "iNQOT5FTooc1",
        "outputId": "8c26a4f0-e9ad-4a49-f050-21d81eab3288"
      },
      "outputs": [
        {
          "data": {
            "text/html": [
              "<div>\n",
              "<style scoped>\n",
              "    .dataframe tbody tr th:only-of-type {\n",
              "        vertical-align: middle;\n",
              "    }\n",
              "\n",
              "    .dataframe tbody tr th {\n",
              "        vertical-align: top;\n",
              "    }\n",
              "\n",
              "    .dataframe thead th {\n",
              "        text-align: right;\n",
              "    }\n",
              "</style>\n",
              "<table border=\"1\" class=\"dataframe\">\n",
              "  <thead>\n",
              "    <tr style=\"text-align: right;\">\n",
              "      <th></th>\n",
              "      <th>ROE</th>\n",
              "      <th>gm</th>\n",
              "      <th>COE_MA2Y</th>\n",
              "    </tr>\n",
              "    <tr>\n",
              "      <th>YearQuarter</th>\n",
              "      <th></th>\n",
              "      <th></th>\n",
              "      <th></th>\n",
              "    </tr>\n",
              "  </thead>\n",
              "  <tbody>\n",
              "    <tr>\n",
              "      <th>2014Q2</th>\n",
              "      <td>1.313983</td>\n",
              "      <td>5.181414</td>\n",
              "      <td>6.225065</td>\n",
              "    </tr>\n",
              "    <tr>\n",
              "      <th>2014Q3</th>\n",
              "      <td>1.411755</td>\n",
              "      <td>4.43892</td>\n",
              "      <td>6.311035</td>\n",
              "    </tr>\n",
              "    <tr>\n",
              "      <th>2014Q4</th>\n",
              "      <td>1.681711</td>\n",
              "      <td>4.948559</td>\n",
              "      <td>6.420835</td>\n",
              "    </tr>\n",
              "    <tr>\n",
              "      <th>2015Q1</th>\n",
              "      <td>1.855619</td>\n",
              "      <td>4.215049</td>\n",
              "      <td>6.479225</td>\n",
              "    </tr>\n",
              "    <tr>\n",
              "      <th>2015Q2</th>\n",
              "      <td>2.373909</td>\n",
              "      <td>2.978301</td>\n",
              "      <td>6.492690</td>\n",
              "    </tr>\n",
              "    <tr>\n",
              "      <th>2015Q3</th>\n",
              "      <td>2.3499</td>\n",
              "      <td>2.664257</td>\n",
              "      <td>6.445265</td>\n",
              "    </tr>\n",
              "    <tr>\n",
              "      <th>2015Q4</th>\n",
              "      <td>2.060701</td>\n",
              "      <td>3.736975</td>\n",
              "      <td>6.378152</td>\n",
              "    </tr>\n",
              "    <tr>\n",
              "      <th>2016Q1</th>\n",
              "      <td>2.170142</td>\n",
              "      <td>2.901966</td>\n",
              "      <td>6.291073</td>\n",
              "    </tr>\n",
              "    <tr>\n",
              "      <th>2016Q2</th>\n",
              "      <td>2.159806</td>\n",
              "      <td>3.033667</td>\n",
              "      <td>6.190835</td>\n",
              "    </tr>\n",
              "    <tr>\n",
              "      <th>2016Q3</th>\n",
              "      <td>2.357886</td>\n",
              "      <td>2.546616</td>\n",
              "      <td>6.086308</td>\n",
              "    </tr>\n",
              "    <tr>\n",
              "      <th>2016Q4</th>\n",
              "      <td>2.701843</td>\n",
              "      <td>2.340237</td>\n",
              "      <td>5.973617</td>\n",
              "    </tr>\n",
              "    <tr>\n",
              "      <th>2017Q1</th>\n",
              "      <td>2.791892</td>\n",
              "      <td>2.281569</td>\n",
              "      <td>5.991923</td>\n",
              "    </tr>\n",
              "    <tr>\n",
              "      <th>2017Q2</th>\n",
              "      <td>2.873847</td>\n",
              "      <td>2.704159</td>\n",
              "      <td>6.044442</td>\n",
              "    </tr>\n",
              "    <tr>\n",
              "      <th>2017Q3</th>\n",
              "      <td>2.849734</td>\n",
              "      <td>2.849529</td>\n",
              "      <td>6.041065</td>\n",
              "    </tr>\n",
              "    <tr>\n",
              "      <th>2017Q4</th>\n",
              "      <td>2.840874</td>\n",
              "      <td>2.311115</td>\n",
              "      <td>6.053073</td>\n",
              "    </tr>\n",
              "    <tr>\n",
              "      <th>2018Q1</th>\n",
              "      <td>2.555761</td>\n",
              "      <td>2.259823</td>\n",
              "      <td>6.098225</td>\n",
              "    </tr>\n",
              "    <tr>\n",
              "      <th>2018Q2</th>\n",
              "      <td>2.396474</td>\n",
              "      <td>2.099432</td>\n",
              "      <td>6.222231</td>\n",
              "    </tr>\n",
              "    <tr>\n",
              "      <th>2018Q3</th>\n",
              "      <td>2.30521</td>\n",
              "      <td>2.446937</td>\n",
              "      <td>6.405523</td>\n",
              "    </tr>\n",
              "    <tr>\n",
              "      <th>2018Q4</th>\n",
              "      <td>1.941645</td>\n",
              "      <td>3.720878</td>\n",
              "      <td>6.554969</td>\n",
              "    </tr>\n",
              "    <tr>\n",
              "      <th>2019Q1</th>\n",
              "      <td>1.978344</td>\n",
              "      <td>3.860378</td>\n",
              "      <td>6.636850</td>\n",
              "    </tr>\n",
              "    <tr>\n",
              "      <th>2019Q2</th>\n",
              "      <td>1.784186</td>\n",
              "      <td>3.686627</td>\n",
              "      <td>6.674610</td>\n",
              "    </tr>\n",
              "    <tr>\n",
              "      <th>2019Q3</th>\n",
              "      <td>1.545382</td>\n",
              "      <td>3.958445</td>\n",
              "      <td>6.687483</td>\n",
              "    </tr>\n",
              "    <tr>\n",
              "      <th>2019Q4</th>\n",
              "      <td>1.699684</td>\n",
              "      <td>3.276968</td>\n",
              "      <td>6.617571</td>\n",
              "    </tr>\n",
              "    <tr>\n",
              "      <th>2020Q1</th>\n",
              "      <td>1.73349</td>\n",
              "      <td>3.218657</td>\n",
              "      <td>6.504896</td>\n",
              "    </tr>\n",
              "    <tr>\n",
              "      <th>2020Q2</th>\n",
              "      <td>1.93893</td>\n",
              "      <td>2.0796</td>\n",
              "      <td>6.298835</td>\n",
              "    </tr>\n",
              "    <tr>\n",
              "      <th>2020Q3</th>\n",
              "      <td>2.138776</td>\n",
              "      <td>1.943723</td>\n",
              "      <td>5.999348</td>\n",
              "    </tr>\n",
              "    <tr>\n",
              "      <th>2020Q4</th>\n",
              "      <td>2.090873</td>\n",
              "      <td>1.865101</td>\n",
              "      <td>5.654100</td>\n",
              "    </tr>\n",
              "    <tr>\n",
              "      <th>2021Q1</th>\n",
              "      <td>2.204632</td>\n",
              "      <td>1.718406</td>\n",
              "      <td>5.401044</td>\n",
              "    </tr>\n",
              "    <tr>\n",
              "      <th>2021Q2</th>\n",
              "      <td>2.255827</td>\n",
              "      <td>1.640143</td>\n",
              "      <td>5.249096</td>\n",
              "    </tr>\n",
              "    <tr>\n",
              "      <th>2021Q3</th>\n",
              "      <td>2.316215</td>\n",
              "      <td>1.900823</td>\n",
              "      <td>5.202617</td>\n",
              "    </tr>\n",
              "    <tr>\n",
              "      <th>2021Q4</th>\n",
              "      <td>2.256473</td>\n",
              "      <td>1.927955</td>\n",
              "      <td>5.146244</td>\n",
              "    </tr>\n",
              "    <tr>\n",
              "      <th>2022Q1</th>\n",
              "      <td>2.180864</td>\n",
              "      <td>1.795877</td>\n",
              "      <td>5.122169</td>\n",
              "    </tr>\n",
              "    <tr>\n",
              "      <th>2022Q2</th>\n",
              "      <td>2.078825</td>\n",
              "      <td>1.935797</td>\n",
              "      <td>5.286771</td>\n",
              "    </tr>\n",
              "    <tr>\n",
              "      <th>2022Q3</th>\n",
              "      <td>2.024904</td>\n",
              "      <td>1.937089</td>\n",
              "      <td>5.595381</td>\n",
              "    </tr>\n",
              "    <tr>\n",
              "      <th>2022Q4</th>\n",
              "      <td>2.230531</td>\n",
              "      <td>1.493798</td>\n",
              "      <td>5.922540</td>\n",
              "    </tr>\n",
              "    <tr>\n",
              "      <th>2023Q1</th>\n",
              "      <td>2.134195</td>\n",
              "      <td>1.677403</td>\n",
              "      <td>6.289033</td>\n",
              "    </tr>\n",
              "    <tr>\n",
              "      <th>2023Q2</th>\n",
              "      <td>2.1556</td>\n",
              "      <td>1.703865</td>\n",
              "      <td>6.563940</td>\n",
              "    </tr>\n",
              "  </tbody>\n",
              "</table>\n",
              "</div>"
            ],
            "text/plain": [
              "                  ROE        gm  COE_MA2Y\n",
              "YearQuarter                              \n",
              "2014Q2       1.313983  5.181414  6.225065\n",
              "2014Q3       1.411755   4.43892  6.311035\n",
              "2014Q4       1.681711  4.948559  6.420835\n",
              "2015Q1       1.855619  4.215049  6.479225\n",
              "2015Q2       2.373909  2.978301  6.492690\n",
              "2015Q3         2.3499  2.664257  6.445265\n",
              "2015Q4       2.060701  3.736975  6.378152\n",
              "2016Q1       2.170142  2.901966  6.291073\n",
              "2016Q2       2.159806  3.033667  6.190835\n",
              "2016Q3       2.357886  2.546616  6.086308\n",
              "2016Q4       2.701843  2.340237  5.973617\n",
              "2017Q1       2.791892  2.281569  5.991923\n",
              "2017Q2       2.873847  2.704159  6.044442\n",
              "2017Q3       2.849734  2.849529  6.041065\n",
              "2017Q4       2.840874  2.311115  6.053073\n",
              "2018Q1       2.555761  2.259823  6.098225\n",
              "2018Q2       2.396474  2.099432  6.222231\n",
              "2018Q3        2.30521  2.446937  6.405523\n",
              "2018Q4       1.941645  3.720878  6.554969\n",
              "2019Q1       1.978344  3.860378  6.636850\n",
              "2019Q2       1.784186  3.686627  6.674610\n",
              "2019Q3       1.545382  3.958445  6.687483\n",
              "2019Q4       1.699684  3.276968  6.617571\n",
              "2020Q1        1.73349  3.218657  6.504896\n",
              "2020Q2        1.93893    2.0796  6.298835\n",
              "2020Q3       2.138776  1.943723  5.999348\n",
              "2020Q4       2.090873  1.865101  5.654100\n",
              "2021Q1       2.204632  1.718406  5.401044\n",
              "2021Q2       2.255827  1.640143  5.249096\n",
              "2021Q3       2.316215  1.900823  5.202617\n",
              "2021Q4       2.256473  1.927955  5.146244\n",
              "2022Q1       2.180864  1.795877  5.122169\n",
              "2022Q2       2.078825  1.935797  5.286771\n",
              "2022Q3       2.024904  1.937089  5.595381\n",
              "2022Q4       2.230531  1.493798  5.922540\n",
              "2023Q1       2.134195  1.677403  6.289033\n",
              "2023Q2         2.1556  1.703865  6.563940"
            ]
          },
          "execution_count": 41,
          "metadata": {},
          "output_type": "execute_result"
        }
      ],
      "source": [
        "# YearQuarter 별로 가장 첫번째 값만 가져오는 코드\n",
        "df_cleaned_gr = df_cleaned.groupby('YearQuarter').agg({\n",
        "    'ROE': 'first',\n",
        "    'gm': 'first',\n",
        "    'COE_MA2Y': 'first'\n",
        "})\n",
        "\n",
        "df_cleaned_gr"
      ]
    },
    {
      "cell_type": "code",
      "execution_count": 42,
      "id": "_K_gfjSpooc2",
      "metadata": {
        "colab": {
          "base_uri": "https://localhost:8080/",
          "height": 1000
        },
        "id": "_K_gfjSpooc2",
        "outputId": "bf0dcecc-8f8e-409b-886b-c5f5ffa64383"
      },
      "outputs": [
        {
          "data": {
            "text/plain": [
              "[<matplotlib.lines.Line2D at 0x1493095e0>]"
            ]
          },
          "execution_count": 42,
          "metadata": {},
          "output_type": "execute_result"
        },
        {
          "data": {
            "image/png": "[encoded data removed]",
            "text/plain": [
              "<Figure size 640x480 with 1 Axes>"
            ]
          },
          "metadata": {},
          "output_type": "display_data"
        }
      ],
      "source": [
        "plt.plot(df_cleaned['gm'])"
      ]
    },
    {
      "cell_type": "code",
      "execution_count": 44,
      "id": "bYCcqRvFooc2",
      "metadata": {
        "id": "bYCcqRvFooc2"
      },
      "outputs": [
        {
          "data": {
            "text/plain": [
              "Index(['Date', '종가(원)', 'PBR(배)', 'us_10_treasury', 'us_10_treasury_MA1Y',\n",
              "       'us_10_treasury_MA2Y', 'Quarter', 'COE', 'COE_MA1Y', 'COE_MA2Y',\n",
              "       'YearQuarter', '영업이익(원)', '금융손익(비영업)(원)', '관계기업투자등관련손익(비영업)(원)',\n",
              "       '총자본(원)', '영업이익(원)_mean', '금융손익(비영업)(원)_mean',\n",
              "       '관계기업투자등관련손익(비영업)(원)_mean', '총자본(원)_mean', '순이익', 'ROE', 'gm'],\n",
              "      dtype='object')"
            ]
          },
          "execution_count": 44,
          "metadata": {},
          "output_type": "execute_result"
        }
      ],
      "source": [
        "df_cleaned.columns"
      ]
    },
    {
      "cell_type": "code",
      "execution_count": 49,
      "id": "00e3f821-b81f-48d7-87c4-3f0b1db462a9",
      "metadata": {
        "id": "00e3f821-b81f-48d7-87c4-3f0b1db462a9",
        "tags": []
      },
      "outputs": [],
      "source": [
        "# 모든 행 출력되도록\n",
        "#pd.set_option('display.max_rows', None)\n",
        "\n",
        "# 모든 컬럼 출력\n",
        "#pd.set_option('display.max_columns', None)"
      ]
    },
    {
      "cell_type": "markdown",
      "id": "edae5aad-44e6-4480-aa70-f322fad61a61",
      "metadata": {
        "id": "edae5aad-44e6-4480-aa70-f322fad61a61"
      },
      "source": [
        "### 시점&수익률 생성"
      ]
    },
    {
      "cell_type": "code",
      "execution_count": 50,
      "id": "b4563b6c-ce06-483c-b14e-93194df5acc4",
      "metadata": {
        "id": "b4563b6c-ce06-483c-b14e-93194df5acc4",
        "tags": []
      },
      "outputs": [],
      "source": [
        "# 각 시점의 일주일, 이주일, 한달뒤 종가 값을 가진 컬럼 생성\n",
        "df['종가_1주후'] = df['종가(원)'].shift(-5) # 1주\n",
        "df['종가_2주후'] = df['종가(원)'].shift(-10) # 2주\n",
        "df['종가_1달후'] = df['종가(원)'].shift(-20) # 1달\n",
        "df['종가_3달후'] = df['종가(원)'].shift(-60) # 3달\n",
        "df['종가_6달후'] = df['종가(원)'].shift(-120) # 6달"
      ]
    },
    {
      "cell_type": "markdown",
      "id": "693b6bc3-8621-4ff2-abbe-3c9855c6e802",
      "metadata": {
        "id": "693b6bc3-8621-4ff2-abbe-3c9855c6e802"
      },
      "source": [
        "### 일반 수익률"
      ]
    },
    {
      "cell_type": "code",
      "execution_count": 51,
      "id": "869be729-d397-4f2f-a8d1-8c1462af247f",
      "metadata": {
        "id": "869be729-d397-4f2f-a8d1-8c1462af247f",
        "tags": []
      },
      "outputs": [],
      "source": [
        "# 각 시점의 1주후, 2주후, 한달후 수익률 구하기 + 수익률 -> %로\n",
        "df['수익률_1주후'] = (df['종가_1주후'] - df['종가(원)']) / df['종가(원)'] * 100\n",
        "df['수익률_2주후'] = (df['종가_2주후'] - df['종가(원)']) / df['종가(원)'] * 100\n",
        "df['수익률_1달후'] = (df['종가_1달후'] - df['종가(원)']) / df['종가(원)'] * 100\n",
        "df['수익률_3달후'] = (df['종가_3달후'] - df['종가(원)']) / df['종가(원)'] * 100\n",
        "df['수익률_6달후'] = (df['종가_6달후'] - df['종가(원)']) / df['종가(원)'] * 100"
      ]
    },
    {
      "cell_type": "markdown",
      "id": "a4530df3-bd27-40db-b430-897378ae7ba8",
      "metadata": {
        "id": "a4530df3-bd27-40db-b430-897378ae7ba8"
      },
      "source": [
        "### 코스피(시장) 수익률 계산"
      ]
    },
    {
      "cell_type": "code",
      "execution_count": 52,
      "id": "26f07d36",
      "metadata": {
        "id": "26f07d36"
      },
      "outputs": [
        {
          "name": "stdout",
          "output_type": "stream",
          "text": [
            "[*********************100%%**********************]  1 of 1 completed\n"
          ]
        }
      ],
      "source": [
        "# 코스피 지수 데이터 가져오기\n",
        "df_kospi = yf.download('^KS11', start_dt, end_dt)\n",
        "df_kospi = df_kospi.reset_index() # index -> column\n",
        "df = df.merge(df_kospi[['Date', 'Adj Close']]) # df에 df_kospi \"Adj Close\" 값 병합\n",
        "df.rename(columns={'Adj Close': 'kospi'}, inplace=True) # 컬럼명 변경"
      ]
    },
    {
      "cell_type": "code",
      "execution_count": 53,
      "id": "b58e5099-8f5f-402f-8fed-6ed4e2e88352",
      "metadata": {
        "id": "b58e5099-8f5f-402f-8fed-6ed4e2e88352",
        "tags": []
      },
      "outputs": [],
      "source": [
        "# 각 시점의 일주일, 이주일, 한달뒤 종가 값을 가진 컬럼 생성\n",
        "df['kospi_1주후'] = df['kospi'].shift(-5) # 1주\n",
        "df['kospi_2주후'] = df['kospi'].shift(-10) # 2주\n",
        "df['kospi_1달후'] = df['kospi'].shift(-20) # 1달\n",
        "df['kospi_3달후'] = df['kospi'].shift(-60) # 3달\n",
        "df['kospi_6달후'] = df['kospi'].shift(-120) # 6달"
      ]
    },
    {
      "cell_type": "code",
      "execution_count": 54,
      "id": "58082980-8ef2-4ca1-8ccb-195ac0eec15e",
      "metadata": {
        "id": "58082980-8ef2-4ca1-8ccb-195ac0eec15e",
        "tags": []
      },
      "outputs": [],
      "source": [
        "# 각 시점의 1주후, 2주후, 한달후 수익률 구하기 + 수익률 -> %로\n",
        "df['kospi_수익률_1주후'] = (df['kospi_1주후'] - df['kospi']) / df['kospi'] * 100\n",
        "df['kospi_수익률_2주후'] = (df['kospi_2주후'] - df['kospi']) / df['kospi'] * 100\n",
        "df['kospi_수익률_1달후'] = (df['kospi_1달후'] - df['kospi']) / df['kospi'] * 100\n",
        "df['kospi_수익률_3달후'] = (df['kospi_3달후'] - df['kospi']) / df['kospi'] * 100\n",
        "df['kospi_수익률_6달후'] = (df['kospi_6달후'] - df['kospi']) / df['kospi'] * 100"
      ]
    },
    {
      "cell_type": "code",
      "execution_count": 55,
      "id": "04ae3f39-40ff-4306-ab1f-524195f58885",
      "metadata": {
        "id": "04ae3f39-40ff-4306-ab1f-524195f58885",
        "tags": []
      },
      "outputs": [],
      "source": [
        "# 지수를 얼마나 이겼는지 (상대)수익률\n",
        "df['상대수익률_1주후'] = df['수익률_1주후'] - df['kospi_수익률_1주후']\n",
        "df['상대수익률_2주후'] = df['수익률_2주후'] - df['kospi_수익률_2주후']\n",
        "df['상대수익률_1달후'] = df['수익률_1달후'] - df['kospi_수익률_1달후']\n",
        "df['상대수익률_3달후'] = df['수익률_3달후'] - df['kospi_수익률_3달후']\n",
        "df['상대수익률_6달후'] = df['수익률_6달후'] - df['kospi_수익률_6달후']"
      ]
    },
    {
      "cell_type": "markdown",
      "id": "a9fb3742",
      "metadata": {
        "id": "a9fb3742"
      },
      "source": [
        "### 데이터 내보내기"
      ]
    },
    {
      "cell_type": "code",
      "execution_count": null,
      "id": "1a5423d1",
      "metadata": {
        "id": "1a5423d1"
      },
      "outputs": [],
      "source": [
        "# # 저장할 폴더 경로 지정\n",
        "# folder_path = '../gm_data'\n",
        "\n",
        "# # 폴더가 없으면 생성\n",
        "# if not os.path.exists(folder_path):\n",
        "#     os.makedirs(folder_path)\n",
        "\n",
        "# # CSV 파일 저장\n",
        "# df.to_csv(f'{folder_path}/{company}_df.csv', index=False)\n"
      ]
    },
    {
      "cell_type": "code",
      "execution_count": 61,
      "id": "547a56c9",
      "metadata": {
        "id": "547a56c9"
      },
      "outputs": [
        {
          "data": {
            "text/plain": [
              "Index(['Date', '종가(원)', 'PBR(배)', 'us_10_treasury', 'us_10_treasury_MA1Y',\n",
              "       'us_10_treasury_MA2Y', 'Quarter', 'COE', 'COE_MA1Y', 'COE_MA2Y',\n",
              "       'YearQuarter', '영업이익(원)', '금융손익(비영업)(원)', '관계기업투자등관련손익(비영업)(원)',\n",
              "       '총자본(원)', '영업이익(원)_mean', '금융손익(비영업)(원)_mean',\n",
              "       '관계기업투자등관련손익(비영업)(원)_mean', '총자본(원)_mean', '순이익', 'ROE', 'gm'],\n",
              "      dtype='object')"
            ]
          },
          "execution_count": 61,
          "metadata": {},
          "output_type": "execute_result"
        }
      ],
      "source": [
        "df_cleaned.columns"
      ]
    }
  ],
  "metadata": {
    "colab": {
      "provenance": []
    },
    "kernelspec": {
      "display_name": "Python 3 (ipykernel)",
      "language": "python",
      "name": "python3"
    },
    "language_info": {
      "codemirror_mode": {
        "name": "ipython",
        "version": 3
      },
      "file_extension": ".py",
      "mimetype": "text/x-python",
      "name": "python",
      "nbconvert_exporter": "python",
      "pygments_lexer": "ipython3",
      "version": "3.8.18"
    }
  },
  "nbformat": 4,
  "nbformat_minor": 5
}
