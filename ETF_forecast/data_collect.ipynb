{
 "cells": [
  {
   "cell_type": "markdown",
   "metadata": {},
   "source": [
    "### 주가 예측 프로젝트에 사용할 데이터 생성\n",
    "- python ver: 3.8.18\n",
    "- Start date: 2024-03-02\n",
    "\n",
    "- ETF:\n",
    "    - IYT(Transportation)\n",
    "    - SOXX(Semiconductor)\n",
    "    - XLP(Consumer Staples)\n",
    "    - IBB(Biotech)\n",
    "    - KBWB(Bank) *start from 2012\n",
    "- Cryptocurrency:\n",
    "    - Bitcoin(\"BTC-USD\")\n",
    "- Stock:\n",
    "    - Amazon(\"AMZN\")\n",
    "    - Apple(\"AAPL\")"
   ]
  },
  {
   "cell_type": "code",
   "execution_count": 1,
   "metadata": {},
   "outputs": [],
   "source": [
    "import yfinance as yf\n",
    "import pandas as pd\n",
    "import warnings\n",
    "warnings.filterwarnings(action='ignore')"
   ]
  },
  {
   "cell_type": "code",
   "execution_count": 2,
   "metadata": {},
   "outputs": [
    {
     "name": "stdout",
     "output_type": "stream",
     "text": [
      "[*********************100%%**********************]  1 of 1 completed\n",
      "[*********************100%%**********************]  1 of 1 completed\n",
      "[*********************100%%**********************]  1 of 1 completed\n",
      "[*********************100%%**********************]  1 of 1 completed\n",
      "[*********************100%%**********************]  1 of 1 completed\n",
      "[*********************100%%**********************]  1 of 1 completed\n",
      "[*********************100%%**********************]  1 of 1 completed\n",
      "[*********************100%%**********************]  1 of 1 completed\n",
      "[*********************100%%**********************]  1 of 1 completed\n",
      "[*********************100%%**********************]  1 of 1 completed\n"
     ]
    }
   ],
   "source": [
    "# # 시작 날짜와 종료 날짜 설정\n",
    "# start_date = '2004-01-01'\n",
    "# end_date = '2024-01-01'\n",
    "\n",
    "# # 지수, 종목의 심볼\n",
    "# benchmarks = ['^GSPC', '^IXIC']\n",
    "# targets = ['IYT', 'SOXX', 'XLP', 'IBB', 'KBWB', 'BTC-USD', 'AMZN', 'AAPL']\n",
    "\n",
    "# # 데이터를 저장할 빈 딕셔너리 생성\n",
    "# bench_data = {}\n",
    "# target_data = {}\n",
    "\n",
    "# # 각 지수별로 데이터를 가져와서 딕셔너리에 저장\n",
    "# for benchmark in benchmarks:\n",
    "#     bench_data[benchmark] = yf.download(benchmark, start=start_date, end=end_date)\n",
    "\n",
    "# for target in targets:\n",
    "#     target_data[target] = yf.download(target, start=start_date, end=end_date)\n",
    "    "
   ]
  },
  {
   "cell_type": "code",
   "execution_count": 8,
   "metadata": {},
   "outputs": [],
   "source": [
    "# # 데이터 저장할 파일명 설정\n",
    "# file_path = './data/'\n",
    "\n",
    "# # 20년간 지수 데이터 내보내기\n",
    "# bench_data['^GSPC'].to_csv(file_path+'SP500.csv', index=True)\n",
    "# bench_data['^IXIC'].to_csv(file_path+'NASDAQ.csv', index=True)\n",
    "\n",
    "# target_data['IYT'].to_csv(file_path+'IYT.csv', index=True)\n",
    "# target_data['SOXX'].to_csv(file_path+'SOXX.csv', index=True)\n",
    "# target_data['XLP'].to_csv(file_path+'XLP.csv', index=True)\n",
    "# target_data['IBB'].to_csv(file_path+'IBB.csv', index=True)\n",
    "# target_data['KBWB'].to_csv(file_path+'KBWB.csv', index=True)\n",
    "\n",
    "# target_data['BTC-USD'].to_csv(file_path+'BTC-USD.csv', index=True)\n",
    "\n",
    "# target_data['AAPL'].to_csv(file_path+'APPLE.csv', index=True)\n",
    "# target_data['AMZN'].to_csv(file_path+'AMAZON.csv', index=True)\n"
   ]
  },
  {
   "cell_type": "code",
   "execution_count": 3,
   "metadata": {},
   "outputs": [
    {
     "name": "stdout",
     "output_type": "stream",
     "text": [
      "[*********************100%%**********************]  1 of 1 completed\n",
      "[*********************100%%**********************]  1 of 1 completed\n",
      "[*********************100%%**********************]  1 of 1 completed\n",
      "[*********************100%%**********************]  1 of 1 completed\n",
      "[*********************100%%**********************]  1 of 1 completed\n",
      "[*********************100%%**********************]  1 of 1 completed\n",
      "[*********************100%%**********************]  1 of 1 completed\n",
      "[*********************100%%**********************]  1 of 1 completed\n",
      "[*********************100%%**********************]  1 of 1 completed\n",
      "[*********************100%%**********************]  1 of 1 completed\n",
      "[*********************100%%**********************]  1 of 1 completed\n",
      "[*********************100%%**********************]  1 of 1 completed\n"
     ]
    }
   ],
   "source": [
    "# 시작 날짜와 종료 날짜 설정\n",
    "start_date = '2004-01-01'\n",
    "end_date = '2024-01-01'\n",
    "\n",
    "# 지수, 종목의 심볼\n",
    "benchmarks = ['^GSPC', '^IXIC']\n",
    "targets = ['SOXX', 'QQQ', 'XLF', 'CARZ', 'VOX', 'PBJ', 'PJP', 'XLE', 'XLU', 'ITA']\n",
    "\n",
    "# 데이터를 저장할 빈 딕셔너리 생성\n",
    "bench_data = {}\n",
    "target_data = {}\n",
    "\n",
    "# 각 지수별로 데이터를 가져와서 딕셔너리에 저장\n",
    "for benchmark in benchmarks:\n",
    "    bench_data[benchmark] = yf.download(benchmark, start=start_date, end=end_date)\n",
    "\n",
    "for target in targets:\n",
    "    target_data[target] = yf.download(target, start=start_date, end=end_date)\n",
    "    "
   ]
  },
  {
   "cell_type": "code",
   "execution_count": 4,
   "metadata": {},
   "outputs": [],
   "source": [
    "# 데이터 저장할 파일명 설정\n",
    "file_path = './data/'\n",
    "\n",
    "# 20년간 지수 데이터 내보내기\n",
    "bench_data['^GSPC'].to_csv(file_path+'SP500.csv', index=True)\n",
    "bench_data['^IXIC'].to_csv(file_path+'NASDAQ.csv', index=True)\n",
    "\n",
    "target_data['SOXX'].to_csv(file_path+'SOXX.csv', index=True)\n",
    "target_data['QQQ'].to_csv(file_path+'QQQ.csv', index=True)\n",
    "target_data['XLF'].to_csv(file_path+'XLF.csv', index=True)\n",
    "target_data['CARZ'].to_csv(file_path+'CARZ.csv', index=True)\n",
    "target_data['VOX'].to_csv(file_path+'VOX.csv', index=True)\n",
    "target_data['PBJ'].to_csv(file_path+'PBJ.csv', index=True)\n",
    "target_data['PJP'].to_csv(file_path+'PJP.csv', index=True)\n",
    "target_data['XLE'].to_csv(file_path+'XLE.csv', index=True)\n",
    "target_data['XLU'].to_csv(file_path+'XLU.csv', index=True)\n",
    "target_data['ITA'].to_csv(file_path+'ITA.csv', index=True)\n"
   ]
  },
  {
   "cell_type": "code",
   "execution_count": null,
   "metadata": {},
   "outputs": [],
   "source": []
  }
 ],
 "metadata": {
  "kernelspec": {
   "display_name": "Python 3",
   "language": "python",
   "name": "python3"
  },
  "language_info": {
   "codemirror_mode": {
    "name": "ipython",
    "version": 3
   },
   "file_extension": ".py",
   "mimetype": "text/x-python",
   "name": "python",
   "nbconvert_exporter": "python",
   "pygments_lexer": "ipython3",
   "version": "3.8.18"
  }
 },
 "nbformat": 4,
 "nbformat_minor": 2
}
