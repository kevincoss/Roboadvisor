{
 "cells": [
  {
   "cell_type": "markdown",
   "id": "9aef60ca-2344-43ef-99f8-a535ae0c3953",
   "metadata": {},
   "source": [
    "## GM 알고리즘 계산\n",
    "- 2023.11.01"
   ]
  },
  {
   "cell_type": "code",
   "execution_count": 1,
   "id": "590b7ceb-3ced-4d32-8889-52a51a0cee9a",
   "metadata": {
    "tags": []
   },
   "outputs": [],
   "source": [
    "import pandas as pd\n",
    "import matplotlib.pyplot as plt\n",
    "import numpy as np\n",
    "import seaborn as sns"
   ]
  },
  {
   "cell_type": "markdown",
   "id": "c4b51484-bb72-4dd1-b482-2123b4772e22",
   "metadata": {},
   "source": [
    "### ROE 계산할 데이터 가져오기"
   ]
  },
  {
   "cell_type": "code",
   "execution_count": 2,
   "id": "9d81943e-3aec-497b-80d5-c07b80b19823",
   "metadata": {
    "tags": []
   },
   "outputs": [],
   "source": [
    "# 데이터 가이드에서 가져온 데이터 불러오기\n",
    "data_guide_df = pd.read_excel(\"../FMguide_data/가치주.xlsx\")"
   ]
  },
  {
   "cell_type": "code",
   "execution_count": 3,
   "id": "5ac0086c-575c-4ef2-bcb9-c285250e8501",
   "metadata": {
    "tags": []
   },
   "outputs": [],
   "source": [
    "# 데이터 가이드 데이터프레임 전처리\n",
    "col = data_guide_df[11:12]"
   ]
  },
  {
   "cell_type": "code",
   "execution_count": 4,
   "id": "0b3ef74f-428f-411a-bf87-e5fe739d9cf6",
   "metadata": {
    "tags": []
   },
   "outputs": [],
   "source": [
    "data = data_guide_df[13:]"
   ]
  },
  {
   "cell_type": "code",
   "execution_count": 5,
   "id": "679672c6-30b5-4862-b85b-4092d3802845",
   "metadata": {
    "tags": []
   },
   "outputs": [],
   "source": [
    "# concat\n",
    "df = pd.concat([col, data])"
   ]
  },
  {
   "cell_type": "code",
   "execution_count": 6,
   "id": "2089c750-0c4d-4d15-955f-5295e1b29051",
   "metadata": {
    "tags": []
   },
   "outputs": [],
   "source": [
    "# 금융 수익 삭제(이미 금융 손익 컬럼이 존재. 이 컬럼만 사용해도 무방)\n",
    "df.drop(['Unnamed: 4'], axis=1, inplace=True)"
   ]
  },
  {
   "cell_type": "code",
   "execution_count": 7,
   "id": "15fb1b6a-a9d5-4fb2-8657-d6c0ccc3daef",
   "metadata": {
    "tags": []
   },
   "outputs": [],
   "source": [
    "# 첫행을 컬럼으로 지정\n",
    "df.columns = df.iloc[0]"
   ]
  },
  {
   "cell_type": "code",
   "execution_count": 8,
   "id": "be3da47c-e8c0-4fd5-8ede-238ff4650281",
   "metadata": {
    "tags": []
   },
   "outputs": [],
   "source": [
    "# 첫행 삭제(컬럼으로 이미 지정함)\n",
    "df.drop(df.index[0], inplace=True)"
   ]
  },
  {
   "cell_type": "code",
   "execution_count": 9,
   "id": "564ce812-a2bb-404d-b814-28fb7ec41502",
   "metadata": {
    "tags": []
   },
   "outputs": [],
   "source": [
    "# 첫열 이름 변경\n",
    "df.rename(columns= {'Item Name':'Date'}, inplace=True)"
   ]
  },
  {
   "cell_type": "code",
   "execution_count": 10,
   "id": "d93b9697-7bf3-4b2a-8317-725e09d608cd",
   "metadata": {
    "tags": []
   },
   "outputs": [],
   "source": [
    "# Date 컬럼 날짜 형식으로 바꿔주기\n",
    "df['Date'] = pd.to_datetime(df['Date']) "
   ]
  },
  {
   "cell_type": "code",
   "execution_count": 11,
   "id": "96a9cedb-ab4b-4b49-96fd-b4700514af63",
   "metadata": {
    "tags": []
   },
   "outputs": [],
   "source": [
    "# 원하는 날짜(2022-07-01 ~ 2023-06-31) 데이터만 가져오기\n",
    "df = df[(df['Date'] >= '2022-07-01') & (df['Date'] <= '2023-06-30')]"
   ]
  },
  {
   "cell_type": "code",
   "execution_count": 12,
   "id": "ea2f1678-c471-4fac-aab3-43c23ba47c9c",
   "metadata": {
    "tags": []
   },
   "outputs": [
    {
     "data": {
      "text/html": [
       "<div>\n",
       "<style scoped>\n",
       "    .dataframe tbody tr th:only-of-type {\n",
       "        vertical-align: middle;\n",
       "    }\n",
       "\n",
       "    .dataframe tbody tr th {\n",
       "        vertical-align: top;\n",
       "    }\n",
       "\n",
       "    .dataframe thead th {\n",
       "        text-align: right;\n",
       "    }\n",
       "</style>\n",
       "<table border=\"1\" class=\"dataframe\">\n",
       "  <thead>\n",
       "    <tr style=\"text-align: right;\">\n",
       "      <th>11</th>\n",
       "      <th>Date</th>\n",
       "      <th>영업이익(원)</th>\n",
       "      <th>금융손익(비영업)(원)</th>\n",
       "      <th>관계기업투자등관련손익(비영업)(원)</th>\n",
       "      <th>종가(원)</th>\n",
       "      <th>수정주가(원)</th>\n",
       "    </tr>\n",
       "  </thead>\n",
       "  <tbody>\n",
       "    <tr>\n",
       "      <th>142</th>\n",
       "      <td>2022-07-01</td>\n",
       "      <td>1357569000000</td>\n",
       "      <td>-191014000000</td>\n",
       "      <td>-75909000000</td>\n",
       "      <td>52800</td>\n",
       "      <td>52800</td>\n",
       "    </tr>\n",
       "    <tr>\n",
       "      <th>143</th>\n",
       "      <td>2022-07-04</td>\n",
       "      <td>1357569000000</td>\n",
       "      <td>-191014000000</td>\n",
       "      <td>-75909000000</td>\n",
       "      <td>53600</td>\n",
       "      <td>53600</td>\n",
       "    </tr>\n",
       "    <tr>\n",
       "      <th>144</th>\n",
       "      <td>2022-07-05</td>\n",
       "      <td>1357569000000</td>\n",
       "      <td>-191014000000</td>\n",
       "      <td>-75909000000</td>\n",
       "      <td>54200</td>\n",
       "      <td>54200</td>\n",
       "    </tr>\n",
       "    <tr>\n",
       "      <th>145</th>\n",
       "      <td>2022-07-06</td>\n",
       "      <td>1357569000000</td>\n",
       "      <td>-191014000000</td>\n",
       "      <td>-75909000000</td>\n",
       "      <td>53800</td>\n",
       "      <td>53800</td>\n",
       "    </tr>\n",
       "    <tr>\n",
       "      <th>146</th>\n",
       "      <td>2022-07-07</td>\n",
       "      <td>1357569000000</td>\n",
       "      <td>-191014000000</td>\n",
       "      <td>-75909000000</td>\n",
       "      <td>53800</td>\n",
       "      <td>53800</td>\n",
       "    </tr>\n",
       "  </tbody>\n",
       "</table>\n",
       "</div>"
      ],
      "text/plain": [
       "11        Date        영업이익(원)   금융손익(비영업)(원) 관계기업투자등관련손익(비영업)(원)  종가(원)  \\\n",
       "142 2022-07-01  1357569000000  -191014000000        -75909000000  52800   \n",
       "143 2022-07-04  1357569000000  -191014000000        -75909000000  53600   \n",
       "144 2022-07-05  1357569000000  -191014000000        -75909000000  54200   \n",
       "145 2022-07-06  1357569000000  -191014000000        -75909000000  53800   \n",
       "146 2022-07-07  1357569000000  -191014000000        -75909000000  53800   \n",
       "\n",
       "11  수정주가(원)  \n",
       "142   52800  \n",
       "143   53600  \n",
       "144   54200  \n",
       "145   53800  \n",
       "146   53800  "
      ]
     },
     "execution_count": 12,
     "metadata": {},
     "output_type": "execute_result"
    }
   ],
   "source": [
    "df.head()"
   ]
  },
  {
   "cell_type": "markdown",
   "id": "7712d22a-06e5-4f3a-836e-7ee0e618034e",
   "metadata": {},
   "source": [
    "### PBR 데이터 가져오기"
   ]
  },
  {
   "cell_type": "code",
   "execution_count": 13,
   "id": "ffa4aa6a-b706-407e-b6d3-dd00468012f5",
   "metadata": {
    "tags": []
   },
   "outputs": [],
   "source": [
    "# KRX(한국거래소)에서 받아온 기업별 pbr이 포함된 csv 파일 불러오기\n",
    "pbr_df = pd.read_csv('../pbr_data/sk_pbr_data.csv', encoding='EUC-KR')"
   ]
  },
  {
   "cell_type": "code",
   "execution_count": 14,
   "id": "e5839c06-d74a-4db6-8e08-fbb301a2f810",
   "metadata": {
    "tags": []
   },
   "outputs": [],
   "source": [
    "# 필요한 컬럼만 가져오기\n",
    "pbr_df = pbr_df[['일자','PBR']]"
   ]
  },
  {
   "cell_type": "code",
   "execution_count": 15,
   "id": "cf7479fe-100f-41cb-88d1-96af130360b6",
   "metadata": {
    "tags": []
   },
   "outputs": [],
   "source": [
    "# 일자 오름차순으로 정렬(df가 오름차순으로 되어 있어서 통일성 있게 하려고)\n",
    "pbr_df = pbr_df.sort_values(by='일자')"
   ]
  },
  {
   "cell_type": "code",
   "execution_count": 16,
   "id": "4986be32-ecca-4003-af82-69edb4b83f2e",
   "metadata": {
    "tags": []
   },
   "outputs": [],
   "source": [
    "# 일자 컬럼을 Date 변경\n",
    "pbr_df.rename(columns={'일자':'Date'}, inplace=True)"
   ]
  },
  {
   "cell_type": "code",
   "execution_count": 17,
   "id": "1a41da43-84bb-4bf4-8883-802705a45f68",
   "metadata": {
    "tags": []
   },
   "outputs": [],
   "source": [
    "# 시간 타입으로 변경\n",
    "pbr_df['Date'] = pd.to_datetime(pbr_df['Date']) "
   ]
  },
  {
   "cell_type": "code",
   "execution_count": 18,
   "id": "673f95f7-986c-4f2d-8240-d24cd253a757",
   "metadata": {
    "tags": []
   },
   "outputs": [],
   "source": [
    "# df와 pbr_df를 Date 컬럼을 기준으로 merge\n",
    "df = pd.merge(df, pbr_df, on='Date', how='outer')"
   ]
  },
  {
   "cell_type": "code",
   "execution_count": 19,
   "id": "0cabf565-a54d-41fc-9183-ef7d5741ec15",
   "metadata": {
    "tags": []
   },
   "outputs": [
    {
     "data": {
      "text/html": [
       "<div>\n",
       "<style scoped>\n",
       "    .dataframe tbody tr th:only-of-type {\n",
       "        vertical-align: middle;\n",
       "    }\n",
       "\n",
       "    .dataframe tbody tr th {\n",
       "        vertical-align: top;\n",
       "    }\n",
       "\n",
       "    .dataframe thead th {\n",
       "        text-align: right;\n",
       "    }\n",
       "</style>\n",
       "<table border=\"1\" class=\"dataframe\">\n",
       "  <thead>\n",
       "    <tr style=\"text-align: right;\">\n",
       "      <th></th>\n",
       "      <th>Date</th>\n",
       "      <th>영업이익(원)</th>\n",
       "      <th>금융손익(비영업)(원)</th>\n",
       "      <th>관계기업투자등관련손익(비영업)(원)</th>\n",
       "      <th>종가(원)</th>\n",
       "      <th>수정주가(원)</th>\n",
       "      <th>PBR</th>\n",
       "    </tr>\n",
       "  </thead>\n",
       "  <tbody>\n",
       "    <tr>\n",
       "      <th>0</th>\n",
       "      <td>2022-07-01</td>\n",
       "      <td>1357569000000</td>\n",
       "      <td>-191014000000</td>\n",
       "      <td>-75909000000</td>\n",
       "      <td>52800</td>\n",
       "      <td>52800</td>\n",
       "      <td>0.99</td>\n",
       "    </tr>\n",
       "    <tr>\n",
       "      <th>1</th>\n",
       "      <td>2022-07-04</td>\n",
       "      <td>1357569000000</td>\n",
       "      <td>-191014000000</td>\n",
       "      <td>-75909000000</td>\n",
       "      <td>53600</td>\n",
       "      <td>53600</td>\n",
       "      <td>1.01</td>\n",
       "    </tr>\n",
       "    <tr>\n",
       "      <th>2</th>\n",
       "      <td>2022-07-05</td>\n",
       "      <td>1357569000000</td>\n",
       "      <td>-191014000000</td>\n",
       "      <td>-75909000000</td>\n",
       "      <td>54200</td>\n",
       "      <td>54200</td>\n",
       "      <td>1.02</td>\n",
       "    </tr>\n",
       "    <tr>\n",
       "      <th>3</th>\n",
       "      <td>2022-07-06</td>\n",
       "      <td>1357569000000</td>\n",
       "      <td>-191014000000</td>\n",
       "      <td>-75909000000</td>\n",
       "      <td>53800</td>\n",
       "      <td>53800</td>\n",
       "      <td>1.01</td>\n",
       "    </tr>\n",
       "    <tr>\n",
       "      <th>4</th>\n",
       "      <td>2022-07-07</td>\n",
       "      <td>1357569000000</td>\n",
       "      <td>-191014000000</td>\n",
       "      <td>-75909000000</td>\n",
       "      <td>53800</td>\n",
       "      <td>53800</td>\n",
       "      <td>1.01</td>\n",
       "    </tr>\n",
       "    <tr>\n",
       "      <th>...</th>\n",
       "      <td>...</td>\n",
       "      <td>...</td>\n",
       "      <td>...</td>\n",
       "      <td>...</td>\n",
       "      <td>...</td>\n",
       "      <td>...</td>\n",
       "      <td>...</td>\n",
       "    </tr>\n",
       "    <tr>\n",
       "      <th>256</th>\n",
       "      <td>2023-06-26</td>\n",
       "      <td>958187000000</td>\n",
       "      <td>-97545000000</td>\n",
       "      <td>9672000000</td>\n",
       "      <td>47350</td>\n",
       "      <td>47350</td>\n",
       "      <td>0.91</td>\n",
       "    </tr>\n",
       "    <tr>\n",
       "      <th>257</th>\n",
       "      <td>2023-06-27</td>\n",
       "      <td>958187000000</td>\n",
       "      <td>-97545000000</td>\n",
       "      <td>9672000000</td>\n",
       "      <td>47600</td>\n",
       "      <td>47600</td>\n",
       "      <td>0.92</td>\n",
       "    </tr>\n",
       "    <tr>\n",
       "      <th>258</th>\n",
       "      <td>2023-06-28</td>\n",
       "      <td>958187000000</td>\n",
       "      <td>-97545000000</td>\n",
       "      <td>9672000000</td>\n",
       "      <td>47650</td>\n",
       "      <td>47650</td>\n",
       "      <td>0.92</td>\n",
       "    </tr>\n",
       "    <tr>\n",
       "      <th>259</th>\n",
       "      <td>2023-06-29</td>\n",
       "      <td>958187000000</td>\n",
       "      <td>-97545000000</td>\n",
       "      <td>9672000000</td>\n",
       "      <td>46250</td>\n",
       "      <td>46250</td>\n",
       "      <td>0.89</td>\n",
       "    </tr>\n",
       "    <tr>\n",
       "      <th>260</th>\n",
       "      <td>2023-06-30</td>\n",
       "      <td>958187000000</td>\n",
       "      <td>-97545000000</td>\n",
       "      <td>9672000000</td>\n",
       "      <td>46600</td>\n",
       "      <td>46600</td>\n",
       "      <td>0.90</td>\n",
       "    </tr>\n",
       "  </tbody>\n",
       "</table>\n",
       "<p>261 rows × 7 columns</p>\n",
       "</div>"
      ],
      "text/plain": [
       "          Date        영업이익(원)   금융손익(비영업)(원) 관계기업투자등관련손익(비영업)(원)  종가(원)  \\\n",
       "0   2022-07-01  1357569000000  -191014000000        -75909000000  52800   \n",
       "1   2022-07-04  1357569000000  -191014000000        -75909000000  53600   \n",
       "2   2022-07-05  1357569000000  -191014000000        -75909000000  54200   \n",
       "3   2022-07-06  1357569000000  -191014000000        -75909000000  53800   \n",
       "4   2022-07-07  1357569000000  -191014000000        -75909000000  53800   \n",
       "..         ...            ...            ...                 ...    ...   \n",
       "256 2023-06-26   958187000000   -97545000000          9672000000  47350   \n",
       "257 2023-06-27   958187000000   -97545000000          9672000000  47600   \n",
       "258 2023-06-28   958187000000   -97545000000          9672000000  47650   \n",
       "259 2023-06-29   958187000000   -97545000000          9672000000  46250   \n",
       "260 2023-06-30   958187000000   -97545000000          9672000000  46600   \n",
       "\n",
       "    수정주가(원)   PBR  \n",
       "0     52800  0.99  \n",
       "1     53600  1.01  \n",
       "2     54200  1.02  \n",
       "3     53800  1.01  \n",
       "4     53800  1.01  \n",
       "..      ...   ...  \n",
       "256   47350  0.91  \n",
       "257   47600  0.92  \n",
       "258   47650  0.92  \n",
       "259   46250  0.89  \n",
       "260   46600  0.90  \n",
       "\n",
       "[261 rows x 7 columns]"
      ]
     },
     "execution_count": 19,
     "metadata": {},
     "output_type": "execute_result"
    }
   ],
   "source": [
    "df"
   ]
  },
  {
   "cell_type": "markdown",
   "id": "1ab74b34-9b22-4a9e-abe0-3889b329dee2",
   "metadata": {},
   "source": [
    "### COE 계산을 위한 rf 데이터 불러오기\n",
    "\n",
    "- rf: risk free(미국채 10년물)"
   ]
  },
  {
   "cell_type": "code",
   "execution_count": 20,
   "id": "4a04db52-41bf-4fb1-bc76-462b3755d081",
   "metadata": {
    "tags": []
   },
   "outputs": [
    {
     "name": "stdout",
     "output_type": "stream",
     "text": [
      "[*********************100%%**********************]  1 of 1 completed\n"
     ]
    },
    {
     "data": {
      "text/html": [
       "<div>\n",
       "<style scoped>\n",
       "    .dataframe tbody tr th:only-of-type {\n",
       "        vertical-align: middle;\n",
       "    }\n",
       "\n",
       "    .dataframe tbody tr th {\n",
       "        vertical-align: top;\n",
       "    }\n",
       "\n",
       "    .dataframe thead th {\n",
       "        text-align: right;\n",
       "    }\n",
       "</style>\n",
       "<table border=\"1\" class=\"dataframe\">\n",
       "  <thead>\n",
       "    <tr style=\"text-align: right;\">\n",
       "      <th></th>\n",
       "      <th>Open</th>\n",
       "      <th>High</th>\n",
       "      <th>Low</th>\n",
       "      <th>Close</th>\n",
       "      <th>Adj Close</th>\n",
       "      <th>Volume</th>\n",
       "    </tr>\n",
       "    <tr>\n",
       "      <th>Date</th>\n",
       "      <th></th>\n",
       "      <th></th>\n",
       "      <th></th>\n",
       "      <th></th>\n",
       "      <th></th>\n",
       "      <th></th>\n",
       "    </tr>\n",
       "  </thead>\n",
       "  <tbody>\n",
       "    <tr>\n",
       "      <th>2022-07-01</th>\n",
       "      <td>2.932</td>\n",
       "      <td>2.932</td>\n",
       "      <td>2.791</td>\n",
       "      <td>2.889</td>\n",
       "      <td>2.889</td>\n",
       "      <td>0</td>\n",
       "    </tr>\n",
       "    <tr>\n",
       "      <th>2022-07-05</th>\n",
       "      <td>2.871</td>\n",
       "      <td>2.871</td>\n",
       "      <td>2.780</td>\n",
       "      <td>2.809</td>\n",
       "      <td>2.809</td>\n",
       "      <td>0</td>\n",
       "    </tr>\n",
       "    <tr>\n",
       "      <th>2022-07-06</th>\n",
       "      <td>2.784</td>\n",
       "      <td>2.924</td>\n",
       "      <td>2.746</td>\n",
       "      <td>2.913</td>\n",
       "      <td>2.913</td>\n",
       "      <td>0</td>\n",
       "    </tr>\n",
       "    <tr>\n",
       "      <th>2022-07-07</th>\n",
       "      <td>2.937</td>\n",
       "      <td>3.017</td>\n",
       "      <td>2.928</td>\n",
       "      <td>3.008</td>\n",
       "      <td>3.008</td>\n",
       "      <td>0</td>\n",
       "    </tr>\n",
       "    <tr>\n",
       "      <th>2022-07-08</th>\n",
       "      <td>2.984</td>\n",
       "      <td>3.101</td>\n",
       "      <td>2.976</td>\n",
       "      <td>3.101</td>\n",
       "      <td>3.101</td>\n",
       "      <td>0</td>\n",
       "    </tr>\n",
       "    <tr>\n",
       "      <th>...</th>\n",
       "      <td>...</td>\n",
       "      <td>...</td>\n",
       "      <td>...</td>\n",
       "      <td>...</td>\n",
       "      <td>...</td>\n",
       "      <td>...</td>\n",
       "    </tr>\n",
       "    <tr>\n",
       "      <th>2023-06-23</th>\n",
       "      <td>3.727</td>\n",
       "      <td>3.760</td>\n",
       "      <td>3.692</td>\n",
       "      <td>3.739</td>\n",
       "      <td>3.739</td>\n",
       "      <td>0</td>\n",
       "    </tr>\n",
       "    <tr>\n",
       "      <th>2023-06-26</th>\n",
       "      <td>3.702</td>\n",
       "      <td>3.737</td>\n",
       "      <td>3.679</td>\n",
       "      <td>3.719</td>\n",
       "      <td>3.719</td>\n",
       "      <td>0</td>\n",
       "    </tr>\n",
       "    <tr>\n",
       "      <th>2023-06-27</th>\n",
       "      <td>3.714</td>\n",
       "      <td>3.776</td>\n",
       "      <td>3.692</td>\n",
       "      <td>3.768</td>\n",
       "      <td>3.768</td>\n",
       "      <td>0</td>\n",
       "    </tr>\n",
       "    <tr>\n",
       "      <th>2023-06-28</th>\n",
       "      <td>3.735</td>\n",
       "      <td>3.766</td>\n",
       "      <td>3.704</td>\n",
       "      <td>3.710</td>\n",
       "      <td>3.710</td>\n",
       "      <td>0</td>\n",
       "    </tr>\n",
       "    <tr>\n",
       "      <th>2023-06-29</th>\n",
       "      <td>3.747</td>\n",
       "      <td>3.868</td>\n",
       "      <td>3.747</td>\n",
       "      <td>3.854</td>\n",
       "      <td>3.854</td>\n",
       "      <td>0</td>\n",
       "    </tr>\n",
       "  </tbody>\n",
       "</table>\n",
       "<p>250 rows × 6 columns</p>\n",
       "</div>"
      ],
      "text/plain": [
       "             Open   High    Low  Close  Adj Close  Volume\n",
       "Date                                                     \n",
       "2022-07-01  2.932  2.932  2.791  2.889      2.889       0\n",
       "2022-07-05  2.871  2.871  2.780  2.809      2.809       0\n",
       "2022-07-06  2.784  2.924  2.746  2.913      2.913       0\n",
       "2022-07-07  2.937  3.017  2.928  3.008      3.008       0\n",
       "2022-07-08  2.984  3.101  2.976  3.101      3.101       0\n",
       "...           ...    ...    ...    ...        ...     ...\n",
       "2023-06-23  3.727  3.760  3.692  3.739      3.739       0\n",
       "2023-06-26  3.702  3.737  3.679  3.719      3.719       0\n",
       "2023-06-27  3.714  3.776  3.692  3.768      3.768       0\n",
       "2023-06-28  3.735  3.766  3.704  3.710      3.710       0\n",
       "2023-06-29  3.747  3.868  3.747  3.854      3.854       0\n",
       "\n",
       "[250 rows x 6 columns]"
      ]
     },
     "execution_count": 20,
     "metadata": {},
     "output_type": "execute_result"
    }
   ],
   "source": [
    "import yfinance as yf\n",
    "\n",
    "us_10_year = yf.download(\"^TNX\", start=\"2022-07-01\", end=\"2023-06-30\")\n",
    "us_10_year"
   ]
  },
  {
   "cell_type": "code",
   "execution_count": 21,
   "id": "f3020154-fdec-4dcb-84f6-f5bc23d30a47",
   "metadata": {
    "tags": []
   },
   "outputs": [],
   "source": [
    "# 미국채 Close 컬럼명 변경\n",
    "us_10_year.rename(columns={'Close':'us_10_treasury'}, inplace=True)"
   ]
  },
  {
   "cell_type": "code",
   "execution_count": 22,
   "id": "b117ab1a-ab37-4dec-8469-00d3910fba6d",
   "metadata": {
    "tags": []
   },
   "outputs": [],
   "source": [
    "# Date 인덱스를 컬럼으로\n",
    "us_10_year = us_10_year.reset_index()"
   ]
  },
  {
   "cell_type": "code",
   "execution_count": 23,
   "id": "1b6e9e31-ed97-49eb-b860-f1e91c2569cc",
   "metadata": {
    "tags": []
   },
   "outputs": [],
   "source": [
    "# 필요한 컬럼만 추출\n",
    "us_10_year = us_10_year[['Date', 'us_10_treasury']]"
   ]
  },
  {
   "cell_type": "code",
   "execution_count": 24,
   "id": "c7d95444-775e-407b-8565-166a9561832c",
   "metadata": {
    "tags": []
   },
   "outputs": [],
   "source": [
    "# 기존 df와 us_10_year데이터를 Date컬럼 기준으로 merge\n",
    "df = pd.merge(df, us_10_year, on='Date', how='outer')"
   ]
  },
  {
   "cell_type": "code",
   "execution_count": 25,
   "id": "6d61eea4-dac4-43ae-90f7-c9832cf9de1f",
   "metadata": {
    "tags": []
   },
   "outputs": [],
   "source": [
    "# na 존재하는 행 출력\n",
    "#df[df.isna().any(axis=1)]"
   ]
  },
  {
   "cell_type": "code",
   "execution_count": 26,
   "id": "7dc5015f-8ec3-40f8-8b60-cf431ea5b6cb",
   "metadata": {
    "tags": []
   },
   "outputs": [],
   "source": [
    "# PBR이 NA인 행 삭제. PBR이 NA라는 것은 영업일이 아니라는 의미이기 때문\n",
    "df = df.dropna(subset=['PBR'])"
   ]
  },
  {
   "cell_type": "code",
   "execution_count": 27,
   "id": "0d3fe052-547b-4c60-a852-16c14cd849c6",
   "metadata": {
    "tags": []
   },
   "outputs": [],
   "source": [
    "# us_10_treasury의 na 값을 ffill로(전날)데이터로 채워줌\n",
    "df['us_10_treasury'] = df['us_10_treasury'].fillna(method='ffill')"
   ]
  },
  {
   "cell_type": "markdown",
   "id": "c7816839-077c-4d21-9caa-cd824d8fdfbe",
   "metadata": {
    "tags": []
   },
   "source": [
    "Equity의 값은 데이터가 아니라 수동으로 가져옴\n",
    "\n",
    "URL: https://comp.fnguide.com/SVO2/ASP/SVD_Finance.asp?pGB=1&gicode=A017670&cID=&MenuYn=Y&ReportGB=B&NewMenuID=103&stkGb=701\n",
    "\n",
    "- 2022년 3분기: 10515800000000\n",
    "- 2022년 4분기: 10383400000000\n",
    "- 2023년 1분기: 10689100000000\n",
    "- 2023년 2분기: 10685400000000"
   ]
  },
  {
   "cell_type": "code",
   "execution_count": 28,
   "id": "52ac72d8-cf9d-4830-b03b-5ba01810b13c",
   "metadata": {
    "tags": []
   },
   "outputs": [],
   "source": [
    "# 분기별로 나누는 코드\n",
    "def get_quarter(date):\n",
    "    if date >= pd.Timestamp('2022-01-01') and date <= pd.Timestamp('2022-03-31'):\n",
    "        return '2022Q1'\n",
    "    elif date >= pd.Timestamp('2022-04-01') and date <= pd.Timestamp('2022-06-30'):\n",
    "        return '2022Q2'\n",
    "    elif date >= pd.Timestamp('2022-07-01') and date <= pd.Timestamp('2022-09-30'):\n",
    "        return '2022Q3'\n",
    "    elif date >= pd.Timestamp('2022-10-01') and date <= pd.Timestamp('2022-12-31'):\n",
    "        return '2022Q4'\n",
    "    elif date >= pd.Timestamp('2023-01-01') and date <= pd.Timestamp('2023-03-31'):\n",
    "        return '2023Q1'\n",
    "    elif date >= pd.Timestamp('2023-04-01') and date <= pd.Timestamp('2023-06-30'):\n",
    "        return '2023Q2'\n",
    "    else:\n",
    "        return None\n",
    "\n",
    "df['Quarter'] = df['Date'].apply(get_quarter)"
   ]
  },
  {
   "cell_type": "code",
   "execution_count": 29,
   "id": "2835fe22-e4ee-4446-b94d-c0d136af0f63",
   "metadata": {
    "tags": []
   },
   "outputs": [],
   "source": [
    "# 해당하는 분기에 위에서 수동으로 가져온 equity 값 넣기\n",
    "def assign_value(quarter):\n",
    "    values = {\n",
    "        '2022Q3': 10515800000000,\n",
    "        '2022Q4': 10383400000000,\n",
    "        '2023Q1': 10689100000000,\n",
    "        '2023Q2': 10685400000000\n",
    "    }\n",
    "    return values.get(quarter, None)\n",
    "\n",
    "df['equity'] = df['Quarter'].apply(assign_value)"
   ]
  },
  {
   "cell_type": "markdown",
   "id": "5e94e3c7-3deb-41d0-81bc-2cd1be661252",
   "metadata": {
    "tags": []
   },
   "source": [
    "### ROE 계산\n",
    "\n",
    "순이익 = 영업이익 + 금융손익 + EMS *(1-20%)\n",
    "\n",
    "(1-20%): 법인세"
   ]
  },
  {
   "cell_type": "code",
   "execution_count": 30,
   "id": "bdae4950-f482-405f-8e36-eb1c996e02b2",
   "metadata": {
    "tags": []
   },
   "outputs": [],
   "source": [
    "# 세전이익 생성\n",
    "df['세전이익'] = df['영업이익(원)'] + df['금융손익(비영업)(원)'] + df['관계기업투자등관련손익(비영업)(원)']"
   ]
  },
  {
   "cell_type": "code",
   "execution_count": 31,
   "id": "5efcc2cc-0ce7-4c5b-bd5a-694799b99042",
   "metadata": {
    "tags": []
   },
   "outputs": [],
   "source": [
    "# 순이익 계산\n",
    "df['순이익'] = df['세전이익'] * (1-0.2) # 0.2 = 20%"
   ]
  },
  {
   "cell_type": "code",
   "execution_count": 32,
   "id": "278bd9a0-67bd-471d-b1cd-2c2b085e640b",
   "metadata": {
    "tags": []
   },
   "outputs": [],
   "source": [
    "# ROE 계산\n",
    "df['ROE'] = df['순이익'] / df['equity']"
   ]
  },
  {
   "cell_type": "code",
   "execution_count": 33,
   "id": "76e7dbce-6c5b-4168-91d9-138ed09ffbd8",
   "metadata": {
    "tags": []
   },
   "outputs": [],
   "source": [
    "# ROE 평균 계산\n",
    "roe_values = df['ROE'].value_counts().index"
   ]
  },
  {
   "cell_type": "code",
   "execution_count": 34,
   "id": "1ef23469-2db4-4a01-a0ef-c204983d82f0",
   "metadata": {
    "tags": []
   },
   "outputs": [],
   "source": [
    "# roe_values를 리스트로 변환하고, 각 원소를 float으로 변환합니다.\n",
    "roe_values_numeric = [float(value) for value in roe_values]\n",
    "\n",
    "# 평균 roe 계산\n",
    "roe_average = sum(roe_values_numeric) / len(roe_values_numeric)"
   ]
  },
  {
   "cell_type": "code",
   "execution_count": 35,
   "id": "24cdeb52-78a8-427f-9f55-bc069b9039c4",
   "metadata": {
    "tags": []
   },
   "outputs": [],
   "source": [
    "# ROE 값 지정\n",
    "df['ROE'] = roe_average"
   ]
  },
  {
   "cell_type": "markdown",
   "id": "bb87f527-7c6b-4435-aae7-7ee69d3996a8",
   "metadata": {
    "tags": []
   },
   "source": [
    "### COE 계산\n",
    "\n",
    "COE = rf + Beta(MRP)\n",
    "\n",
    "- Beta: 1\n",
    "- MRP: 4%\n",
    "- rf: 미국 국채 10년물"
   ]
  },
  {
   "cell_type": "code",
   "execution_count": 36,
   "id": "9512ed9c-2229-48cd-a3ea-e410541efa60",
   "metadata": {
    "tags": []
   },
   "outputs": [],
   "source": [
    "# beta랑 MRP 값\n",
    "beta = 1\n",
    "MRP = 0.04"
   ]
  },
  {
   "cell_type": "code",
   "execution_count": 37,
   "id": "2912f2a3-4bc6-4576-8a04-9de639e85e2f",
   "metadata": {
    "tags": []
   },
   "outputs": [],
   "source": [
    "df['COE'] = df['us_10_treasury'] + beta*MRP"
   ]
  },
  {
   "cell_type": "code",
   "execution_count": 38,
   "id": "54c40fc9-80d8-477f-8f88-1f07e94d5566",
   "metadata": {
    "tags": []
   },
   "outputs": [],
   "source": [
    "# ROE 단위 변경 -> % 단위로 변경\n",
    "df['ROE'] = df['ROE'] * 100"
   ]
  },
  {
   "cell_type": "markdown",
   "id": "ae4256ce-ebcb-4f53-9362-501c99a21a4d",
   "metadata": {
    "tags": []
   },
   "source": [
    "### growth multiplier 계산\n",
    "\n",
    "gm = PBR * COE / ROE"
   ]
  },
  {
   "cell_type": "code",
   "execution_count": 39,
   "id": "0a583c49-4913-4dc7-9d5e-2808798d0f59",
   "metadata": {
    "tags": []
   },
   "outputs": [],
   "source": [
    "df['gm'] = (df['PBR'] * df['COE']) / df['ROE']"
   ]
  },
  {
   "cell_type": "code",
   "execution_count": 40,
   "id": "00e3f821-b81f-48d7-87c4-3f0b1db462a9",
   "metadata": {
    "tags": []
   },
   "outputs": [],
   "source": [
    "# 모든 행 출력되도록\n",
    "#pd.set_option('display.max_rows', None)"
   ]
  },
  {
   "cell_type": "markdown",
   "id": "edae5aad-44e6-4480-aa70-f322fad61a61",
   "metadata": {},
   "source": [
    "### 시점&수익률 생성 "
   ]
  },
  {
   "cell_type": "code",
   "execution_count": 41,
   "id": "b4563b6c-ce06-483c-b14e-93194df5acc4",
   "metadata": {
    "tags": []
   },
   "outputs": [],
   "source": [
    "# 각 시점의 일주일, 이주일, 한달뒤 종가 값을 가진 컬럼 생성\n",
    "df['수정주가_1주후'] = df['수정주가(원)'].shift(-5) # 1주\n",
    "df['수정주가_2주후'] = df['수정주가(원)'].shift(-10) # 2주\n",
    "df['수정주가_1달후'] = df['수정주가(원)'].shift(-20) # 1달\n",
    "df['수정주가_3달후'] = df['수정주가(원)'].shift(-60) # 3달\n",
    "df['수정주가_6달후'] = df['수정주가(원)'].shift(-120) # 6달"
   ]
  },
  {
   "cell_type": "markdown",
   "id": "693b6bc3-8621-4ff2-abbe-3c9855c6e802",
   "metadata": {},
   "source": [
    "### 일반 수익률"
   ]
  },
  {
   "cell_type": "code",
   "execution_count": 42,
   "id": "869be729-d397-4f2f-a8d1-8c1462af247f",
   "metadata": {
    "tags": []
   },
   "outputs": [],
   "source": [
    "# 각 시점의 1주후, 2주후, 한달후 수익률 구하기 + 수익률 -> %로\n",
    "df['수익률_1주후'] = (df['수정주가_1주후'] - df['수정주가(원)']) / df['수정주가(원)'] * 100\n",
    "df['수익률_2주후'] = (df['수정주가_2주후'] - df['수정주가(원)']) / df['수정주가(원)'] * 100\n",
    "df['수익률_1달후'] = (df['수정주가_1달후'] - df['수정주가(원)']) / df['수정주가(원)'] * 100\n",
    "df['수익률_3달후'] = (df['수정주가_3달후'] - df['수정주가(원)']) / df['수정주가(원)'] * 100\n",
    "df['수익률_6달후'] = (df['수정주가_6달후'] - df['수정주가(원)']) / df['수정주가(원)'] * 100"
   ]
  },
  {
   "cell_type": "markdown",
   "id": "a4530df3-bd27-40db-b430-897378ae7ba8",
   "metadata": {},
   "source": [
    "### 코스피(시장) 수익률 계산"
   ]
  },
  {
   "cell_type": "code",
   "execution_count": 43,
   "id": "523f5f34-db69-4fda-be79-56be496352a7",
   "metadata": {
    "tags": []
   },
   "outputs": [],
   "source": [
    "import FinanceDataReader as fdr\n",
    "\n",
    "# 코스피 지수 데이터 가져오기\n",
    "df_kospi = fdr.DataReader('KS11', '2022-07-01', '2023-06-30')"
   ]
  },
  {
   "cell_type": "code",
   "execution_count": 44,
   "id": "90124231-2170-4cfd-b574-05d8746da536",
   "metadata": {
    "tags": []
   },
   "outputs": [],
   "source": [
    "df_kospi = df_kospi.reset_index() # 'Date' 인덱스를 컬럼으로 변환\n",
    "df = df.merge(df_kospi[['Date', 'Adj Close']]) # df에 df_kospi \"Adj Close\" 값 병합\n",
    "df.rename(columns={'Adj Close': 'kospi'}, inplace=True) # 컬럼명 변경"
   ]
  },
  {
   "cell_type": "code",
   "execution_count": 45,
   "id": "b58e5099-8f5f-402f-8fed-6ed4e2e88352",
   "metadata": {
    "tags": []
   },
   "outputs": [],
   "source": [
    "# 각 시점의 일주일, 이주일, 한달뒤 종가 값을 가진 컬럼 생성\n",
    "df['kospi_1주후'] = df['kospi'].shift(-5) # 1주\n",
    "df['kospi_2주후'] = df['kospi'].shift(-10) # 2주\n",
    "df['kospi_1달후'] = df['kospi'].shift(-20) # 1달\n",
    "df['kospi_3달후'] = df['kospi'].shift(-60) # 3달\n",
    "df['kospi_6달후'] = df['kospi'].shift(-120) # 6달"
   ]
  },
  {
   "cell_type": "code",
   "execution_count": 46,
   "id": "58082980-8ef2-4ca1-8ccb-195ac0eec15e",
   "metadata": {
    "tags": []
   },
   "outputs": [],
   "source": [
    "# 각 시점의 1주후, 2주후, 한달후 수익률 구하기 + 수익률 -> %로\n",
    "df['kospi_수익률_1주후'] = (df['kospi_1주후'] - df['kospi']) / df['kospi'] * 100\n",
    "df['kospi_수익률_2주후'] = (df['kospi_2주후'] - df['kospi']) / df['kospi'] * 100\n",
    "df['kospi_수익률_1달후'] = (df['kospi_1달후'] - df['kospi']) / df['kospi'] * 100\n",
    "df['kospi_수익률_3달후'] = (df['kospi_3달후'] - df['kospi']) / df['kospi'] * 100\n",
    "df['kospi_수익률_6달후'] = (df['kospi_6달후'] - df['kospi']) / df['kospi'] * 100"
   ]
  },
  {
   "cell_type": "code",
   "execution_count": 47,
   "id": "04ae3f39-40ff-4306-ab1f-524195f58885",
   "metadata": {
    "tags": []
   },
   "outputs": [],
   "source": [
    "# 지수를 얼마나 이겼는지 (상대)수익률\n",
    "df['상대수익률_1주후'] = df['수익률_1주후'] - df['kospi_수익률_1주후']\n",
    "df['상대수익률_2주후'] = df['수익률_2주후'] - df['kospi_수익률_2주후']\n",
    "df['상대수익률_1달후'] = df['수익률_1달후'] - df['kospi_수익률_1달후']\n",
    "df['상대수익률_3달후'] = df['수익률_3달후'] - df['kospi_수익률_3달후']\n",
    "df['상대수익률_6달후'] = df['수익률_6달후'] - df['kospi_수익률_6달후']"
   ]
  },
  {
   "cell_type": "markdown",
   "id": "a9fb3742",
   "metadata": {},
   "source": [
    "### 데이터 내보내기"
   ]
  },
  {
   "cell_type": "code",
   "execution_count": 48,
   "id": "1a5423d1",
   "metadata": {},
   "outputs": [],
   "source": [
    "import os\n",
    "\n",
    "# 저장할 폴더 경로 지정\n",
    "folder_path = '../gm_data'\n",
    "\n",
    "# 폴더가 없으면 생성\n",
    "if not os.path.exists(folder_path):\n",
    "    os.makedirs(folder_path)\n",
    "\n",
    "# CSV 파일 저장\n",
    "df.to_csv(f'{folder_path}/SK_gm_df.csv', index=False)\n"
   ]
  },
  {
   "cell_type": "code",
   "execution_count": null,
   "id": "5633a249",
   "metadata": {},
   "outputs": [],
   "source": []
  }
 ],
 "metadata": {
  "kernelspec": {
   "display_name": "Python 3 (ipykernel)",
   "language": "python",
   "name": "python3"
  },
  "language_info": {
   "codemirror_mode": {
    "name": "ipython",
    "version": 3
   },
   "file_extension": ".py",
   "mimetype": "text/x-python",
   "name": "python",
   "nbconvert_exporter": "python",
   "pygments_lexer": "ipython3",
   "version": "3.11.4"
  }
 },
 "nbformat": 4,
 "nbformat_minor": 5
}
